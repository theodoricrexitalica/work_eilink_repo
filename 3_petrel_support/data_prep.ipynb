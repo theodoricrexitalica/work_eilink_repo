{
 "cells": [
  {
   "cell_type": "code",
   "execution_count": 1,
   "metadata": {},
   "outputs": [],
   "source": [
    "import pandas as pd"
   ]
  },
  {
   "cell_type": "code",
   "execution_count": 11,
   "metadata": {},
   "outputs": [],
   "source": [
    "data = pd.read_csv('ACG_traj.csv').iloc[1:]\n",
    "# data\n",
    "data.groupby('wellName')[['X','Y']].apply(lambda x: x.iloc[1]).to_csv('ACG_wellheads.prn', sep='\\t', index=True)"
   ]
  },
  {
   "cell_type": "code",
   "execution_count": 16,
   "metadata": {},
   "outputs": [],
   "source": [
    "tops = pd.read_csv('ACG_tops.csv').iloc[1:]\n",
    "tops = tops[['wellName','DEPTH','FORMATION']]\n",
    "tops.to_csv('ACG_tops.prn', sep='\\t', index=False)"
   ]
  }
 ],
 "metadata": {
  "kernelspec": {
   "display_name": "Python 3",
   "language": "python",
   "name": "python3"
  },
  "language_info": {
   "codemirror_mode": {
    "name": "ipython",
    "version": 3
   },
   "file_extension": ".py",
   "mimetype": "text/x-python",
   "name": "python",
   "nbconvert_exporter": "python",
   "pygments_lexer": "ipython3",
   "version": "3.11.4"
  }
 },
 "nbformat": 4,
 "nbformat_minor": 2
}
