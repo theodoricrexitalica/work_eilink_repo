{
 "cells": [
  {
   "cell_type": "markdown",
   "metadata": {},
   "source": [
    "# Libs"
   ]
  },
  {
   "cell_type": "code",
   "execution_count": 87,
   "metadata": {},
   "outputs": [],
   "source": [
    "import pandas as pd\n",
    "import numpy as np\n",
    "import matplotlib.pyplot as plt\n",
    "import seaborn as sns\n",
    "import glob\n",
    "import warnings\n",
    "warnings.filterwarnings('ignore')\n",
    "\n",
    "pd.set_option.display_precision = 3\n",
    "pd.set_option.display_float_format = lambda x: '%.5f' % x\n",
    "pd.set_option.display_max_columns = 15\n",
    "pd.set_option.display_max_rows = 6"
   ]
  },
  {
   "cell_type": "code",
   "execution_count": 2,
   "metadata": {},
   "outputs": [],
   "source": [
    "# def cut_azery_ntg_bal8(maps_ntg, dataset, margin_well):\n",
    "#     coef = 500\n",
    "#     Xmin = dataset.Xmean.min() - margin_well\n",
    "#     Xmax = dataset.Xmean.max() + margin_well\n",
    "#     Ymin = dataset.Ymean.min() - margin_well\n",
    "#     Ymax = dataset.Ymean.max() + margin_well\n",
    "\n",
    "#     maps_ntg = maps_ntg[(maps_ntg.X >= Xmin) &\n",
    "#                         (maps_ntg.X <= Xmax) &\n",
    "#                         (maps_ntg.Y >= Ymin) &\n",
    "#                         (maps_ntg.Y <= Ymax)]\n",
    "#     return maps_ntg\n",
    "\n",
    "# data = pd.read_csv('avg_magnitude', header=9, delim_whitespace=True, names=['X', 'Y', 'NTGcube'])\n",
    "# ntg8_azeri = cut_azery_ntg_bal8(data, df_bal8, margin_well=500)\n",
    "# ntg8_azeri.to_csv('ntg8_azeri.csv', index=False)\n",
    "\n",
    "# fig, ax = plt.subplots(figsize=(15, 10))\n",
    "# ax.scatter(ntg8_azeri['X'], ntg8_azeri['Y'], c=ntg8_azeri['NTGcube'], cmap='viridis', s=1)\n",
    "# # ax.scatter(ntg8_logs['Xmean'], ntg8_logs['Ymean'], s=100, c=ntg8_logs['VSH'], cmap='viridis', alpha=0.75, ec='black', lw=1)\n",
    "# plt.title('NTG cube Azery')"
   ]
  },
  {
   "cell_type": "code",
   "execution_count": 1,
   "metadata": {},
   "outputs": [],
   "source": [
    "# def cut_azery_ntg_bal8(maps_ntg, dataset, margin_well):\n",
    "#     coef = 500\n",
    "#     Xmin = dataset.Xmean.min() - margin_well\n",
    "#     Xmax = dataset.Xmean.max() + margin_well\n",
    "#     Ymin = dataset.Ymean.min() - margin_well\n",
    "#     Ymax = dataset.Ymean.max() + margin_well\n",
    "\n",
    "#     maps_ntg = maps_ntg[(maps_ntg.X >= Xmin) &\n",
    "#                         (maps_ntg.X <= Xmax) &\n",
    "#                         (maps_ntg.Y >= Ymin) &\n",
    "#                         (maps_ntg.Y <= Ymax)]\n",
    "#     return maps_ntg\n",
    "\n",
    "# data_reduce = pd.read_csv('avg_magnitude_reduce', header=9, delim_whitespace=True, names=['X', 'Y', 'NTGcube'])\n",
    "# ntg8_azeri_reduce = cut_azery_ntg_bal8(data_reduce, df_bal8, margin_well=500)\n",
    "# ntg8_azeri_reduce.to_csv('ntg8_azeri_reduce.csv', index=False)\n",
    "\n",
    "# fig, ax = plt.subplots(figsize=(15, 10))\n",
    "# ax.scatter(ntg8_azeri_reduce['X'], ntg8_azeri_reduce['Y'], c=ntg8_azeri_reduce['NTGcube'], cmap='viridis', s=1)\n",
    "# # ax.scatter(ntg8_logs['Xmean'], ntg8_logs['Ymean'], s=100, c=ntg8_logs['VSH'], cmap='viridis', alpha=0.75, ec='black', lw=1)\n",
    "# plt.title('NTG cube reduce Azery')"
   ]
  },
  {
   "cell_type": "markdown",
   "metadata": {},
   "source": [
    "# Bal8"
   ]
  },
  {
   "cell_type": "code",
   "execution_count": null,
   "metadata": {},
   "outputs": [],
   "source": [
    "def cut_azery_ntg_bal8(maps_ntg, dataset, margin_well):\n",
    "    coef = 500\n",
    "    Xmin = dataset.Xmean.min() - margin_well\n",
    "    Xmax = dataset.Xmean.max() + margin_well\n",
    "    Ymin = dataset.Ymean.min() - margin_well\n",
    "    Ymax = dataset.Ymean.max() + margin_well\n",
    "\n",
    "    maps_ntg = maps_ntg[(maps_ntg.X >= Xmin) &\n",
    "                        (maps_ntg.X <= Xmax) &\n",
    "                        (maps_ntg.Y >= Ymin) &\n",
    "                        (maps_ntg.Y <= Ymax)]\n",
    "    return maps_ntg\n",
    "\n",
    "df_bal8 = pd.read_csv(r'C:\\jupyter\\SPP\\inputoutput\\general_logs\\df_bal8_azr_v3.csv').drop(columns=['Unnamed: 0'])\n",
    "df_bal8 = df_bal8[df_bal8.FORMATION != 'Balakhany VIII']\n",
    "ntg8_logs = df_bal8.groupby('well').agg({'Xmean': lambda x: x.iloc[0], \n",
    "                                         'Ymean': lambda x: x.iloc[0], \n",
    "                                         'VSH':'mean'}).reset_index()\n",
    "\n",
    "data8_reduce_tie = pd.read_csv('avg_magnitude_reduce_tie8', header=9, delim_whitespace=True, names=['X', 'Y', 'VSH_avg_cube'])\n",
    "ntg8_azeri_reduce_tie = cut_azery_ntg_bal8(data8_reduce_tie, df_bal8, margin_well=500)\n",
    "ntg8_azeri_reduce_tie.to_csv('ntg8_azeri_reduce_tie.csv', index=False)\n",
    "\n",
    "fig, ax = plt.subplots(figsize=(15, 10))\n",
    "ax.scatter(ntg8_azeri_reduce_tie['X'], ntg8_azeri_reduce_tie['Y'], c=ntg8_azeri_reduce_tie['VSH_avg_cube'], cmap='viridis_r', s=1)\n",
    "plt.title('VSH_avg_cube reduce tie Azery');"
   ]
  },
  {
   "cell_type": "code",
   "execution_count": null,
   "metadata": {},
   "outputs": [],
   "source": [
    "print('X step', (ntg8_azeri_reduce_tie['X'].max() - ntg8_azeri_reduce_tie['X'].min())/len(ntg8_azeri_reduce_tie['X']))\n",
    "print('Y step', (ntg8_azeri_reduce_tie['Y'].max() - ntg8_azeri_reduce_tie['Y'].min())/len(ntg8_azeri_reduce_tie['Y']))"
   ]
  },
  {
   "cell_type": "code",
   "execution_count": null,
   "metadata": {},
   "outputs": [],
   "source": [
    "def ntg_from_grcube_map(maps_var, well_coords, zone_size, var):\n",
    "    df_lst = []\n",
    "    for wellname in well_coords.well.unique():\n",
    "        data_fm = well_coords[(well_coords.well == wellname)]\n",
    "        well_x = data_fm['Xmean'].values[0].round(0)\n",
    "        well_y = data_fm['Ymean'].values[0].round(0)\n",
    "        map_avg = maps_var[ (maps_var.X < well_x + zone_size) &\n",
    "                            (maps_var.X > well_x - zone_size) &\n",
    "                            (maps_var.Y < well_y + zone_size) &\n",
    "                            (maps_var.Y > well_y - zone_size)].reset_index(drop=True)\n",
    "        df_avg = map_avg[var].mean()\n",
    "        df = pd.DataFrame({'well': [wellname], 'Xmean': [well_x], 'Ymean': [well_y], \n",
    "                        '_'.join([var, str(zone_size)]): [df_avg]})\n",
    "        df_lst.append(df)\n",
    "    maps_ntg_wells_fm = pd.concat(df_lst).reset_index(drop=True)\n",
    "    return maps_ntg_wells_fm\n",
    "maps_ntg_wells_fm8 = ntg_from_grcube_map(ntg8_azeri_reduce_tie, ntg8_logs, 50, 'VSH_avg_cube')\n",
    "map_well_join8 = maps_ntg_wells_fm8.set_index('well').join(ntg8_logs[['well','VSH']].set_index('well')).reset_index().rename(columns={'VSH':'VSHmean'})\n",
    "map_well_join8.to_csv('ntg8_cube_vsh_wells.csv')\n",
    "\n",
    "def target_selection(dataset):\n",
    "    target = []\n",
    "    for col in dataset.columns:\n",
    "        if 'VSH_avg' in col:\n",
    "            target = col\n",
    "            break\n",
    "    return target\n",
    "target = target_selection(map_well_join8)\n",
    "sns.scatterplot(data=map_well_join8, x=target, y='VSHmean')\n",
    "plt.plot([0.3, 0.9], [0.3,0.9], c='red', ls='--')\n",
    "plt.plot([0.3, 0.9], [0.3,0.9*1.25], c='red', ls='--')\n",
    "plt.plot([0.3, 0.9], [0.3,0.9*0.75], c='red', ls='--')\n",
    "plt.title('NTG cube vs VSH logs Balakhany VIII +/- 25%')\n",
    "plt.grid()"
   ]
  },
  {
   "cell_type": "markdown",
   "metadata": {},
   "source": [
    "# Bal10"
   ]
  },
  {
   "cell_type": "code",
   "execution_count": null,
   "metadata": {},
   "outputs": [],
   "source": [
    "df_bal10 = pd.read_csv(r'C:\\jupyter\\SPP\\inputoutput\\general_logs\\df_bal10_vshclp2_v4.csv')\n",
    "df_bal10 = df_bal10[df_bal10.FORMATION != 'Balakhany X']\n",
    "ntg10_logs = df_bal10.groupby('well').agg({ 'Xmean': lambda x: x.iloc[0], \n",
    "                                            'Ymean': lambda x: x.iloc[0], \n",
    "                                            'VSH':'mean'}).reset_index()\n",
    "\n",
    "data_reduce_tie10 = pd.read_csv('avg_magnitude_reduce_tie10', header=9, delim_whitespace=True, names=['X', 'Y', 'NTGcube'])\n",
    "# ntg8_azeri_reduce_tie = cut_azery_ntg_bal8(data_reduce_tie10, df_bal10, margin_well=500)\n",
    "data_reduce_tie10.to_csv('ntg10_reduce_tie.csv', index=False)\n",
    "\n",
    "fig, ax = plt.subplots(figsize=(15, 10))\n",
    "ax.scatter(data_reduce_tie10['X'], data_reduce_tie10['Y'], c=data_reduce_tie10['NTGcube'], cmap='viridis', s=1)\n",
    "plt.title('VSH_avg Azery')"
   ]
  },
  {
   "cell_type": "code",
   "execution_count": null,
   "metadata": {},
   "outputs": [],
   "source": [
    "print('X step', (data_reduce_tie10['X'].max() - data_reduce_tie10['X'].min())/len(data_reduce_tie10['X']))\n",
    "print('Y step', (data_reduce_tie10['Y'].max() - data_reduce_tie10['Y'].min())/len(data_reduce_tie10['Y']))"
   ]
  },
  {
   "cell_type": "code",
   "execution_count": null,
   "metadata": {},
   "outputs": [],
   "source": [
    "def ntg_from_grcube_map(maps_var, well_coords, zone_size, var):\n",
    "    df_lst = []\n",
    "    for wellname in well_coords.well.unique():\n",
    "        data_fm = well_coords[(well_coords.well == wellname)]\n",
    "        well_x = data_fm['Xmean'].values[0].round(0)\n",
    "        well_y = data_fm['Ymean'].values[0].round(0)\n",
    "        map_avg = maps_var[ (maps_var.X < well_x + zone_size) &\n",
    "                            (maps_var.X > well_x - zone_size) &\n",
    "                            (maps_var.Y < well_y + zone_size) &\n",
    "                            (maps_var.Y > well_y - zone_size)].reset_index(drop=True)\n",
    "        df_avg = map_avg[var].mean()\n",
    "        df = pd.DataFrame({'well': [wellname], 'Xmean': [well_x], 'Ymean': [well_y], \n",
    "                        '_'.join([var, str(zone_size)]): [df_avg]})\n",
    "        df_lst.append(df)\n",
    "    maps_ntg_wells_fm = pd.concat(df_lst).reset_index(drop=True)\n",
    "    return maps_ntg_wells_fm\n",
    "maps_ntg_wells_fm10 = ntg_from_grcube_map(data_reduce_tie10, ntg10_logs, 50, 'NTGcube')\n",
    "map_well_join10 = maps_ntg_wells_fm10.set_index('well').join(ntg10_logs[['well','VSH']].set_index('well')).reset_index().rename(columns={'VSH':'VSHmean'})\n",
    "map_well_join10.to_csv('ntg10_cube_vsh_wells.csv')\n",
    "\n",
    "def target_selection(dataset):\n",
    "    target = []\n",
    "    for col in dataset.columns:\n",
    "        if 'NTG' in col:\n",
    "            target = col\n",
    "            break\n",
    "    return target\n",
    "target = target_selection(map_well_join10)\n",
    "sns.scatterplot(data=map_well_join10, x=target, y='VSHmean')\n",
    "plt.plot([0.3, 0.9], [0.3,0.9], c='red', ls='--')\n",
    "plt.plot([0.3, 0.9], [0.3,0.9*1.25], c='red', ls='--')\n",
    "plt.plot([0.3, 0.9], [0.3,0.9*0.75], c='red', ls='--')\n",
    "plt.title('NTG cube vs VSH logs Balakhany X +/- 25%')\n",
    "plt.grid()"
   ]
  },
  {
   "cell_type": "markdown",
   "metadata": {},
   "source": [
    "# Bal8 FU"
   ]
  },
  {
   "cell_type": "code",
   "execution_count": 88,
   "metadata": {},
   "outputs": [],
   "source": [
    "data = pd.read_csv(r'C:\\Petrel\\exports\\bal8fu\\5avg_magnitude_8_10', header=9, delim_whitespace=True, names=['x', 'y', 'vsh_avg_cube'])"
   ]
  },
  {
   "cell_type": "code",
   "execution_count": 89,
   "metadata": {},
   "outputs": [],
   "source": [
    "def cut_azery_ntg_bal8(maps_ntg, dataset, margin_well):\n",
    "    coef = 500\n",
    "    Xmin = dataset.xmean.min() - margin_well\n",
    "    Xmax = dataset.xmean.max() + margin_well\n",
    "    Ymin = dataset.ymean.min() - margin_well\n",
    "    Ymax = dataset.ymean.max() + margin_well\n",
    "\n",
    "    maps_ntg = maps_ntg[(maps_ntg.x >= Xmin) &\n",
    "                        (maps_ntg.x <= Xmax) &\n",
    "                        (maps_ntg.y >= Ymin) &\n",
    "                        (maps_ntg.y <= Ymax)]\n",
    "    return maps_ntg\n",
    "\n",
    "df_bal8 = pd.read_csv(r'C:\\jupyter\\SPP\\inputoutput\\general_logs\\df_bal8_azr_v4.csv')\n",
    "df_bal8.columns = df_bal8.columns.str.lower()\n",
    "df_bal8 = df_bal8[df_bal8.formation != 'Balakhany VIII']\n",
    "vsh8_logs = df_bal8.groupby('well').agg({'xmean': lambda x: x.iloc[0], \n",
    "                                         'ymean': lambda x: x.iloc[0], \n",
    "                                         'vsh':'mean'}).reset_index()\n",
    "\n",
    "file_list = glob.glob(r'C:\\Petrel\\exports\\bal8fu\\*')\n",
    "file_list = [file for file in file_list if '.csv' not in file]\n",
    "for idx, filename in enumerate(file_list):\n",
    "    suffix = file_list[idx].split('_')[-1]\n",
    "    order = idx + 1\n",
    "    data = pd.read_csv(filename, header=9, delim_whitespace=True, names=['x', 'y', 'vsh_avg_cube'])\n",
    "    data_reduce = cut_azery_ntg_bal8(data, df_bal8, margin_well=500)\n",
    "    data_reduce.to_csv(r'C:\\Petrel\\exports\\bal8fu\\\\' + str(order) + 'vshmap8_' + str(suffix) + '.csv', index=False)"
   ]
  },
  {
   "cell_type": "code",
   "execution_count": null,
   "metadata": {},
   "outputs": [],
   "source": [
    "file_list = glob.glob(r'C:\\Petrel\\exports\\bal8fu\\*.csv')\n",
    "for idx, filename in enumerate(file_list):\n",
    "    suffix = file_list[idx].split('_')[-1]\n",
    "    order = idx + 1\n",
    "    data = pd.read_csv(filename)\n",
    "    fig, ax = plt.subplots(figsize=(15, 10))\n",
    "    plot = ax.scatter(data['x'], data['y'], c=data['vsh_avg_cube'], cmap='viridis_r', s=1)\n",
    "    plt.colorbar(plot)\n",
    "    plt.title('VSH_avg_cube Bal8' + str(suffix));"
   ]
  },
  {
   "cell_type": "code",
   "execution_count": null,
   "metadata": {},
   "outputs": [],
   "source": [
    "bal8_10top = ['B02', 'B02Z', 'B13Z', 'B14Z', 'B16Y', 'B16Z', 'B19','B27Z', 'B34', 'B34Z', 'B37', 'B38Z']\n",
    "\n",
    "bal8_10_map = pd.read_csv(r'C:\\Petrel\\exports\\bal8fu\\\\5vshmap8_10.csv')\n",
    "bal8_10_map.loc[bal8_10_map['vsh_avg_cube'] > 0.5, 'color'] = 'green'\n",
    "bal8_10_map.loc[(bal8_10_map['vsh_avg_cube'] > 0.25) & \n",
    "                (bal8_10_map['vsh_avg_cube'] <= 0.5), 'color'] = 'orange'\n",
    "bal8_10_map.loc[bal8_10_map['vsh_avg_cube'] <= 0.25, 'color'] = 'yellow'\n",
    "fig, ax = plt.subplots(figsize=(15, 10))\n",
    "plot = ax.scatter(bal8_10_map['x'], bal8_10_map['y'], c=bal8_10_map['color'],s=1)\n",
    "plt.scatter(vsh8_logs[vsh8_logs.well.isin(bal8_10top)]['xmean'], \n",
    "            vsh8_logs[vsh8_logs.well.isin(bal8_10top)]['ymean'], \n",
    "            s=100, c='none', alpha=1, ec='black', lw=3)\n",
    "plt.scatter(vsh8_logs[~vsh8_logs.well.isin(bal8_10top)]['xmean'], \n",
    "            vsh8_logs[~vsh8_logs.well.isin(bal8_10top)]['ymean'], \n",
    "            s=50, c='none', alpha=1, ec='black', lw=1)\n",
    "plt.title('vsh_avg_cube Bal8_10');"
   ]
  }
 ],
 "metadata": {
  "kernelspec": {
   "display_name": "Python 3",
   "language": "python",
   "name": "python3"
  },
  "language_info": {
   "codemirror_mode": {
    "name": "ipython",
    "version": 3
   },
   "file_extension": ".py",
   "mimetype": "text/x-python",
   "name": "python",
   "nbconvert_exporter": "python",
   "pygments_lexer": "ipython3",
   "version": "3.11.4"
  }
 },
 "nbformat": 4,
 "nbformat_minor": 2
}
