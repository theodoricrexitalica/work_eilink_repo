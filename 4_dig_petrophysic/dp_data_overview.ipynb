{
 "cells": [
  {
   "cell_type": "markdown",
   "metadata": {},
   "source": [
    "# Libs"
   ]
  },
  {
   "cell_type": "code",
   "execution_count": 2,
   "metadata": {},
   "outputs": [],
   "source": [
    "import warnings\n",
    "warnings.filterwarnings('ignore')\n",
    "\n",
    "import pandas as pd\n",
    "import numpy as np\n",
    "import matplotlib.pyplot as plt\n",
    "import seaborn as sns\n",
    "from tqdm import tqdm\n",
    "import plotly.graph_objects as go\n",
    "import plotly.io as pio\n",
    "\n",
    "pd.options.display.precision = 3\n",
    "pd.options.display.float_format = lambda x: '%.5f' % x\n",
    "pd.options.display.max_columns = 15\n",
    "pd.options.display.max_rows = 6"
   ]
  },
  {
   "cell_type": "markdown",
   "metadata": {},
   "source": [
    "# Data uploading"
   ]
  },
  {
   "cell_type": "code",
   "execution_count": 170,
   "metadata": {},
   "outputs": [],
   "source": [
    "df_bal8_v4 = pd.read_csv(r'C:\\jupyter\\DP\\input\\logs8_ntd_v5.csv')\n",
    "def data_preprocessing8():\n",
    "    df_bal8_v4.columns = df_bal8_v4.columns.str.lower()\n",
    "    df_bal8_v4.loc[df_bal8_v4.formation=='Balakhany VIII sand','formation'] = '1_bal8_sand'\n",
    "    df_bal8_v4.loc[df_bal8_v4.formation=='Balakhany VIII 25','formation'] = '2_bal8_25'\n",
    "    df_bal8_v4.loc[df_bal8_v4.formation=='Balakhany VIII 20','formation'] = '3_bal8_20'\n",
    "    df_bal8_v4.loc[df_bal8_v4.formation=='Balakhany VIII 15','formation'] = '4_bal8_15'\n",
    "    df_bal8_v4.loc[df_bal8_v4.formation=='Balakhany VIII 10','formation'] = '5_bal8_10'\n",
    "    df_bal8_v4.loc[df_bal8_v4.formation=='Balakhany VIII 5','formation'] = '6_bal8_5'\n",
    "    well_phit_flag8 = df_bal8_v4[df_bal8_v4.phit_flag==1].groupby('well')['phit_flag'].apply(lambda x: x.iloc[0]).reset_index().well.unique()\n",
    "    df_bal8_v4_flag = df_bal8_v4[df_bal8_v4.well.isin(well_phit_flag8)]\n",
    "    return df_bal8_v4_flag\n",
    "df_bal8_v4_flag = data_preprocessing8()\n",
    "\n",
    "logs8_ntd_v5 = pd.read_csv(r'C:\\jupyter\\DP\\input\\logs8_ntd_v5.csv')\n",
    "logs8_ntd_v5.field = logs8_ntd_v6.field.str.lower()\n",
    "\n",
    "ntd_top_phi_bot8_bp_v4 = pd.read_csv(r'C:\\jupyter\\DP\\input\\ntd_top_phi_bot8_bp_v4.csv').drop('Unnamed: 0', axis=1)\n",
    "ntd_top_phi_bot8_bp_v4.columns = ntd_top_phi_bot8_bp_v4.columns.str.lower()\n",
    "\n",
    "df_bal10_v4 = pd.read_csv(r'C:\\jupyter\\DP\\input\\logs10_ntd_v4.csv')\n",
    "def data_preprocessing10():\n",
    "    df_bal10_v4.columns = df_bal10_v4.columns.str.lower()\n",
    "    df_bal10_v4.loc[df_bal10_v4.formation=='Balakhany X sand','formation'] = '1_bal10_sand'\n",
    "    df_bal10_v4.loc[df_bal10_v4.formation=='Balakhany X 50','formation'] = '2_bal10_40'\n",
    "    df_bal10_v4.loc[df_bal10_v4.formation=='Balakhany X 40','formation'] = '2_bal10_40'\n",
    "    df_bal10_v4.loc[df_bal10_v4.formation=='Balakhany X 20','formation'] = '3_bal10_20'\n",
    "    well_phit_flag10 = df_bal10_v4[df_bal10_v4.phit_flag==1].groupby('well')['phit_flag'].apply(lambda x: x.iloc[0]).reset_index().well.unique()\n",
    "    df_bal10_v4_flag = df_bal10_v4[df_bal10_v4.well.isin(well_phit_flag10)]\n",
    "    return df_bal10_v4_flag\n",
    "df_bal10_v4_flag = data_preprocessing10()\n",
    "\n",
    "ntd_top_phi_bot10_bp_v4 = pd.read_csv(r'C:\\jupyter\\DP\\input\\ntd_top_phi_bot10_bp_v4.csv').drop('Unnamed: 0', axis=1)\n",
    "ntd_top_phi_bot10_bp_v4.columns = ntd_top_phi_bot10_bp_v4.columns.str.lower()\n",
    "\n",
    "xy8 = df_bal8_v4_flag[df_bal8_v4_flag.net == 1].groupby('well')[['xmean', 'ymean', 'phit', 'field']].agg(\n",
    "    {'xmean':'first', 'ymean':'first', 'field':'first', 'phit':'mean'}).reset_index()\n",
    "xy8 = xy8.rename(columns={'phit':'phit_net_mean'})\n",
    "xy8 = xy8.round({'xmean':0, 'ymean':0})\n",
    "xy10 = df_bal10_v4_flag[df_bal10_v4_flag.net == 1].groupby('well')[['xmean', 'ymean', 'phit', 'field']].agg(\n",
    "    {'xmean':'first', 'ymean':'first', 'field':'first', 'phit':'mean'}).reset_index()\n",
    "xy10 = xy10.rename(columns={'phit':'phit_net_mean'})\n",
    "xy10 = xy10.round({'xmean':0, 'ymean':0})"
   ]
  },
  {
   "cell_type": "markdown",
   "metadata": {},
   "source": [
    "# Display 3d plot"
   ]
  },
  {
   "cell_type": "code",
   "execution_count": 4,
   "metadata": {},
   "outputs": [],
   "source": [
    "tvdss_top = df_bal8_v4_flag[['well','tst','tvd_scs']].rename(columns={'tst':'layer_top_tst', 'tvd_scs':'layer_top_tvdss'})\n",
    "tvdss_bot = df_bal8_v4_flag[['well','tst','tvd_scs']].rename(columns={'tst':'layer_bot_tst','tvd_scs':'layer_bot_tvdss'})\n",
    "field = df_bal8_v4_flag[['well','field']].drop_duplicates().reset_index(drop=True)"
   ]
  },
  {
   "cell_type": "code",
   "execution_count": 5,
   "metadata": {},
   "outputs": [],
   "source": [
    "df_temp_1 = ntd_top_phi_bot8_bp_v4.set_index(['well','layer_top_tst']).join(tvdss_top.set_index(['well','layer_top_tst']), how='left').reset_index()\n",
    "df_temp_2 = df_temp_1.set_index(['well','layer_bot_tst']).join(tvdss_bot.set_index(['well','layer_bot_tst']), how='left').reset_index()\n",
    "df_temp_2 = df_temp_2[[ 'well', 'formation_up', \n",
    "                        'phit_avg', 'vsh_avg', 'perm_avg', 'khtst', 'top_htst', 'htst', 'bot_htst',\n",
    "                        'layer_top_tst', 'layer_bot_tst', 'layer_top_tvdss', 'layer_bot_tvdss',\n",
    "                        'fm_top_tst', 'fm_bot_tst']]\n",
    "df_temp_3 = df_temp_2.set_index('well').join(field.set_index('well'), how='left').reset_index()\n",
    "df_temp_3 = df_temp_3.sort_values(['field','well']).reset_index(drop=True)\n",
    "df_temp_3['tvdss_center'] = (df_temp_3.layer_top_tvdss + df_temp_3.layer_bot_tvdss) / 2\n",
    "df_temp_3 = df_temp_3[df_temp_3.htst >= 2 ]\n",
    "df_temp_3 = df_temp_3.round({'phit_avg':3, 'vsh_avg':3, 'htst':1,\n",
    "                             'layer_top_tst':0, 'layer_bot_tst':0, \n",
    "                             'layer_top_tvdss':0, 'layer_bot_tvdss':0, 'tvdss_center':0})"
   ]
  },
  {
   "cell_type": "code",
   "execution_count": null,
   "metadata": {},
   "outputs": [],
   "source": [
    "df = df_temp_3.copy()\n",
    "f_list = ['well', 'phit_avg', 'htst', 'tvdss_center']\n",
    "color = 'field'\n",
    "\n",
    "def plotly_3d_plot_field(df, features, color_column, output_file):\n",
    "    # Sample data for the 3D scatter plot\n",
    "    x = df[features[1]]\n",
    "    y = df[features[2]]\n",
    "    z = df[features[3]]\n",
    "    text = df[features[0]]  # Optional: labels for the points\n",
    "    categories = df[color_column].unique()\n",
    "\n",
    "    # Define a dictionary mapping categories to colors\n",
    "    category_colors = {\n",
    "        '1_WEST AZERI': 'red',\n",
    "        '2_CENTRAL AZERI': 'green',\n",
    "        '3_EAST AZERI': 'blue',\n",
    "        # Add more categories and colors as needed\n",
    "    }\n",
    "\n",
    "    # Create a list to hold the scatter traces\n",
    "    scatter_traces = []\n",
    "\n",
    "    for category in categories:\n",
    "        # Filter data for the current category\n",
    "        category_data = df[df[color_column] == category]\n",
    "        \n",
    "        # Create custom hover text for the current category\n",
    "        hovertext = [\n",
    "            f\"{features[0]}:{well}<br>{features[1]}:{phit}<br>{features[2]}:{htst}<br>{features[3]}:{vsh}\"\n",
    "            for well, phit, htst, vsh in zip(category_data[features[0]], category_data[features[1]], category_data[features[2]], category_data[features[3]])\n",
    "        ]\n",
    "\n",
    "        # Create a Scatter3d object for the current category\n",
    "        scatter = go.Scatter3d(\n",
    "            x=category_data[features[1]],\n",
    "            y=category_data[features[2]],\n",
    "            z=category_data[features[3]],\n",
    "            mode='markers',\n",
    "            marker=dict(\n",
    "                size=5,\n",
    "                color=category_colors[category],  # Color by category\n",
    "                opacity=0.8,\n",
    "                line=dict(\n",
    "                    color='black',  # Edge color\n",
    "                    width=2  # Edge width\n",
    "                )\n",
    "            ),\n",
    "            text=text,  # Labels for the points\n",
    "            hovertext=hovertext,  # Custom hover text\n",
    "            hoverinfo='text',  # Use custom hover text\n",
    "            name=category  # Name for the legend\n",
    "        )\n",
    "\n",
    "        # Add the scatter trace to the list\n",
    "        scatter_traces.append(scatter)\n",
    "\n",
    "    # Define the layout\n",
    "    layout = go.Layout(\n",
    "        title=df['formation_up'].iloc[0],\n",
    "        scene=dict(\n",
    "            xaxis_title=features[1],\n",
    "            # xaxis=dict(\n",
    "            #     title=features[1],\n",
    "            #     autorange='reversed'  # Reverse the x-axis\n",
    "            # ),\n",
    "            yaxis_title=features[2],\n",
    "            zaxis=dict(\n",
    "                title=features[3],\n",
    "                autorange='reversed'  # Reverse the z-axis\n",
    "            )\n",
    "        ),\n",
    "        width=800,  # Set the width of the plot\n",
    "        height=600,  # Set the height of the plot\n",
    "        margin=dict(l=0, r=0, b=0, t=40),\n",
    "        legend=dict(\n",
    "            title='Categories',\n",
    "            itemsizing='constant'\n",
    "        )\n",
    "    )\n",
    "\n",
    "    # Create a Figure object\n",
    "    fig = go.Figure(data=scatter_traces, layout=layout)\n",
    "    pio.write_html(fig, file=output_file, auto_open=True)\n",
    "    # Display the plot\n",
    "    fig.show()\n",
    "    \n",
    "plotly_3d_plot_field(df, f_list, color, 'bal8_3dplot.html')"
   ]
  },
  {
   "cell_type": "markdown",
   "metadata": {},
   "source": [
    "# Overview tabular data"
   ]
  },
  {
   "cell_type": "code",
   "execution_count": null,
   "metadata": {},
   "outputs": [],
   "source": [
    "fig = plt.figure(figsize=(8,5))\n",
    "sns.kdeplot(data = ntd_top_phi_bot8_bp_v4[ntd_top_phi_bot8_bp_v4.htst >=2], \n",
    "                x='htst', y='bot_htst')\n",
    "plt.ylim(40,0)\n",
    "plt.grid()"
   ]
  },
  {
   "cell_type": "code",
   "execution_count": null,
   "metadata": {},
   "outputs": [],
   "source": [
    "ntd_top_phi_bot8_bp_v4"
   ]
  },
  {
   "cell_type": "markdown",
   "metadata": {},
   "source": [
    "# Matrix plot depth vs phit"
   ]
  },
  {
   "cell_type": "code",
   "execution_count": 191,
   "metadata": {},
   "outputs": [],
   "source": [
    "def top_phi_bot(dataset):\n",
    "    df_lst = []\n",
    "    for wellname in dataset.well.unique()[:]:\n",
    "        data = dataset[dataset.well == wellname]\n",
    "        well_lst = []\n",
    "        phit_lst = []\n",
    "        htst_lst = []\n",
    "        bot_lst = []\n",
    "        vsh_lst = []\n",
    "        for ind, row in data.iterrows():\n",
    "            well_lst.append(wellname)\n",
    "            well_lst.append(wellname)\n",
    "\n",
    "            phit_lst.append(0)\n",
    "            phit_lst.append(row['phit_avg'])\n",
    "\n",
    "            htst_lst.append(row['top_htst'])\n",
    "            htst_lst.append(row['htst'])\n",
    "            \n",
    "            bot_lst.append(row['bot_htst'])\n",
    "\n",
    "            vsh_lst.append(1)\n",
    "            vsh_lst.append(row['vsh_avg'])\n",
    "\n",
    "        phit_lst.append(0)\n",
    "        htst_lst.append(data['bot_htst'].iloc[-1])\n",
    "        well_lst.append(wellname)\n",
    "        well_collect_cluster_short = pd.DataFrame(zip(well_lst, phit_lst, htst_lst, vsh_lst, ), \n",
    "                                                  columns=[  'well','phit', 'htst', 'vsh'])\n",
    "        well_last_row = pd.DataFrame({'well':[well_lst[-1]], 'phit':[0], 'htst': [bot_lst[-1]], 'vsh':[0]})\n",
    "        well_collect_cluster = pd.concat([well_collect_cluster_short, well_last_row]).reset_index(drop=True)\n",
    "        well_collect_cluster['depth'] = well_collect_cluster['htst'].cumsum()\n",
    "        df_lst.append(well_collect_cluster)\n",
    "    result = pd.concat(df_lst)\n",
    "    # result['FORMATION_up'] = fm\n",
    "    return result\n",
    "data = top_phi_bot(ntd_top_phi_bot8_bp_v4[ntd_top_phi_bot8_bp_v4.htst >= 2])\n",
    "data.loc[data.well.str.startswith('C'), 'field'] = '1_west_azery'\n",
    "data.loc[data.well.str.startswith('B'), 'field'] = '2_cent_azery'\n",
    "data.loc[data.well.str.startswith('D'), 'field'] = '3_east_azery'"
   ]
  },
  {
   "cell_type": "code",
   "execution_count": null,
   "metadata": {},
   "outputs": [],
   "source": [
    "well_lst = []\n",
    "for well in tqdm(logs8_ntd_v5.well.unique()):\n",
    "    data = logs8_ntd_v5[logs8_ntd_v5.well == well]\n",
    "    df_lst = []\n",
    "    for i in  data.htst_ntd.unique():\n",
    "        sample = data[data.htst_ntd == i]\n",
    "        phit_avg = sample.phit.mean()\n",
    "        sample['phit_ntd'] = phit_avg\n",
    "        df_lst.append(sample)\n",
    "    df = pd.concat(df_lst)\n",
    "    df.loc[df.net == 0, 'phit_ntd'] = 0\n",
    "    df = df.sort_values('tst')\n",
    "    well_lst.append(df)\n",
    "logs8_ntd_v6 = pd.concat(well_lst)\n",
    "logs8_ntd_v6"
   ]
  },
  {
   "cell_type": "code",
   "execution_count": null,
   "metadata": {},
   "outputs": [],
   "source": [
    "data[(data.well == 'B08Z') & (data.htst >= 2) & (data.phit != 0)].reset_index(drop=True)"
   ]
  },
  {
   "cell_type": "code",
   "execution_count": null,
   "metadata": {},
   "outputs": [],
   "source": [
    "fig, axes = plt.subplots(7, 5, figsize=(9, 17))\n",
    "axes = axes.flatten()\n",
    "well_list = logs8_ntd_v6[(logs8_ntd_v6.field == '2_central azeri') & (logs8_ntd_v6.phit_flag == 1)].well.unique()\n",
    "k = -1\n",
    "for i, ax in enumerate(axes):\n",
    "    k = k+1\n",
    "    if k != len(well_list):\n",
    "        well = logs8_ntd_v6[logs8_ntd_v6.well == well_list[i]]\n",
    "        well.loc[well.htst_ntd <= 2, 'phit_ntd'] = 0\n",
    "        ax.step(well.phit_ntd, well.tst_index, c='g', where='post')\n",
    "        ax.set_title(well_list[i])\n",
    "        ax.set_xlim(0, 0.3)\n",
    "        ax.set_ylim(0, 1500)\n",
    "        ax.invert_yaxis()\n",
    "        ax.grid(True)\n",
    "    else:\n",
    "        break\n",
    "plt.tight_layout()\n",
    "plt.show()\n",
    "well"
   ]
  },
  {
   "cell_type": "code",
   "execution_count": null,
   "metadata": {},
   "outputs": [],
   "source": []
  },
  {
   "cell_type": "code",
   "execution_count": null,
   "metadata": {},
   "outputs": [],
   "source": []
  },
  {
   "cell_type": "code",
   "execution_count": null,
   "metadata": {},
   "outputs": [],
   "source": []
  },
  {
   "cell_type": "code",
   "execution_count": null,
   "metadata": {},
   "outputs": [],
   "source": []
  }
 ],
 "metadata": {
  "kernelspec": {
   "display_name": "Python 3",
   "language": "python",
   "name": "python3"
  },
  "language_info": {
   "codemirror_mode": {
    "name": "ipython",
    "version": 3
   },
   "file_extension": ".py",
   "mimetype": "text/x-python",
   "name": "python",
   "nbconvert_exporter": "python",
   "pygments_lexer": "ipython3",
   "version": "3.11.4"
  }
 },
 "nbformat": 4,
 "nbformat_minor": 2
}
