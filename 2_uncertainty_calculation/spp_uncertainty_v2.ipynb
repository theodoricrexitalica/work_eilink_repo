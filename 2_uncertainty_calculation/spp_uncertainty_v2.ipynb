{
 "cells": [
  {
   "cell_type": "markdown",
   "metadata": {},
   "source": [
    "# Libs"
   ]
  },
  {
   "cell_type": "code",
   "execution_count": 1,
   "metadata": {},
   "outputs": [],
   "source": [
    "import warnings\n",
    "warnings.filterwarnings('ignore')\n",
    "\n",
    "import pandas as pd\n",
    "import numpy as np\n",
    "import matplotlib.pyplot as plt\n",
    "import seaborn as sns\n",
    "from scipy.stats.distributions import norm, uniform\n",
    "from pyDOE import lhs\n",
    "from tqdm import tqdm\n",
    "import glob\n",
    "import psutil\n",
    "from sklearn.linear_model import LinearRegression\n",
    "from sklearn.metrics import mean_absolute_error\n",
    "\n",
    "pd.set_option.display_precision = 3\n",
    "pd.set_option.display_float_format = lambda x: '%.5f' % x\n",
    "pd.set_option.display_max_columns = 15\n",
    "pd.set_option.display_max_rows = 6"
   ]
  },
  {
   "cell_type": "code",
   "execution_count": null,
   "metadata": {},
   "outputs": [],
   "source": [
    "vm = psutil.virtual_memory()\n",
    "free_memory = vm.available\n",
    "free_memory_mb = free_memory / (1024 * 1024)\n",
    "print(f\"Free memory: {free_memory_mb} MB\")"
   ]
  },
  {
   "cell_type": "markdown",
   "metadata": {},
   "source": [
    "# Phit uncertainty"
   ]
  },
  {
   "cell_type": "markdown",
   "metadata": {},
   "source": [
    "## Phit grain dense"
   ]
  },
  {
   "cell_type": "code",
   "execution_count": 3,
   "metadata": {},
   "outputs": [],
   "source": [
    "core = pd.read_csv(r'C:\\jupyter\\SPP_uncertainty\\io\\core_phit_k.csv')\n",
    "core.columns = core.columns.str.lower()\n",
    "core8 = core[core.formation == 'Balakhany VIII']\n",
    "core8_mtrx = core8[core8.grain_den_h.notna()]\n",
    "mean = core8_mtrx.grain_den_h.mean().round(2)\n",
    "stdev_grain_mtrx8 = core8_mtrx.grain_den_h.std().round(3)"
   ]
  },
  {
   "cell_type": "markdown",
   "metadata": {},
   "source": [
    "## Rhob uncert"
   ]
  },
  {
   "cell_type": "code",
   "execution_count": null,
   "metadata": {},
   "outputs": [],
   "source": [
    "# * grain density range\n",
    "# * rhob range (+-0.25) - to be confirmed with halliburton\n",
    "# * mud filtrate range"
   ]
  },
  {
   "cell_type": "code",
   "execution_count": null,
   "metadata": {},
   "outputs": [],
   "source": [
    "mean_noise = 0\n",
    "sigma_noise = 0.025/2\n",
    "iteration = 15\n",
    "noise_random = lhs(1, samples=iteration)\n",
    "noise_random = norm(loc=mean_noise, scale=sigma_noise).ppf(noise_random).flatten().round(3)\n",
    "sns.histplot(noise_random, bins=15, kde=True)\n",
    "print('distr:', noise_random, '\\nmax:',noise_random.max(), 'min:',noise_random.min())"
   ]
  },
  {
   "cell_type": "code",
   "execution_count": null,
   "metadata": {},
   "outputs": [],
   "source": [
    "ds_logs = pd.read_csv(r'C:\\jupyter\\SPP_uncertainty\\io\\phit8_set_full.csv')\n",
    "ds_logs = ds_logs.astype({'well':'string','RHOB':'float32','RHOMA':'float32','RHOF':'float32'})\n",
    "ds_logs = ds_logs[ds_logs.PHIT > 0]\n",
    "logs_uncert = ds_logs[['well','TST','RHOB','RHOMA','RHOF']]\n",
    "logs_uncert['rhob_noise'] = 0\n",
    "df_lst_rhob = []\n",
    "for idx, var in tqdm(enumerate(noise_random)):\n",
    "    logs_uncert_copy = logs_uncert.copy()\n",
    "    logs_uncert_copy['rhob_noise'] = logs_uncert.RHOB + var\n",
    "    logs_uncert_copy['idx_rhob'] = idx\n",
    "    df_lst_rhob.append(logs_uncert_copy)\n",
    "data_rhob = pd.concat(df_lst_rhob, axis=0).reset_index(drop=True)\n",
    "data_rhob = data_rhob[data_rhob.RHOB > 0].reset_index(drop=True)\n",
    "data_rhob.to_parquet(r'C:\\jupyter\\SPP_uncertainty\\io\\wells\\data_rhob.parquet')"
   ]
  },
  {
   "cell_type": "markdown",
   "metadata": {},
   "source": [
    "## Rhoma uncert"
   ]
  },
  {
   "cell_type": "code",
   "execution_count": null,
   "metadata": {},
   "outputs": [],
   "source": [
    "grain_dense_h_mean = 0\n",
    "iteration = 15\n",
    "sigma_mtrx = stdev_grain_mtrx8/2\n",
    "mean_mtrx = grain_dense_h_mean\n",
    "lhs_samples = lhs(1, samples=iteration)\n",
    "mtrx_random = norm(loc=mean_mtrx, scale=sigma_mtrx).ppf(lhs_samples).flatten().round(3)\n",
    "sns.histplot(mtrx_random, bins=15, kde=True)\n",
    "print('mean',mean,'stdev',stdev_grain_mtrx8)\n",
    "print('distr:',mtrx_random, '\\nmax:', mtrx_random.max(), 'min:', mtrx_random.min())"
   ]
  },
  {
   "cell_type": "code",
   "execution_count": null,
   "metadata": {},
   "outputs": [],
   "source": [
    "logs_uncert = pd.read_parquet(r'C:\\jupyter\\SPP_uncertainty\\io\\wells\\data_rhob.parquet')\n",
    "df_lst_mtrx = []\n",
    "for idx, var in tqdm(enumerate(mtrx_random)):\n",
    "    logs_uncert_copy = logs_uncert.copy()\n",
    "    logs_uncert_copy['rhoma_noise'] = logs_uncert.RHOMA + var\n",
    "    logs_uncert_copy['idx_rhoma_noise'] = idx\n",
    "    df_lst_mtrx.append(logs_uncert_copy)\n",
    "data_mtrx = pd.concat(df_lst_mtrx, axis=0).reset_index(drop=True)\n",
    "data_mtrx.to_parquet(r'C:\\jupyter\\SPP_uncertainty\\io\\wells\\data_mtrx.parquet')"
   ]
  },
  {
   "cell_type": "markdown",
   "metadata": {},
   "source": [
    "## Rhof uncert"
   ]
  },
  {
   "cell_type": "code",
   "execution_count": null,
   "metadata": {},
   "outputs": [],
   "source": [
    "rhof1 = 0.8\n",
    "print(rhof1, (2.69 - 2.25)/(2.69 - rhof1))\n",
    "rhof2 = 0.9\n",
    "print(rhof2, (2.69 - 2.25)/(2.69 - rhof2))\n",
    "rhof3 = 1\n",
    "print(rhof3, (2.69 - 2.25)/(2.69 - rhof3))"
   ]
  },
  {
   "cell_type": "code",
   "execution_count": null,
   "metadata": {},
   "outputs": [],
   "source": [
    "rhof_min = 0.83\n",
    "rhof_max = 0.935\n",
    "rhof_mean = (rhof_max + rhof_min) / 2\n",
    "rhof_sigma = (rhof_max - rhof_min) / 4\n",
    "iteration = 15\n",
    "fltr_random = lhs(1, samples=iteration)\n",
    "fltr_random = norm(loc=rhof_mean, scale=rhof_sigma).ppf(fltr_random).flatten().round(3)\n",
    "sns.histplot(fltr_random, bins=15, kde=True)\n",
    "print('distr:', fltr_random, '\\nmax:',fltr_random.max(), 'min:',fltr_random.min(), 'rhof_sigma:', round(rhof_sigma,3))"
   ]
  },
  {
   "cell_type": "code",
   "execution_count": null,
   "metadata": {},
   "outputs": [],
   "source": [
    "logs_uncert = pd.read_parquet(r'C:\\jupyter\\SPP_uncertainty\\io\\wells\\data_mtrx.parquet')\n",
    "logs_uncert.well.unique()\n",
    "for wellname in tqdm(logs_uncert.well.unique()):\n",
    "    data = logs_uncert[logs_uncert.well == wellname]\n",
    "    data_fltrl_lst = []\n",
    "    for idx, var in (enumerate(fltr_random)):\n",
    "        data_copy = data.copy()\n",
    "        data_copy['rhof_noise'] = var\n",
    "        data_copy['idx_rhof_noise'] = idx\n",
    "        data_copy['phit_drnd'] = (data_copy['rhoma_noise'] - data_copy['rhob_noise']) / (data_copy['rhoma_noise'] - data_copy['rhof_noise'])\n",
    "        data_copy = data_copy.drop_duplicates().reset_index(drop=True)\n",
    "        data_fltrl_lst.append(data_copy)\n",
    "    data_fltr = pd.concat(data_fltrl_lst, axis=0).reset_index(drop=True)\n",
    "    data_fltr.to_parquet(r'C:\\jupyter\\SPP_uncertainty\\io\\wells\\\\' + wellname + '.parquet')"
   ]
  },
  {
   "cell_type": "markdown",
   "metadata": {},
   "source": [
    "## Final computation"
   ]
  },
  {
   "cell_type": "markdown",
   "metadata": {},
   "source": [
    "### P10,P50 & P90 groupby"
   ]
  },
  {
   "cell_type": "code",
   "execution_count": null,
   "metadata": {},
   "outputs": [],
   "source": [
    "#gas wells with uncertainty problems B01Y, B12, B13ST2, B14Z, B19, B21, B26, B37, C32\n",
    "\n",
    "file_list = glob.glob(r'C:\\jupyter\\SPP_uncertainty\\io\\wells\\*.parquet') \n",
    "file_list = file_list[:-2]\n",
    "phit_drnd_lst = []\n",
    "for file in tqdm(file_list):\n",
    "    well_one = pd.read_parquet(file)\n",
    "    p10 = well_one.groupby(['well','TST'])['phit_drnd'].quantile(0.10).reset_index()\n",
    "    p10['quantile'] = 'p10'\n",
    "    p50 = well_one.groupby(['well','TST'])['phit_drnd'].quantile(0.50).reset_index()\n",
    "    p50['quantile'] = 'p50'\n",
    "    p90 = well_one.groupby(['well','TST'])['phit_drnd'].quantile(0.90).reset_index()\n",
    "    p90['quantile'] = 'p90'\n",
    "    data_final = pd.concat([p10, p50, p90], axis=0).reset_index(drop=True)\n",
    "    data_final['quantile'] = data_final['quantile'].astype('string')\n",
    "    phit_drnd_lst.append(data_final)\n",
    "phit_uncertainty = pd.concat(phit_drnd_lst, axis=0).sort_values(by=['well','TST','quantile']).reset_index(drop=True)\n",
    "\n",
    "ds_logs = pd.read_csv(r'C:\\jupyter\\SPP_uncertainty\\io\\phit8_set_full.csv').drop(columns=['Unnamed: 0'], axis=1)\n",
    "ds_logs = ds_logs[ds_logs.PHIT > 0]\n",
    "phit_uncertainty_v2 = phit_uncertainty.set_index(['well','TST']).join(ds_logs[['well','TST','PHIT','phit_dn','NET']].set_index(['well','TST'])).reset_index()\n",
    "phit_uncertainty_v2 = phit_uncertainty_v2.drop_duplicates().reset_index(drop=True)\n",
    "phit_uncertainty_v2 = phit_uncertainty_v2[phit_uncertainty_v2.phit_drnd < 0.5].reset_index(drop=True)\n",
    "diff = phit_uncertainty_v2[phit_uncertainty_v2['quantile'] =='p90']['phit_drnd'].values - phit_uncertainty_v2[phit_uncertainty_v2['quantile'] =='p10']['phit_drnd'].values\n",
    "print('range p90p10 mean', np.mean(diff).round(3))\n",
    "\n",
    "for wellname in phit_uncertainty_v2.well.unique():\n",
    "    fig, ax = plt.subplots(figsize=(6, 6))\n",
    "    phit_uncertainty_well = phit_uncertainty_v2[phit_uncertainty_v2.well == wellname]\n",
    "    sns.scatterplot(data=phit_uncertainty_well, \n",
    "                    x='PHIT', y='phit_drnd', hue='quantile', palette='bright', alpha=0.5, ax=ax)\n",
    "    sns.lineplot(x=[0.1, 0.35], y=[0.1, 0.35], color='black')\n",
    "    plt.title(wellname);"
   ]
  },
  {
   "cell_type": "code",
   "execution_count": 50,
   "metadata": {},
   "outputs": [],
   "source": [
    "phit_rnd_avg = phit_uncertainty_v2.groupby(['well','quantile'])[['phit_drnd', 'PHIT']].mean().reset_index()\n",
    "phit_rnd_net_avg = phit_uncertainty_v2[phit_uncertainty_v2.NET == 1].groupby(['well','quantile'])[['phit_drnd', 'PHIT']].mean().reset_index()"
   ]
  },
  {
   "cell_type": "code",
   "execution_count": null,
   "metadata": {},
   "outputs": [],
   "source": [
    "fig, ax = plt.subplots(1,2, figsize=(14,5))\n",
    "add1 = 0.0155\n",
    "add2 = 0.005\n",
    "\n",
    "sns.scatterplot(data=phit_rnd_avg, x='PHIT', y='phit_drnd', hue='quantile', s=50, ax=ax[0])\n",
    "\n",
    "sns.lineplot(x=[0.12,0.24], y=[0.12,0.24], color='black', linestyle='--', ax=ax[0])\n",
    "sns.lineplot(x=[0.12,0.24], y=[0.12+add1,0.24+add1], color='red', linestyle='--', ax=ax[0])\n",
    "sns.lineplot(x=[0.12,0.24], y=[0.12-add2,0.24-add2], color='red', linestyle='--', ax=ax[0])\n",
    "\n",
    "sns.scatterplot(data=phit_rnd_net_avg, x='PHIT', y='phit_drnd', hue='quantile', s=50, ax=ax[1])\n",
    "sns.lineplot(x=[0.12,0.28], y=[0.12,0.28], color='black', linestyle='--', ax=ax[1])\n",
    "sns.lineplot(x=[0.12,0.28], y=[0.12+add1,0.28+add1], color='red', linestyle='--', ax=ax[1])\n",
    "sns.lineplot(x=[0.12,0.28], y=[0.12-add2,0.28-add2], color='red', linestyle='--', ax=ax[1])\n",
    "ax[0].set_title('PHIT vs phit_rnd_avg')\n",
    "ax[1].set_title('PHIT vs phit_rnd_net_avg')\n",
    "ax[0].grid(True, linestyle='--')\n",
    "ax[1].grid(True, linestyle='--')"
   ]
  },
  {
   "cell_type": "markdown",
   "metadata": {},
   "source": [
    "### Logs calculation"
   ]
  },
  {
   "cell_type": "code",
   "execution_count": null,
   "metadata": {},
   "outputs": [],
   "source": [
    "def well_phit_uncert_display(dataset, wellname):\n",
    "    well_uncrt = dataset[dataset.well == wellname]\n",
    "    fig, ax = plt.subplots(figsize=(3,10))\n",
    "    tst = well_uncrt[well_uncrt['quantile'] == 'p50'].TST\n",
    "    p50 = well_uncrt[well_uncrt['quantile'] == 'p50'].phit_drnd\n",
    "    p10 = well_uncrt[well_uncrt['quantile'] == 'p10'].phit_drnd\n",
    "    p90 = well_uncrt[well_uncrt['quantile'] == 'p90'].phit_drnd\n",
    "    phit_well = well_uncrt[well_uncrt['quantile'] == 'p50'].PHIT\n",
    "    phit_dn_well = well_uncrt[well_uncrt['quantile'] == 'p50'].phit_dn\n",
    "    ax.plot(phit_well, tst, label='phit', color='red', ls='-', lw=1, zorder=3)\n",
    "    ax.plot(phit_dn_well, tst, label='phit_dn', color='gray', ls='-', lw=3, zorder=2)\n",
    "    ax.plot(p10, tst, label='P10', color='blue', ls='-', lw=1, zorder=2)\n",
    "    ax.plot(p50, tst, label='test_p50', color='#91091f', ls='-', lw=1, zorder=2)\n",
    "    ax.plot(p90, tst, label='P90', color='green', ls='-', lw=1, zorder=2)\n",
    "    ax.invert_yaxis()\n",
    "    ax.invert_xaxis()\n",
    "    ax.set_xlim(0.5, 0.0)\n",
    "    ax.grid(True)\n",
    "    ax.title.set_text(wellname)\n",
    "problems_uncert_well_list = ['B01Y', 'B12', 'B13ST2', 'B14Z', 'B19', 'B21', 'B26', 'B37']\n",
    "for wellname in problems_uncert_well_list:\n",
    "    well_phit_uncert_display(phit_uncertainty_v2, wellname)"
   ]
  },
  {
   "cell_type": "markdown",
   "metadata": {},
   "source": [
    "### Sensitivity analysis by LinReg"
   ]
  },
  {
   "cell_type": "code",
   "execution_count": 53,
   "metadata": {},
   "outputs": [],
   "source": [
    "file_list = glob.glob(r'C:\\jupyter\\SPP_uncertainty\\io\\wells\\*.parquet')\n",
    "# file_list"
   ]
  },
  {
   "cell_type": "code",
   "execution_count": null,
   "metadata": {},
   "outputs": [],
   "source": [
    "file_list = glob.glob(r'C:\\jupyter\\SPP_uncertainty\\io\\wells\\*.parquet')\n",
    "selected_well = 'B22'\n",
    "for well_file in file_list:\n",
    "    wellname = well_file.split('\\\\')[-1].split('.')[0]\n",
    "    if selected_well == wellname:\n",
    "        well_one = pd.read_parquet(well_file)\n",
    "        break\n",
    "df_lst = []\n",
    "for idx_rhob in tqdm(well_one.idx_rhob.unique()):\n",
    "    for idx_rhoma in well_one[(well_one.idx_rhob == idx_rhob)].idx_rhoma_noise.unique():\n",
    "        for idx_rhof in well_one[(well_one.idx_rhob == idx_rhob) & (well_one.idx_rhoma_noise == idx_rhoma)].idx_rhof_noise.unique():\n",
    "            well_one_realization = well_one[(well_one.idx_rhob == idx_rhob) & \n",
    "                                            (well_one.idx_rhoma_noise == idx_rhoma) & \n",
    "                                            (well_one.idx_rhof_noise == idx_rhof)]\n",
    "            X = well_one_realization[['rhob_noise','rhoma_noise','rhof_noise']]\n",
    "            y = well_one_realization['phit_drnd']\n",
    "            reg = LinearRegression().fit(X, y)\n",
    "            predictions = reg.predict(X)\n",
    "            mae = mean_absolute_error(y, predictions)\n",
    "            coefficients = reg.coef_.round(5)\n",
    "            df = pd.DataFrame({ 'well':[well_one.well.iloc[0]], \n",
    "                                'idx_rhob':[idx_rhob], \n",
    "                                'idx_rhoma_noise':[idx_rhoma], \n",
    "                                'idx_rhof_noise':[idx_rhof],\n",
    "                                'mae':[mae],\n",
    "                                'rhob_noise_coeff':[coefficients[0]],\n",
    "                                'rhoma_noise_coeff':[coefficients[1]],\n",
    "                                'rhof_noise_coeff':[coefficients[2]],\n",
    "                                'rhob_rhoma':[well_one_realization.rhoma_noise.iloc[0]],\n",
    "                                'rhob_rhof':[well_one_realization.rhof_noise.iloc[0]],})\n",
    "            df_lst.append(df)\n",
    "result = pd.concat(df_lst, axis=0).reset_index(drop=True)"
   ]
  },
  {
   "cell_type": "code",
   "execution_count": null,
   "metadata": {},
   "outputs": [],
   "source": [
    "result"
   ]
  },
  {
   "cell_type": "code",
   "execution_count": null,
   "metadata": {},
   "outputs": [],
   "source": [
    "fig, ax = plt.subplots(1, 4, figsize=(18, 4))\n",
    "sns.histplot(result.rhob_noise_coeff, bins=15, kde=True, ax=ax[0], color='red')\n",
    "sns.histplot(result.rhoma_noise_coeff, bins=15, kde=True, ax=ax[1], color='green')\n",
    "sns.histplot(result.rhof_noise_coeff, bins=15, kde=True, ax=ax[2], color='#477ae7')\n",
    "sns.boxplot(result.mae, ax=ax[3], color='orange')\n",
    "ax[0].set_title(result.well.iloc[0], fontsize=16)\n",
    "ax[3].set_title('MAE', fontsize=12)\n",
    "plt.tight_layout();"
   ]
  },
  {
   "cell_type": "code",
   "execution_count": null,
   "metadata": {},
   "outputs": [],
   "source": [
    "bad_case = result[result.rhof_noise_coeff < -0.5]\n",
    "bad_idx_rhob = bad_case.idx_rhob.iloc[0]\n",
    "bad_idx_rhoma = bad_case.idx_rhoma_noise.iloc[0]\n",
    "bad_idx_rhof = bad_case.idx_rhof_noise.iloc[0]\n",
    "\n",
    "good_case = result[result.rhof_noise_coeff == 0]\n",
    "good_idx_rhob = good_case.idx_rhob.iloc[135]\n",
    "good_idx_rhoma = good_case.idx_rhoma_noise.iloc[135]\n",
    "good_idx_rhof = good_case.idx_rhof_noise.iloc[135]\n",
    "print('bad_case', bad_idx_rhob, bad_idx_rhoma, bad_idx_rhof)\n",
    "print('good_case', good_idx_rhob, good_idx_rhoma, good_idx_rhof)\n",
    "print('bad case')\n",
    "display(well_one[(well_one.idx_rhob == bad_idx_rhob) & (well_one.idx_rhoma_noise == bad_idx_rhoma) & (well_one.idx_rhof_noise == bad_idx_rhof)].iloc[:1])\n",
    "print('good case')\n",
    "display(well_one[(well_one.idx_rhob == good_idx_rhob) & (well_one.idx_rhoma_noise == good_idx_rhoma) & (well_one.idx_rhof_noise == good_idx_rhof)].iloc[:1])"
   ]
  },
  {
   "cell_type": "code",
   "execution_count": null,
   "metadata": {},
   "outputs": [],
   "source": []
  },
  {
   "cell_type": "code",
   "execution_count": null,
   "metadata": {},
   "outputs": [],
   "source": []
  }
 ],
 "metadata": {
  "kernelspec": {
   "display_name": "Python 3",
   "language": "python",
   "name": "python3"
  },
  "language_info": {
   "codemirror_mode": {
    "name": "ipython",
    "version": 3
   },
   "file_extension": ".py",
   "mimetype": "text/x-python",
   "name": "python",
   "nbconvert_exporter": "python",
   "pygments_lexer": "ipython3",
   "version": "3.11.4"
  }
 },
 "nbformat": 4,
 "nbformat_minor": 2
}
