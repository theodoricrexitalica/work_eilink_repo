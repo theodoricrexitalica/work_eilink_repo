{
 "cells": [
  {
   "cell_type": "markdown",
   "metadata": {},
   "source": [
    "## Start"
   ]
  },
  {
   "cell_type": "code",
   "execution_count": 1,
   "metadata": {},
   "outputs": [],
   "source": [
    "#Import libs \n",
    "import pandas as pd\n",
    "import numpy as np\n",
    "import warnings\n",
    "warnings.filterwarnings('ignore')\n",
    "import statistics as st\n",
    "import math\n",
    "import matplotlib.pyplot as plt\n",
    "import plotly.graph_objects as go\n",
    "from plotly.subplots import make_subplots\n",
    "import plotly.express as px\n",
    "from tqdm import tqdm\n",
    "import textwrap\n",
    "import seaborn as sns\n",
    "from statistics import mean\n",
    "from sklearn.ensemble import RandomForestRegressor\n",
    "from sklearn.ensemble import GradientBoostingRegressor\n",
    "from sklearn.svm import SVR\n",
    "from sklearn.model_selection import GridSearchCV\n",
    "from sklearn.preprocessing import StandardScaler\n",
    "from sklearn.model_selection import train_test_split\n",
    "from sklearn.metrics import r2_score as r2, mean_absolute_error as mae, mean_squared_error as mse, accuracy_score\n",
    "from sklearn.metrics import make_scorer\n",
    "from sklearn.metrics.pairwise import euclidean_distances\n",
    "from sklearn.inspection import permutation_importance\n",
    "from sklearn.compose import TransformedTargetRegressor\n",
    "from sklearn.pipeline import Pipeline\n",
    "from scipy.stats import gmean\n",
    "from xgboost import XGBRegressor\n",
    "from scipy import stats\n",
    "from datetime import datetime\n",
    "from pyproj import Proj, transform\n",
    "import logging\n",
    "import random\n",
    "import mlflow\n",
    "import mlflow.sklearn\n",
    "pd.set_option(\"display.precision\", 3)\n",
    "pd.set_option('display.float_format', lambda x: '%.5f' % x)\n",
    "pd.set_option('display.max_columns', 15)"
   ]
  },
  {
   "cell_type": "markdown",
   "metadata": {},
   "source": [
    "### Upload maindata"
   ]
  },
  {
   "cell_type": "code",
   "execution_count": 298,
   "metadata": {},
   "outputs": [],
   "source": [
    "path = 'C:\\\\jupyter\\\\SPP\\\\input\\\\'\n",
    "oil_prod = pd.read_csv(path + 'ACG_prod_oil_data_20231201.csv')\n",
    "oil_prod['Date'] = pd.to_datetime(oil_prod['Timestamp'])\n",
    "wat_prod = pd.read_csv(path + 'ACG_prod_water_data_20231201.csv')\n",
    "wat_prod['Date'] = pd.to_datetime(oil_prod['Timestamp'])\n",
    "perf_init = pd.read_csv(path + 'ACG_prod_completion.csv')[1:]\n",
    "pta_pi_init = pd.read_csv(path + 'ACG_prod_pta_pi.csv')\n",
    "kh_dist0_cut = pd.read_csv(r'C:\\jupyter\\SPP\\inputoutput\\avg_prop_tst_kh_dist0_cut.csv').drop('Unnamed: 0', axis=1)\n",
    "prod_welldata = pd.read_excel(r'C:\\jupyter\\SPP\\input\\ACG_prod_welldata.xlsx').drop('Unnamed: 0',axis=1)"
   ]
  },
  {
   "cell_type": "code",
   "execution_count": null,
   "metadata": {},
   "outputs": [],
   "source": [
    "prod_welldata = prod_welldata[prod_welldata['Formation name'].notna()]\n",
    "prod_welldata_bal = prod_welldata[prod_welldata['Formation name'].isin(['Bal8','Bal10'])]\n",
    "prod_welldata_bal = prod_welldata_bal.rename(columns={'Well Name name':'well', 'Formation name':'FORMATION_up'})\n",
    "prod_welldata_bal[['well_v2', 'fm']] = prod_welldata_bal['well'].str.split('_', expand=True)\n",
    "prod_welldata_bal = prod_welldata_bal.drop(['well', 'fm'], axis=1)\n",
    "prod_welldata_bal = prod_welldata_bal.rename(columns={'well_v2':'well'})\n",
    "prod_welldata_bal = prod_welldata_bal[['well', 'FORMATION_up', 'Top of Screen mTVD SCS', 'Mid-Screen mTVD SCS', 'Bottom of Screen mTVD SCS']]\n",
    "prod_welldata_bal = prod_welldata_bal[prod_welldata_bal['Mid-Screen mTVD SCS'].notna()]\n",
    "prod_welldata_bal.loc[prod_welldata_bal.FORMATION_up == 'Bal8', 'FORMATION_up'] = 'Balakhany VIII'\n",
    "prod_welldata_bal.loc[prod_welldata_bal.FORMATION_up == 'Bal10', 'FORMATION_up'] = 'Balakhany X'\n",
    "prod_welldata_bal.head(3)"
   ]
  },
  {
   "cell_type": "code",
   "execution_count": 82,
   "metadata": {},
   "outputs": [],
   "source": [
    "def prod_data_processing():\n",
    "    def prod_data_transformation(data, var):\n",
    "        df_lst = []\n",
    "        for well in data.columns[1:-1]:\n",
    "            lst = []\n",
    "            for ind, row in enumerate(data[well]):\n",
    "                lst.append((well, row, data['Date'].iloc[ind]))\n",
    "            df_lst.append(pd.DataFrame(lst, columns=['well',var,'date']))\n",
    "        res = pd.concat(df_lst)\n",
    "        return res\n",
    "    oil_prod_df = prod_data_transformation(oil_prod, 'oil')\n",
    "    wat_prod_df = prod_data_transformation(wat_prod, 'water')\n",
    "    def wellname_rename(data):    \n",
    "        for wellname in data.well.unique()[:]:\n",
    "            new_wellname = '_'.join(wellname.split(' ')[0:1])\n",
    "            data.loc[data.well==wellname, 'new_well'] = new_wellname\n",
    "        return data.reset_index().drop('index', axis=1)\n",
    "    oil_prod_df_rn = wellname_rename(oil_prod_df)\n",
    "    wat_prod_df_rn = wellname_rename(wat_prod_df)\n",
    "    oil_wat_prod =  oil_prod_df_rn.drop('well', axis=1).set_index(['new_well', 'date']).join(\n",
    "                    wat_prod_df_rn.drop('well', axis=1).set_index(['new_well', 'date'])).reset_index()\n",
    "    oil_wat_prod['oil'] = abs(oil_wat_prod.oil)\n",
    "    oil_wat_prod['water'] = abs(oil_wat_prod.water)\n",
    "    oil_wat_prod['liquid'] = oil_wat_prod.oil + oil_wat_prod.water\n",
    "    oil_wat_prod.rename(columns={'new_well':'well_fm'}, inplace=True)\n",
    "    return oil_wat_prod\n",
    "oil_wat_prod = prod_data_processing()\n",
    "oil_wat_prod[['well', 'fm']] = oil_wat_prod['well_fm'].str.split('_', expand=True)\n",
    "oil_wat_prod = oil_wat_prod.drop('well_fm', axis=1)\n",
    "oil_wat_prod = oil_wat_prod[['well', 'fm', 'date', 'oil', 'water', 'liquid']]"
   ]
  },
  {
   "cell_type": "code",
   "execution_count": 202,
   "metadata": {},
   "outputs": [],
   "source": [
    "perf_init = perf_init.rename(columns={'wellName':'well'})\n",
    "perf = perf_init[['well', 'FORMATION', 'DEPTH', 'TVD_SCS', 'TST', 'PERF', 'REMARK']]\n",
    "perf = perf[perf.FORMATION.notna()]\n",
    "perf_bal = perf[perf.FORMATION.str.contains('Balakhany VIII','Balakhany X')]\n",
    "perf_bal.loc[perf_bal.FORMATION.str.contains('Balakhany VIII'), 'FORMATION_up'] = 'Balakhany VIII'\n",
    "perf_bal.loc[perf_bal.FORMATION.str.contains('Balakhany X'), 'FORMATION_up'] = 'Balakhany X'\n",
    "perf_bal['PERF'] = perf_bal.PERF.astype('float')\n",
    "perf_bal_perf = perf_bal[(perf_bal.PERF.notna())]\n",
    "perf_bal_perf['PERF'] = perf_bal_perf['PERF'].replace(-9999, 0)"
   ]
  },
  {
   "cell_type": "code",
   "execution_count": null,
   "metadata": {},
   "outputs": [],
   "source": [
    "pta_pi_init = pta_pi_init.rename(columns={'drill_name':'well'})\n",
    "pta_pi = pta_pi_init[[  'well', 'date_st', 'qoil_m3', 'qgas_m3', 'qwtr_m3', 'si_duration_hrs',\n",
    "                        'skin', 'perm_md', 'kh_mdm', 'pi_m3_barg','ref_depth_m', 'well_type','interval_name']]\n",
    "pta_pi = pta_pi[pta_pi.pi_m3_barg.notna()]\n",
    "pta_pi[['well_v2', 'fm']] = pta_pi['well'].str.split('_', expand=True)\n",
    "pta_pi.loc[pta_pi.well_v2 == 'C20Z(WI)', 'well_v2'] = 'C20Z'\n",
    "pta_pi.loc[pta_pi.well_v2 == 'SDC01', 'well_v2'] = 'C01'\n",
    "pta_pi.loc[pta_pi.well_v2 == 'SDC02', 'well_v2'] = 'C02'\n",
    "pta_pi.loc[pta_pi.well_v2 == 'SDC03Z', 'well_v2'] = 'C03Z'\n",
    "pta_pi.loc[pta_pi.well_v2 == 'SDC04Z', 'well_v2'] = 'C04Z'\n",
    "pta_pi.loc[pta_pi.well_v2 == 'SDD02', 'well_v2'] = 'D02'\n",
    "pta_pi.loc[pta_pi.well_v2 == 'SDD03', 'well_v2'] = 'D03'\n",
    "pta_pi.loc[pta_pi.well_v2 == 'SDD04Y', 'well_v2'] = 'D04Y'\n",
    "pta_pi.loc[pta_pi.well_v2 == 'SDG04', 'well_v2'] = 'G04'\n",
    "pta_pi.loc[pta_pi.well_v2 == 'SDG03', 'well_v2'] = 'G03'\n",
    "pta_pi.loc[pta_pi.well_v2 == 'SDC05Z', 'well_v2'] = 'C05Z'\n",
    "pta_pi.loc[pta_pi.well_v2 == 'SDG01', 'well_v2'] = 'G01'\n",
    "pta_pi.loc[pta_pi.well_v2 == 'SDG02Z', 'well_v2'] = 'G02Z'\n",
    "pta_pi_join = pta_pi[['well_v2','pi_m3_barg','kh_mdm','ref_depth_m', 'date_st']]\n",
    "pta_pi_join = pta_pi_join.rename(columns={'well_v2':'well'})\n",
    "pta_pi_join.head(3)"
   ]
  },
  {
   "cell_type": "code",
   "execution_count": null,
   "metadata": {},
   "outputs": [],
   "source": [
    "kh_dist0_cut = kh_dist0_cut[['well','FORMATION_up','KHtst','field']]\n",
    "kh_dist0_cut.head(3)"
   ]
  },
  {
   "cell_type": "code",
   "execution_count": 357,
   "metadata": {},
   "outputs": [],
   "source": [
    "pta_pi_join_v2 = pta_pi_join.set_index('well').join(prod_welldata_bal.set_index('well')).reset_index()\n",
    "pta_pi_join_v2 = pta_pi_join_v2[pta_pi_join_v2['Mid-Screen mTVD SCS'].notna()]\n",
    "pta_pi_join_v3 = pta_pi_join_v2.set_index(['well','FORMATION_up']).join(kh_dist0_cut.set_index(['well','FORMATION_up'])).reset_index()\n",
    "pta_pi_join_v3['date_st'] = pd.to_datetime(pta_pi_join_v3['date_st'])\n",
    "pta_pi_join_v3 = pta_pi_join_v3.sort_values(['well','date_st'])\n",
    "pta_pi_join_v3 = pta_pi_join_v3[pta_pi_join_v3.KHtst.notna()]\n",
    "pta_pi_join_v4 = pta_pi_join_v3.groupby(['well','FORMATION_up']).agg({  'pi_m3_barg': lambda x: x.iloc[0],\n",
    "                                                                        'kh_mdm':'mean',\n",
    "                                                                        'KHtst':'mean',\n",
    "                                                                        'date_st': lambda x: x.iloc[0],\n",
    "                                                                        'field': lambda x: x.iloc[0]}).reset_index()\n",
    "pta_pi_join_v4_bal8 = pta_pi_join_v4[pta_pi_join_v4.FORMATION_up=='Balakhany VIII']\n",
    "pta_pi_join_v4_bal10 = pta_pi_join_v4[pta_pi_join_v4.FORMATION_up=='Balakhany X']"
   ]
  },
  {
   "cell_type": "code",
   "execution_count": null,
   "metadata": {},
   "outputs": [],
   "source": [
    "fig = px.scatter(   pta_pi_join_v4, x='pi_m3_barg', y='KHtst', color='field', symbol='FORMATION_up',\n",
    "                    hover_data={'pi_m3_barg': True, 'KHtst': True, 'FORMATION_up': True, 'well': True, 'field':True, 'date_st':True},\n",
    "                    height=500, width=800)\n",
    "fig.update_traces(marker=dict(size=10, line=dict(width=1, color='gray')), selector=dict(mode='markers'))"
   ]
  },
  {
   "cell_type": "code",
   "execution_count": null,
   "metadata": {},
   "outputs": [],
   "source": [
    "for well in oil_wat_prod.well.unique()[:]:\n",
    "    data = oil_wat_prod[oil_wat_prod.well == well]\n",
    "    data = data.round({'oil':0, 'water':0})\n",
    "    oil = go.Scatter(   x=data.date, y=data.oil,\n",
    "                        mode='markers',\n",
    "                        marker=dict(color='green', size=7, opacity=0.75, line=dict(color='rgb(47, 57, 61)', width=0.5)))\n",
    "    wat = go.Scatter(   x=data.date, y=data.water,\n",
    "                        mode='markers',\n",
    "                        marker=dict(color='blue', size=7, opacity=0.75, line=dict(color='rgb(47, 57, 61)', width=0.5)))\n",
    "    fig = go.Figure()\n",
    "    fig.add_trace(oil)\n",
    "    fig.add_trace(wat)\n",
    "    fig.update_xaxes(title_text='time')\n",
    "    fig.update_yaxes(title_text='prod')\n",
    "    fig.update_layout(  title_text= (well), width=1300, height=400, \n",
    "                        margin=dict(l=10,r=10,b=10,t=50), showlegend=False)\n",
    "    fig.show()"
   ]
  }
 ],
 "metadata": {
  "kernelspec": {
   "display_name": "Python 3",
   "language": "python",
   "name": "python3"
  },
  "language_info": {
   "codemirror_mode": {
    "name": "ipython",
    "version": 3
   },
   "file_extension": ".py",
   "mimetype": "text/x-python",
   "name": "python",
   "nbconvert_exporter": "python",
   "pygments_lexer": "ipython3",
   "version": "3.11.4"
  }
 },
 "nbformat": 4,
 "nbformat_minor": 2
}
