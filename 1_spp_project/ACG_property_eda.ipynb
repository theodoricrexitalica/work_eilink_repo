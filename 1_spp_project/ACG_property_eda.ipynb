{
 "cells": [
  {
   "cell_type": "markdown",
   "metadata": {},
   "source": [
    "# Libs"
   ]
  },
  {
   "cell_type": "code",
   "execution_count": 26,
   "metadata": {},
   "outputs": [],
   "source": [
    "import warnings\n",
    "warnings.filterwarnings('ignore')\n",
    "\n",
    "import pandas as pd\n",
    "import numpy as np\n",
    "import matplotlib.pyplot as plt\n",
    "import matplotlib.gridspec as gridspec\n",
    "import seaborn as sns\n",
    "import plotly.graph_objects as go\n",
    "from plotly.subplots import make_subplots\n",
    "from sklearn.metrics.pairwise import euclidean_distances\n",
    "from tqdm import tqdm\n",
    "import os\n",
    "import lasio\n",
    "\n",
    "pd.options.display.precision = 3\n",
    "pd.options.display.float_format = lambda x: '%.5f' % x\n",
    "pd.options.display.max_columns = 15\n",
    "pd.options.display.max_rows = 6"
   ]
  },
  {
   "cell_type": "markdown",
   "metadata": {},
   "source": [
    "# Data uploading"
   ]
  },
  {
   "cell_type": "code",
   "execution_count": 3,
   "metadata": {},
   "outputs": [],
   "source": [
    "df_bal8_v4 = pd.read_csv('C:\\jupyter\\SPP\\inputoutput\\general_logs\\df_bal8_azr_v4.csv')\n",
    "well_phit_flag8 = df_bal8_v4[df_bal8_v4.phit_flag==1].groupby('well')['phit_flag'].apply(lambda x: x.iloc[0]).reset_index().well.unique()\n",
    "df_bal8_v4_flag = df_bal8_v4[df_bal8_v4.well.isin(well_phit_flag8)]\n",
    "\n",
    "df_bal10_v4 = pd.read_csv('C:\\jupyter\\SPP\\inputoutput\\general_logs\\df_bal10_vshclp2_v4.csv')\n",
    "well_phit_flag10 = df_bal10_v4[df_bal10_v4.phit_flag==1].groupby('well')['phit_flag'].apply(lambda x: x.iloc[0]).reset_index().well.unique()\n",
    "df_bal10_v4_flag = df_bal10_v4[df_bal10_v4.well.isin(well_phit_flag10)]"
   ]
  },
  {
   "cell_type": "code",
   "execution_count": 4,
   "metadata": {},
   "outputs": [],
   "source": [
    "ntd_top_phi_bot8_bp_v4 = pd.read_csv(r'C:\\jupyter\\SPP\\inputoutput\\layers\\ntd_top_phi_bot8_bp_v4.csv').drop('Unnamed: 0', axis=1)\n",
    "ntd_top_phi_bot10_bp_v4 = pd.read_csv(r'C:\\jupyter\\SPP\\inputoutput\\layers\\ntd_top_phi_bot10_bp_v4.csv').drop('Unnamed: 0', axis=1)"
   ]
  },
  {
   "cell_type": "code",
   "execution_count": 5,
   "metadata": {},
   "outputs": [],
   "source": [
    "def well_dist_calc(dataset, fm):\n",
    "    data = dataset.groupby('well')[['Xmean', 'Ymean']].first().reset_index().dropna()\n",
    "    row_name = data.well.reset_index().drop(['index'], axis=1)\n",
    "    distance_fm = pd.DataFrame(euclidean_distances(data[['Xmean', 'Ymean']]), columns=list(data.well))\n",
    "    distance_fm_well = distance_fm.join(row_name).set_index('well')\n",
    "    distance_fm_well = distance_fm_well.reset_index()\n",
    "    dist_melt = distance_fm_well.melt(id_vars='well', \n",
    "                                var_name='well2', \n",
    "                                value_name='dist').rename(columns={'well':'well_offset', 'well2':'well'})\n",
    "    dist_melt = dist_melt[['well', 'well_offset', 'dist']]\n",
    "    dist_melt = dist_melt[dist_melt.dist != 0].sort_values(by=['well','dist'])\n",
    "    dist_melt['FORMATION_up'] = fm\n",
    "    return dist_melt\n",
    "\n",
    "dist_bal8 = well_dist_calc(df_bal8_v4_flag, 'Balakhany VIII')\n",
    "dist_bal10 = well_dist_calc(df_bal10_v4_flag, 'Balakhany X')"
   ]
  },
  {
   "cell_type": "markdown",
   "metadata": {},
   "source": [
    "# Property EDA"
   ]
  },
  {
   "cell_type": "markdown",
   "metadata": {},
   "source": [
    "## Dashboard"
   ]
  },
  {
   "cell_type": "code",
   "execution_count": null,
   "metadata": {},
   "outputs": [],
   "source": [
    "dataset = df_bal8_v4_flag\n",
    "data = dataset.groupby('well')[['Xmean', 'Ymean']].first().reset_index().dropna()\n",
    "distance_fm = pd.DataFrame(euclidean_distances(data[['Xmean', 'Ymean']]), columns=list(data.well))\n",
    "row_name = data.well.reset_index().drop(['index'], axis=1)\n",
    "distance_fm_well = distance_fm.join(row_name).set_index('well')\n",
    "distance_fm_well = distance_fm_well.reset_index()\n",
    "distance_fm_well"
   ]
  },
  {
   "cell_type": "code",
   "execution_count": 47,
   "metadata": {},
   "outputs": [],
   "source": [
    "def well_dist_calc(dataset, fm):\n",
    "    data = dataset.groupby('well')[['Xmean', 'Ymean']].first().reset_index().dropna()\n",
    "    row_name = data.well.reset_index().drop(['index'], axis=1)\n",
    "    distance_fm = pd.DataFrame(euclidean_distances(data[['Xmean', 'Ymean']]), columns=list(data.well))\n",
    "    distance_fm_well = distance_fm.join(row_name).set_index('well')\n",
    "    distance_fm_well = distance_fm_well.reset_index()\n",
    "    dist_melt = distance_fm_well.melt(id_vars='well', \n",
    "                                var_name='well2', \n",
    "                                value_name='dist').rename(columns={'well':'well_offset', 'well2':'well'})\n",
    "    dist_melt = dist_melt[['well', 'well_offset', 'dist']]\n",
    "    dist_melt = dist_melt[dist_melt.dist != 0].sort_values(by=['well','dist'])\n",
    "    dist_melt['FORMATION_up'] = fm\n",
    "    return dist_melt\n",
    "\n",
    "def well_list_selection(df, well_n):\n",
    "    df_khtst = df.groupby('well')[['KHtst', 'field']].first().reset_index()\n",
    "    df_khtst = df_khtst[df_khtst.KHtst != 0]\n",
    "    df_khtst = df_khtst.sort_values(by=['KHtst', 'field'], ascending=False)[:well_n-1].reset_index(drop=True)\n",
    "    return df_khtst\n",
    "\n",
    "def well_offset_comparison_dashboard(dataset_wells, dataset_layers, dist_df,  well_target, offset_qty, fm_name, print_flag):\n",
    "    offset_well_list = dist_df[dist_df.well == well_target].iloc[:offset_qty]['well_offset'].values.tolist()\n",
    "    # offset_well_list = dist_df[dist_df.well == well_target].iloc[:offset_qty]\n",
    "    well_list = [well_target] + offset_well_list\n",
    "    data_logs = dataset_wells[(dataset_wells.well.isin(well_list)) & (dataset_wells.PHIT != 0)]\n",
    "    data_layers = dataset_layers[   (dataset_layers.well.isin(well_list)) & \n",
    "                                    (dataset_layers.htst > 1)]\n",
    "    khtst_logs = data_logs.groupby(['well','FORMATION'])[['KHtst']].apply(lambda x: x.iloc[0] - x.iloc[-1]).reset_index()\n",
    "\n",
    "    def khtst_layer_calculation(data_logs):\n",
    "        data = data_logs[data_logs.NET == 1]\n",
    "        df_lst = []\n",
    "        for wellname in data.well.unique():\n",
    "            well_data = data_logs[data_logs.well == wellname]\n",
    "            well_data['tst_index_rev'] = [i for i in range(len(well_data['TST']))[::-1]]\n",
    "            df_lst.append(well_data)\n",
    "        data_logs_khtst = pd.concat(df_lst)\n",
    "        return data_logs_khtst\n",
    "    data_logs_khtst = khtst_layer_calculation(data_logs)\n",
    "\n",
    "    def well_dist_title(dist_df):\n",
    "        offset_well_list = dist_df[dist_df.well == well_target].iloc[:offset_qty]\n",
    "        well = offset_well_list['well'].iloc[0]\n",
    "        well1 = offset_well_list.iloc[0,1]\n",
    "        dist1 = offset_well_list.iloc[0,2].round(0).astype(int)\n",
    "        well2 = offset_well_list.iloc[1,1]\n",
    "        dist2 = offset_well_list.iloc[1,2].round(0).astype(int)\n",
    "        well3 = offset_well_list.iloc[2,1]\n",
    "        dist3 = offset_well_list.iloc[2,2].round(0).astype(int)\n",
    "        return f\"target well {well} : offsets {well1} - {dist1}m orange; {well2} - {dist2}m green; {well3} - {dist3}m blue;\"\n",
    "\n",
    "    fig = plt.figure(figsize=(22, 10))\n",
    "    gs = gridspec.GridSpec(2, 4, figure=fig)\n",
    "    ax1 = fig.add_subplot(gs[0, 0])\n",
    "    ax2 = fig.add_subplot(gs[0, 1])\n",
    "    ax3 = fig.add_subplot(gs[0, 2])\n",
    "    ax4 = fig.add_subplot(gs[0, 3])\n",
    "    ax5 = fig.add_subplot(gs[1, :3])\n",
    "\n",
    "    custom_palette = {well_target: 'red', offset_well_list[0]: 'orange', offset_well_list[1]: 'green', offset_well_list[2]: '#0797eb'}\n",
    "    sns.histplot(data=data_logs, x='PHIT', hue='well', bins=50, kde=True, ax=ax1, palette=custom_palette)\n",
    "    sns.scatterplot(data=data_layers, x='htst', y='perm_avg', hue='well', s=75, ax=ax2, alpha=0.5, ec='black', palette=custom_palette)\n",
    "    sns.lineplot(data=data_logs_khtst, x='tst_index_rev', y='KHtst', hue='well', ax=ax3, palette=custom_palette)\n",
    "    sns.barplot(data = khtst_logs, x='FORMATION', y='KHtst', hue='well', ax=ax4, palette=custom_palette)\n",
    "    ax1.set_yticklabels(ax1.get_yticklabels(), rotation=90, va='center')\n",
    "    ax2.set_yscale('log')\n",
    "    ax2.grid(True, which='both', linestyle='--', linewidth=0.5)\n",
    "    ax2.set_yticklabels(ax2.get_yticklabels(), rotation=90, va='center')\n",
    "    ax3.grid(True, which='both', linestyle='--', linewidth=0.5)\n",
    "    ax3.set_yticklabels(ax3.get_yticklabels(), rotation=90, va='center')\n",
    "\n",
    "    x = np.arange(len(khtst_logs.FORMATION.unique()))\n",
    "    fms = khtst_logs.FORMATION.unique()\n",
    "    ax4.set_xticks(x, fms, rotation=45, fontsize=6)\n",
    "    ax4.set_yticklabels(ax4.get_yticklabels(), rotation=90, va='center')\n",
    "\n",
    "    offset_well_list = dist_df[dist_df.well == well_target].iloc[:offset_qty]['well_offset'].values.tolist()\n",
    "    x = dataset_wells[dataset_wells.phit_flag == 1]['Xmean']\n",
    "    y = dataset_wells[dataset_wells.phit_flag == 1]['Ymean']\n",
    "    x_target = dataset_wells[dataset_wells.well == well_target]['Xmean'].iloc[0]\n",
    "    y_target = dataset_wells[dataset_wells.well == well_target]['Ymean'].iloc[0]\n",
    "    x_well1 = dataset_wells[dataset_wells.well == offset_well_list[0]]['Xmean'].iloc[0]\n",
    "    y_well1 = dataset_wells[dataset_wells.well == offset_well_list[0]]['Ymean'].iloc[0]\n",
    "    x_well2 = dataset_wells[dataset_wells.well == offset_well_list[1]]['Xmean'].iloc[0]\n",
    "    y_well2 = dataset_wells[dataset_wells.well == offset_well_list[1]]['Ymean'].iloc[0]\n",
    "    x_well3 = dataset_wells[dataset_wells.well == offset_well_list[2]]['Xmean'].iloc[0]\n",
    "    y_well3 = dataset_wells[dataset_wells.well == offset_well_list[2]]['Ymean'].iloc[0]\n",
    "    ax5.scatter(x, y, color='gray', s=10)\n",
    "    ax5.scatter(x_target, y_target, color='red', s=50, ec='black')\n",
    "    ax5.scatter(x_well1, y_well1, color='orange')\n",
    "    ax5.scatter(x_well2, y_well2, color='green')\n",
    "    ax5.scatter(x_well3, y_well3, color='#0797eb')\n",
    "\n",
    "    plt.suptitle(well_dist_title(dist_df), fontsize=16, y=0.92, x=0.32)\n",
    "    if print_flag == 'print':\n",
    "        plt.savefig(f'C:/jupyter/SPP/plots/offset_dashboard/{fm_name}_{well_target}_offset_dashboard.png');"
   ]
  },
  {
   "cell_type": "code",
   "execution_count": null,
   "metadata": {},
   "outputs": [],
   "source": [
    "dist_bal8 = well_dist_calc(df_bal8_v4_flag, 'Balakhany VIII')\n",
    "df_bal8_khtst = well_list_selection(df_bal8_v4_flag, 10)\n",
    "for wellname in df_bal8_khtst.well:\n",
    "    try:\n",
    "        well_offset_comparison_dashboard(df_bal8_v4_flag, ntd_top_phi_bot8_bp_v4, dist_bal8, wellname, 3, 'bal8','print')\n",
    "    except:\n",
    "        print(f\"error in {wellname}\")"
   ]
  },
  {
   "cell_type": "code",
   "execution_count": null,
   "metadata": {},
   "outputs": [],
   "source": [
    "df_bal10_v4_flag = df_bal10_v4_flag[~df_bal10_v4_flag.well.isin(['E31Z'])]\n",
    "dist_bal10 = well_dist_calc(df_bal10_v4_flag, 'Balakhany X')\n",
    "df_bal10_khtst = well_list_selection(df_bal10_v4_flag, 10)\n",
    "for wellname in df_bal10_khtst.well:\n",
    "    try:\n",
    "        well_offset_comparison_dashboard(df_bal10_v4_flag, ntd_top_phi_bot10_bp_v4, dist_bal10, wellname, 3, 'bal10','print')\n",
    "    except:\n",
    "        print(f\"error in {wellname}\")"
   ]
  },
  {
   "cell_type": "code",
   "execution_count": null,
   "metadata": {},
   "outputs": [],
   "source": []
  },
  {
   "cell_type": "code",
   "execution_count": null,
   "metadata": {},
   "outputs": [],
   "source": []
  },
  {
   "cell_type": "markdown",
   "metadata": {},
   "source": [
    "## Distance df"
   ]
  },
  {
   "cell_type": "code",
   "execution_count": null,
   "metadata": {},
   "outputs": [],
   "source": []
  },
  {
   "cell_type": "markdown",
   "metadata": {},
   "source": [
    "# Superfacies"
   ]
  },
  {
   "cell_type": "code",
   "execution_count": null,
   "metadata": {},
   "outputs": [],
   "source": [
    "df_bal8_v4_net = df_bal8_v4[df_bal8_v4.NET == 1]\n",
    "avg_phit = df_bal8_v4_net.groupby('well')['PHIT'].mean().reset_index().rename(columns={'PHIT':'PHIT_avg'})\n",
    "first_khtst = df_bal8_v4_net.groupby('well')['KHtst'].first().reset_index().rename(columns={'KHtst':'KHtst_first'})\n",
    "field = df_bal8_v4_net.groupby('well')['field'].first().reset_index()\n",
    "data_khphit = (avg_phit.merge(first_khtst, on='well')).merge(field, on='well')\n",
    "data_khphit = data_khphit[data_khphit.PHIT_avg > 0.1]\n",
    "sns.scatterplot(data=data_khphit, x='PHIT_avg', y='KHtst_first', hue='field', s=75, alpha=0.5, ec='black')\n",
    "plt.yscale('log')\n",
    "plt.grid(True, which='both', linestyle='--', linewidth=0.5)\n",
    "plt.title('KHtst vs PHIT Bal8');"
   ]
  },
  {
   "cell_type": "code",
   "execution_count": null,
   "metadata": {},
   "outputs": [],
   "source": [
    "data_khphit['vis_cluster'] = 0\n",
    "data_khphit.loc[(data_khphit.KHtst_first > 18000) & (data_khphit.PHIT_avg >=0.2), 'vis_cluster'] = 1\n",
    "data_khphit.loc[(data_khphit.KHtst_first > 10000) & (data_khphit.PHIT_avg > 0.245), 'vis_cluster'] = 1\n",
    "data_khphit.loc[(data_khphit.KHtst_first < 2000), 'vis_cluster'] = 2\n",
    "data_khphit.loc[(data_khphit.KHtst_first > 8000) & (data_khphit.PHIT_avg < 0.205), 'vis_cluster'] = 3\n",
    "data_khphit.loc[(data_khphit.PHIT_avg < 0.14), 'vis_cluster'] = 3\n",
    "sns.scatterplot(data=data_khphit, x='PHIT_avg', y='KHtst_first', hue='vis_cluster', s=75, alpha=0.5, ec='black', palette='plasma')\n",
    "plt.yscale('log')\n",
    "plt.grid(True, which='both', linestyle='--', linewidth=0.5)\n",
    "plt.title('KHtst vs PHIT Bal8');"
   ]
  },
  {
   "cell_type": "code",
   "execution_count": 13,
   "metadata": {},
   "outputs": [],
   "source": [
    "# df_bal8_azr_v3 = df_bal8_azr_v3.merge(data_khphit[['well', 'vis_cluster']], on='well')\n",
    "# df_bal8_azr_v3.to_csv('C:\\jupyter\\SPP\\inputoutput\\general_logs\\df_bal8_azr_v3.csv')"
   ]
  },
  {
   "cell_type": "code",
   "execution_count": 82,
   "metadata": {},
   "outputs": [],
   "source": [
    "# from sklearn.preprocessing import StandardScaler\n",
    "# from sklearn.cluster import KMeans\n",
    "# from sklearn.cluster import DBSCAN\n",
    "\n",
    "# data = data_khphit.drop(['well','field'], axis=1)\n",
    "# scaler = StandardScaler()\n",
    "# # normalized_data = scaler.fit_transform(data)\n",
    "# normalized_data = data\n",
    "\n",
    "# kmeans = KMeans(n_clusters=3, random_state=151)\n",
    "# kmeans_labels = kmeans.fit_predict(normalized_data)\n",
    "# kmeans_labels = pd.DataFrame(kmeans_labels, columns=['kmeans'])\n",
    "# data_khphit_clustered = data_khphit.join(kmeans_labels)\n",
    "# sns.scatterplot(data=data_khphit_clustered, x='PHIT_avg', y='KHtst_first', hue='kmeans', s=75, alpha=0.5, ec='black', palette='viridis')\n",
    "# plt.yscale('log')"
   ]
  },
  {
   "cell_type": "code",
   "execution_count": 81,
   "metadata": {},
   "outputs": [],
   "source": [
    "# data = data_khphit.drop(['well','field'], axis=1)\n",
    "# normalized_data = data\n",
    "\n",
    "# dbscan = DBSCAN(eps=250, min_samples=3)\n",
    "# dbscan_labels = dbscan.fit_predict(normalized_data)\n",
    "# dbscan_labels = pd.DataFrame(dbscan_labels, columns=['dbscan'])\n",
    "# data_khphit_clustered = data_khphit.join(dbscan_labels)\n",
    "\n",
    "# sns.scatterplot(data=data_khphit_clustered, x='PHIT_avg', y='KHtst_first', hue='dbscan', s=75, alpha=0.5, ec='black', palette='viridis')\n",
    "# # plt.yscale('log')"
   ]
  },
  {
   "cell_type": "code",
   "execution_count": null,
   "metadata": {},
   "outputs": [],
   "source": []
  },
  {
   "cell_type": "markdown",
   "metadata": {},
   "source": [
    "# Experiments with data"
   ]
  },
  {
   "cell_type": "markdown",
   "metadata": {},
   "source": [
    "## Ntg vs vsh_avg"
   ]
  },
  {
   "cell_type": "code",
   "execution_count": null,
   "metadata": {},
   "outputs": [],
   "source": [
    "net = ntd_top_phi_bot8_bp_v4.groupby('well')['htst'].sum().reset_index()\n",
    "ntd_top_phi_bot8_bp_v4['tst_interval'] = ntd_top_phi_bot8_bp_v4['fm_bot_tst'] - ntd_top_phi_bot8_bp_v4['fm_top_tst']\n",
    "gross = ntd_top_phi_bot8_bp_v4.groupby('well')['tst_interval'].first().reset_index()\n",
    "ntg = net.merge(gross, on='well', how='left')\n",
    "ntg['ntg'] = ntg['htst'] / ntg['tst_interval']\n",
    "vsh_avg = df_bal8_v4.groupby('well')['VSH'].mean().reset_index()\n",
    "ntg_vsh = ntg.merge(vsh_avg, on='well', how='left')\n",
    "fig, ax = plt.subplots(figsize=(10, 6))\n",
    "sns.regplot(data=ntg_vsh, x='VSH', y='ntg', line_kws={'color': 'red'}, \n",
    "            scatter_kws={'s': 50})\n",
    "slope, intercept = np.polyfit(ntg_vsh['VSH'], ntg_vsh['ntg'], 1)\n",
    "corell = ntg_vsh[['VSH', 'ntg']].corr().iloc[0,1]\n",
    "plt.text(0.25, 0.6, f'y = {slope:.2f}x + {intercept:.2f} coefR={corell:.2f}')\n",
    "plt.xlim(0,1)\n",
    "plt.ylim(0,1)\n",
    "plt.grid()\n",
    "# ntg_vsh.to_csv(r'C:\\jupyter\\SPP\\inputoutput\\netvsh_net\\ntg_vsh.csv', index=False)"
   ]
  },
  {
   "cell_type": "code",
   "execution_count": null,
   "metadata": {},
   "outputs": [],
   "source": []
  },
  {
   "cell_type": "markdown",
   "metadata": {},
   "source": [
    "# Logs-df enrichment with ntd-df"
   ]
  },
  {
   "cell_type": "code",
   "execution_count": 3,
   "metadata": {},
   "outputs": [],
   "source": [
    "logs8 = pd.read_csv(r'C:\\jupyter\\SPP\\inputoutput\\general_logs\\df_bal8_azr_v4.csv')\n",
    "logs8.columns = logs8.columns.str.lower()\n",
    "ntd8 = pd.read_csv(r'C:\\jupyter\\SPP\\inputoutput\\layers\\ntd_top_phi_bot8_bp_v4.csv').drop('Unnamed: 0', axis=1)\n",
    "ntd8.columns = ntd8.columns.str.lower()\n",
    "logs10 = pd.read_csv(r'C:\\jupyter\\SPP\\inputoutput\\general_logs\\df_bal10_vshclp2_v4.csv')\n",
    "logs10.columns = logs10.columns.str.lower()\n",
    "ntd10 = pd.read_csv(r'C:\\jupyter\\SPP\\inputoutput\\layers\\ntd_top_phi_bot10_bp_v4.csv').drop('Unnamed: 0', axis=1)\n",
    "ntd10.columns = ntd10.columns.str.lower()"
   ]
  },
  {
   "cell_type": "code",
   "execution_count": 4,
   "metadata": {},
   "outputs": [],
   "source": [
    "def logs_join_ntd(dataset_ntd, dataset_logs):\n",
    "    well_lst = []\n",
    "    for wellname in dataset_ntd.well.unique():\n",
    "        data = dataset_ntd[dataset_ntd.well == wellname]\n",
    "        well_layers_lst = []\n",
    "        for idx, var in data.iterrows():\n",
    "            start_depth = var['layer_top_tst']\n",
    "            end_depth = var['layer_bot_tst']\n",
    "            new_tst = np.arange(start_depth, end_depth, 0.1)\n",
    "            new_well = [wellname for i in range(len(new_tst))]\n",
    "            new_htst = [var['htst'] for i in range(len(new_tst))]\n",
    "            df = pd.DataFrame({'well':new_well,'tst':new_tst, 'htst':new_htst})\n",
    "            well_layers_lst.append(df)\n",
    "        well_ntd_point = pd.concat(well_layers_lst).reset_index(drop=True)\n",
    "        well_lst.append(well_ntd_point)\n",
    "    result = pd.concat(well_lst)\n",
    "    dataset_logs['tst'] = dataset_logs['tst'].round(1)\n",
    "    result['tst'] = result['tst'].round(1)\n",
    "    log_ntd = dataset_logs.set_index(['well','tst']).join(result.set_index(['well','tst'])).reset_index()\n",
    "    log_ntd['htst'] = log_ntd['htst'].fillna(0)\n",
    "    log_ntd = log_ntd.rename(columns={'htst':'htst_ntd'})\n",
    "    log_ntd.columns = log_ntd.columns.str.lower()\n",
    "    return log_ntd\n",
    "logs8_ntd = logs_join_ntd(ntd8, logs8)\n",
    "logs10_ntd = logs_join_ntd(ntd10, logs10)\n",
    "logs8_ntd.to_csv(r'C:\\jupyter\\SPP\\inputoutput\\general_logs\\logs8_ntd_v4.csv', index=False)\n",
    "logs10_ntd.to_csv(r'C:\\jupyter\\SPP\\inputoutput\\general_logs\\logs10_ntd_v4.csv', index=False)"
   ]
  },
  {
   "cell_type": "code",
   "execution_count": null,
   "metadata": {},
   "outputs": [],
   "source": [
    "len(logs8_ntd.well.unique())"
   ]
  },
  {
   "cell_type": "code",
   "execution_count": null,
   "metadata": {},
   "outputs": [],
   "source": [
    "htst_quart = [logs8_ntd[logs8_ntd.htst_ntd >= 1]['htst_ntd'].quantile(0.25).round(0), \n",
    "              logs8_ntd[logs8_ntd.htst_ntd >= 1]['htst_ntd'].quantile(0.75).round(0)]\n",
    "logs8_ntd.loc[(logs8_ntd.htst_ntd < htst_quart[0]) & (logs8_ntd.htst_ntd != 0), 'htst_type'] = 'distal'\n",
    "logs8_ntd.loc[(logs8_ntd.htst_ntd >= htst_quart[0]) & (logs8_ntd.htst_ntd < htst_quart[1]), 'htst_type'] = 'proximal'\n",
    "logs8_ntd.loc[logs8_ntd.htst_ntd >= htst_quart[1], 'htst_type'] = 'axial'\n",
    "logs8_ntd['htst_type'] = logs8_ntd['htst_type'].fillna('nonres')\n",
    "print('qunatiles 0.25 & 0.75:', htst_quart)\n",
    "for field in logs8_ntd.field.unique():\n",
    "    data = logs8_ntd[(logs8_ntd.field == field) & (logs8_ntd.htst_type != 'nonres')]\n",
    "    fig, ax = plt.subplots(figsize=(7,5))\n",
    "    sns.histplot(data=data[data.htst_type == 'distal'], x='phit', color='green', bins=50, kde=True, edgecolor='none')\n",
    "    sns.histplot(data=data[data.htst_type == 'proximal'], x='phit', color='orange', bins=50, kde=True, edgecolor='none')\n",
    "    sns.histplot(data=data[data.htst_type == 'axial'], x='phit', color='yellow', bins=50, kde=True, edgecolor='gray')\n",
    "    plt.title(f'{field} phit vs htst_type')\n",
    "    plt.legend(['distal', 'proximal', 'axial'])\n",
    "    plt.xlim(0.05,0.3)"
   ]
  },
  {
   "cell_type": "markdown",
   "metadata": {},
   "source": [
    "# Analysing data by FU khtst"
   ]
  },
  {
   "cell_type": "code",
   "execution_count": null,
   "metadata": {},
   "outputs": [],
   "source": [
    "def diplay_fu_khtst_run(dataset, field_letter):\n",
    "    def khtst_fu_processing(dataset):\n",
    "        khtst_fu = dataset[dataset.phit_flag == 1].groupby(['well','formation'])['khtst'].apply(\n",
    "            lambda x: x.iloc[0] - x.iloc[-1]).reset_index().rename(columns={'khtst':'khtst_fu'})\n",
    "        khtst_fu.loc[khtst_fu.formation == 'Balakhany VIII 10', 'formation'] = '5bal8_10'\n",
    "        khtst_fu.loc[khtst_fu.formation == 'Balakhany VIII 15', 'formation'] = '4bal8_15'\n",
    "        khtst_fu.loc[khtst_fu.formation == 'Balakhany VIII 20', 'formation'] = '3bal8_20'\n",
    "        khtst_fu.loc[khtst_fu.formation == 'Balakhany VIII 25', 'formation'] = '2bal8_25'\n",
    "        khtst_fu.loc[khtst_fu.formation == 'Balakhany VIII 5', 'formation'] = '6bal8_05'\n",
    "        khtst_fu.loc[khtst_fu.formation == 'Balakhany VIII sand', 'formation'] = '1bal8_s'\n",
    "        khtst_fu = khtst_fu.sort_values(by=['well','formation'], ascending=[True, True])\n",
    "        return khtst_fu\n",
    "    khtst_fu = khtst_fu_processing(dataset)\n",
    "\n",
    "    def diplay_fu_khtst(khtst_fu):\n",
    "        khtst_fu_v2 = khtst_fu[khtst_fu.well.str.startswith(field_letter)]\n",
    "        col = 5\n",
    "        rows = len(khtst_fu_v2.well.unique()) // col + [1 if (len(khtst_fu_v2.well.unique()) % col) != 0 else 0][0]\n",
    "        fig, ax = plt.subplots(rows, col, figsize=(col*3, rows*2))\n",
    "        k = 0\n",
    "        max_k = len(khtst_fu_v2.well.unique()) - 2\n",
    "        for i in range(rows):\n",
    "            for j in range(col):\n",
    "                wellname = khtst_fu_v2.well.unique()[k]\n",
    "                data = khtst_fu_v2[(khtst_fu_v2.well == wellname)]\n",
    "                colors = ['red', 'green', 'blue', 'yellow', 'purple', 'orange'] * len(data)\n",
    "                ax[i, j].barh(data.formation, data.khtst_fu, color=colors)\n",
    "                ax[i, j].set_title(wellname)\n",
    "                ax[i, j].set_xlim(0.0, 12000)\n",
    "                ax[i, j].set_yticklabels(data.formation, rotation=45)\n",
    "                ax[i, j].invert_yaxis()\n",
    "                ax[i, j].grid(True, linestyle='--', linewidth=0.5)\n",
    "                if k < max_k:\n",
    "                    k += 1\n",
    "                else:\n",
    "                    break\n",
    "            plt.tight_layout()\n",
    "        return khtst_fu_v2\n",
    "    khtst_fu_v2 = diplay_fu_khtst(khtst_fu)\n",
    "    return khtst_fu_v2\n",
    "\n",
    "khtst_fu_Bv2 = diplay_fu_khtst_run(logs8_ntd, 'B')\n",
    "# khtst_fu_Cv2 = diplay_fu_khtst_run(logs8_ntd, 'C')\n",
    "# khtst_fu_Dv2 = diplay_fu_khtst_run(logs8_ntd, 'D')\n",
    "\n",
    "def khtst_fu_long_creation(dataset, column_name='khtst_fu'):\n",
    "    df_lst = []\n",
    "    for wellname in dataset.well.unique():\n",
    "        data = dataset[dataset.well == wellname]\n",
    "        df = pd.DataFrame(data[column_name].values.T.reshape(1,-1), columns=['1bal8_s', '2bal8_25', '3bal8_20', '4bal8_15', '5bal8_10','6bal8_05'])\n",
    "        df['well'] = wellname\n",
    "        df_lst.append(df)\n",
    "    khtst_fu_long = pd.concat(df_lst)\n",
    "    khtst_fu_long = khtst_fu_long[['well', '1bal8_s', '2bal8_25', '3bal8_20', '4bal8_15', '5bal8_10','6bal8_05']].reset_index(drop=True)\n",
    "    col_norm = ['1bal8_s', '2bal8_25', '3bal8_20', '4bal8_15', '5bal8_10', '6bal8_05']\n",
    "    khtst_fu_long[col_norm] = khtst_fu_long[col_norm].apply(lambda x: (x - x.min()) / (x.max() - x.min()), axis=1)\n",
    "    return khtst_fu_long\n",
    "khtst_fuB_long = khtst_fu_long_creation(khtst_fu_Bv2)\n",
    "# khtst_fuC_long = khtst_fu_long_creation(khtst_fu_Cv2)\n",
    "# khtst_fuD_long = khtst_fu_long_creation(khtst_fu_Dv2)"
   ]
  },
  {
   "cell_type": "code",
   "execution_count": 36,
   "metadata": {},
   "outputs": [],
   "source": [
    "def vsh_fu_processing(log_data):\n",
    "    vsh_fu = log_data[log_data.phit_flag == 1].groupby(['well','formation'])['vsh'].mean().reset_index().rename(columns={'vsh':'vsh_fu'})\n",
    "    vsh_fu.loc[vsh_fu.formation == 'Balakhany VIII 10', 'formation'] = '5bal8_10'\n",
    "    vsh_fu.loc[vsh_fu.formation == 'Balakhany VIII 15', 'formation'] = '4bal8_15'\n",
    "    vsh_fu.loc[vsh_fu.formation == 'Balakhany VIII 20', 'formation'] = '3bal8_20'\n",
    "    vsh_fu.loc[vsh_fu.formation == 'Balakhany VIII 25', 'formation'] = '2bal8_25'\n",
    "    vsh_fu.loc[vsh_fu.formation == 'Balakhany VIII 5', 'formation'] = '6bal8_05'\n",
    "    vsh_fu.loc[vsh_fu.formation == 'Balakhany VIII sand', 'formation'] = '1bal8_s'\n",
    "    vsh_fu = vsh_fu.sort_values(by=['well','formation'], ascending=[True, True])\n",
    "    vsh_fu['vsh_fu_r'] = 1 - vsh_fu['vsh_fu']\n",
    "    return vsh_fu\n",
    "vsh_fu = vsh_fu_processing(logs8_ntd)"
   ]
  },
  {
   "cell_type": "code",
   "execution_count": null,
   "metadata": {},
   "outputs": [],
   "source": [
    "bal8_fu10top = ['B02', 'B02Z', 'B13Z', 'B14Z', 'B16Y', 'B16Z', 'B19','B27Z', 'B34', 'B34Z', 'B37', 'B38Z']\n",
    "vsh_khtst_fu = vsh_fu.set_index(['well','formation']).join(khtst_fu_Bv2.set_index(['well','formation'])).reset_index()\n",
    "vsh_khtst_fu = vsh_khtst_fu[vsh_khtst_fu.formation == '5bal8_10']\n",
    "vsh_khtst_fu['feature'] = 'norm'\n",
    "vsh_khtst_fu.loc[vsh_khtst_fu.well.isin(bal8_fu10top), 'feature'] = 'khtst_top'\n",
    "\n",
    "def plotly_vsh_khtst(vsh_khtst_fu):\n",
    "    fig = go.Figure()\n",
    "    fig.add_trace(go.Scatter(\n",
    "        x=vsh_khtst_fu['vsh_fu_r'],\n",
    "        y=vsh_khtst_fu['khtst_fu'],\n",
    "        mode='markers',\n",
    "        marker=dict(color=vsh_khtst_fu['feature'].map({'norm': 'blue', 'khtst_top': 'red'}), size=10),  # Map feature to color\n",
    "        text=vsh_khtst_fu['well'],  # This will be shown on hover\n",
    "        hoverinfo='text + x + y'  # Customize hover text\n",
    "    ))\n",
    "\n",
    "    fig.update_layout(\n",
    "        title='Vsh vs Khtst Bal8_10',\n",
    "        xaxis_title='vsh_fu_r',\n",
    "        yaxis_title='khtst_fu',\n",
    "        hovermode='closest',\n",
    "        width=500,\n",
    "        height=500,\n",
    "        margin = dict(l=0, r=10, t=50, b=0),\n",
    "        showlegend=False\n",
    "    )\n",
    "    fig.show()\n",
    "plotly_vsh_khtst(vsh_khtst_fu)"
   ]
  },
  {
   "cell_type": "code",
   "execution_count": null,
   "metadata": {},
   "outputs": [],
   "source": [
    "logs8_ntd = logs8_ntd[logs8_ntd.phit_flag == 1]\n",
    "df_bal8_10 = logs8_ntd[(logs8_ntd.formation == 'Balakhany VIII 10') & (logs8_ntd.well.str.startswith('B'))]\n",
    "df_bal8_10_htst = df_bal8_10.groupby('well')['net'].sum().reset_index()\n",
    "df_bal8_10_htst['net'] = df_bal8_10_htst['net']*0.1\n",
    "df_bal8_10_phit = df_bal8_10[df_bal8_10.net == 1].groupby('well')['phit'].sum().reset_index()\n",
    "df_bal8_10_phit['phit'] = df_bal8_10_phit['phit']*0.1\n",
    "df_bal8_10 = df_bal8_10_phit.set_index('well').join(df_bal8_10_htst.set_index('well')).reset_index()\n",
    "df_bal8_10['feature'] = 'norm'\n",
    "df_bal8_10.loc[df_bal8_10.well.isin(bal8_fu10top), 'feature'] = 'khtst_top'\n",
    "\n",
    "def plotly_phit_net(df_bal8_10):\n",
    "    fig = go.Figure()\n",
    "    fig.add_trace(go.Scatter(\n",
    "        x=df_bal8_10['phit'],\n",
    "        y=df_bal8_10['net'],\n",
    "        mode='markers',\n",
    "        marker=dict(color=df_bal8_10['feature'].map({'norm': 'blue', 'khtst_top': 'red'}), size=10),  # Map feature to color\n",
    "        text=df_bal8_10['well'],  # This will be shown on hover\n",
    "        hoverinfo='text + x + y'  # Customize hover text\n",
    "    ))\n",
    "\n",
    "    fig.update_layout(\n",
    "        title='Net vs phit.sum() Bal8_10',\n",
    "        xaxis_title='phit',\n",
    "        yaxis_title='net',\n",
    "        hovermode='closest',\n",
    "        width=500,\n",
    "        height=500,\n",
    "        margin = dict(l=0, r=10, t=50, b=0),\n",
    "        showlegend=False\n",
    "    )\n",
    "    fig.show()\n",
    "plotly_phit_net(df_bal8_10)"
   ]
  },
  {
   "cell_type": "markdown",
   "metadata": {},
   "source": [
    "## upload las from cube"
   ]
  },
  {
   "cell_type": "code",
   "execution_count": null,
   "metadata": {},
   "outputs": [],
   "source": [
    "# folder_path = r'C:\\Petrel\\exports\\cube_logs'\n",
    "# las_files = [f for f in os.listdir(folder_path) if f.endswith('.las')]\n",
    "# df_lst = []\n",
    "# for las_file in tqdm(las_files):\n",
    "#     file_path = os.path.join(folder_path, las_file)\n",
    "#     las = lasio.read(file_path)\n",
    "#     df = las.df().reset_index()\n",
    "#     df['well'] = las_file.split('.')[0]\n",
    "#     df = df[['well','DEPT','GR_CUBE']]\n",
    "#     df['DEPT'] = df['DEPT'].round(1)\n",
    "#     df_lst.append(df)\n",
    "# gr_cube = pd.concat(df_lst)\n",
    "# gr_cube.columns = gr_cube.columns.str.lower()"
   ]
  },
  {
   "cell_type": "code",
   "execution_count": 20,
   "metadata": {},
   "outputs": [],
   "source": [
    "# gr_cube = gr_cube.rename(columns={'dept':'md', 'gr_cube':'vsh_cube'})\n",
    "# gr_cube_v2 = gr_cube.dropna()\n",
    "# gr_cube_v2.to_csv(r'C:\\Petrel\\exports\\cube_logs\\gr_cube_v2.csv', index=False)"
   ]
  },
  {
   "cell_type": "markdown",
   "metadata": {},
   "source": [
    "## logs_ntd_v5 & gr_cube"
   ]
  },
  {
   "cell_type": "code",
   "execution_count": 7,
   "metadata": {},
   "outputs": [],
   "source": [
    "gr_cube_v2 = pd.read_csv(r'C:\\Petrel\\exports\\cube_logs\\gr_cube_v2.csv')"
   ]
  },
  {
   "cell_type": "code",
   "execution_count": 8,
   "metadata": {},
   "outputs": [],
   "source": [
    "logs8_ntd_v2 = logs8_ntd.set_index(['well','md']).join(gr_cube_v2.set_index(['well','md'])).reset_index()\n",
    "logs10_ntd_v2 = logs10_ntd.set_index(['well','md']).join(gr_cube_v2.set_index(['well','md'])).reset_index()"
   ]
  },
  {
   "cell_type": "code",
   "execution_count": 2,
   "metadata": {},
   "outputs": [],
   "source": [
    "# logs8_ntd_v2.columns\n",
    "# wellname = 'B02'\n",
    "# data = logs8_ntd_v2[logs8_ntd_v2.well == wellname]\n",
    "# depth = data.tst \n",
    "# vsh_log = data.vsh\n",
    "# vsh_cube = data.vsh_cube\n",
    "# fig, ax = plt.subplots(3, 5, figsize=(15,21))\n",
    "# ax[0,0].plot(vsh_log, depth, color='gray')\n",
    "# ax[0,0].plot(vsh_cube, depth, color='red')\n",
    "# ax[0,0].invert_yaxis()\n",
    "# ax[0,0].grid(True, linestyle='--', linewidth=0.5)\n",
    "# ax[0,0].set_xlabel('VSH')\n",
    "# ax[0,0].title.set_text(wellname + ' Bal8')\n",
    "# ax[0,0].legend(['VSH log', 'VSH cube']);"
   ]
  },
  {
   "cell_type": "code",
   "execution_count": 9,
   "metadata": {},
   "outputs": [],
   "source": [
    "def form_field_renames(logs8_ntd):\n",
    "    logs8_ntd.loc[logs8_ntd.formation == 'Balakhany VIII 5', 'formation'] = '6_Balakhany VIII 5'\n",
    "    logs8_ntd.loc[logs8_ntd.formation == 'Balakhany VIII 10', 'formation'] = '5_Balakhany VIII 10'\n",
    "    logs8_ntd.loc[logs8_ntd.formation == 'Balakhany VIII 15', 'formation'] = '4_Balakhany VIII 15'\n",
    "    logs8_ntd.loc[logs8_ntd.formation == 'Balakhany VIII 20', 'formation'] = '3_Balakhany VIII 20'\n",
    "    logs8_ntd.loc[logs8_ntd.formation == 'Balakhany VIII 25', 'formation'] = '2_Balakhany VIII 25'\n",
    "    logs8_ntd.loc[logs8_ntd.formation == 'Balakhany VIII sand', 'formation'] = '1_Balakhany VIII sand'\n",
    "\n",
    "    logs8_ntd.loc[logs8_ntd.field == 'WEST AZERI', 'field'] = '1_WEST AZERI'\n",
    "    logs8_ntd.loc[logs8_ntd.field == 'CENTRAL AZERI', 'field'] = '2_CENTRAL AZERI'\n",
    "    logs8_ntd.loc[logs8_ntd.field == 'EAST AZERI', 'field'] = '3_EAST AZERI'\n",
    "    return logs8_ntd\n",
    "logs8_ntd_v2 = form_field_renames(logs8_ntd_v2)"
   ]
  },
  {
   "cell_type": "code",
   "execution_count": 12,
   "metadata": {},
   "outputs": [],
   "source": [
    "def fu_metrics_calculation(dataset):\n",
    "    khtst_fu = dataset[dataset.phit_flag == 1].groupby(\n",
    "                                                ['well','formation'])['khtst'].apply(\n",
    "                                                lambda x: x.iloc[0] - x.iloc[-1]).reset_index().rename(columns={'khtst':'khtst_fu'})\n",
    "    vsh_fu = dataset[dataset.phit_flag == 1].groupby(['well','formation'])['vsh'].mean().reset_index().rename(columns={'vsh':'vsh_fu'})\n",
    "    net_fu = dataset[dataset.phit_flag == 1].groupby(['well','formation'])['net'].sum().reset_index().rename(columns={'net':'net_fu'})\n",
    "    df_merged = khtst_fu.merge(vsh_fu, on=['well', 'formation']).merge(net_fu, on=['well', 'formation'])\n",
    "    return df_merged\n",
    "df_merged = fu_metrics_calculation(logs8_ntd_v2)\n",
    "logs8_ntd_v3 = logs8_ntd_v2.set_index(['well','formation']).join(\n",
    "    df_merged.set_index(['well','formation'])).reset_index()"
   ]
  },
  {
   "cell_type": "code",
   "execution_count": 15,
   "metadata": {},
   "outputs": [],
   "source": [
    "logs8_ntd_v3.to_csv(r'C:\\jupyter\\SPP\\inputoutput\\general_logs\\logs8_ntd_v5.csv', index=False)\n",
    "logs10_ntd_v2.to_csv(r'C:\\jupyter\\SPP\\inputoutput\\general_logs\\logs10_ntd_v4.csv', index=False)"
   ]
  },
  {
   "cell_type": "markdown",
   "metadata": {},
   "source": [
    "# Spotfire logs"
   ]
  },
  {
   "cell_type": "code",
   "execution_count": null,
   "metadata": {},
   "outputs": [],
   "source": [
    "spotfire_logs = pd.read_csv(r'C:\\jupyter\\SPP\\inputoutput\\general_logs\\logs8_ntd_v5.csv')\n",
    "spotfire_logs.columns"
   ]
  },
  {
   "cell_type": "code",
   "execution_count": null,
   "metadata": {},
   "outputs": [],
   "source": [
    "spotfire_logs = spotfire_logs[['well', 'tst','gr_n', 'vsh', 'npss','rhob', 'rdeep','vsh_cube']]\n",
    "spotfire_logs\n",
    "# spotfire_logs.to_csv(r'C:\\jupyter\\SPP\\inputoutput\\spotfire_logs_test.csv', index=False)"
   ]
  },
  {
   "cell_type": "code",
   "execution_count": 20,
   "metadata": {},
   "outputs": [],
   "source": [
    "import pandas as pd\n",
    "\n",
    "# Assuming spotfire_logs is your DataFrame\n",
    "# Melting the DataFrame\n",
    "melted_spotfire_logs = pd.melt(spotfire_logs, id_vars=['well', 'tst'], \n",
    "                               var_name='measurement', value_name='value')\n",
    "\n",
    "# Display the melted DataFrame\n",
    "melted_spotfire_logs.to_csv(r'C:\\jupyter\\SPP\\inputoutput\\spotfire_logs_test.csv', index=False)"
   ]
  },
  {
   "cell_type": "markdown",
   "metadata": {},
   "source": [
    "# Fluids data upload"
   ]
  },
  {
   "cell_type": "code",
   "execution_count": 112,
   "metadata": {},
   "outputs": [],
   "source": [
    "df_bal8_azr_v4 = pd.read_csv('C:\\jupyter\\SPP\\inputoutput\\general_logs\\df_bal8_azr_v4.csv').drop('Unnamed: 0', axis=1)\n",
    "# fluids = pd.read_csv(r'C:\\jupyter\\SPP\\input\\fluidcode_sql_tl.csv', names = ['well', 'MD','fluid_code'])\n",
    "# fluids['fluid_code'] = fluids['fluid_code'].fillna(0)\n",
    "# fluids8_v2 = df_bal8_azr_v4[df_bal8_azr_v4.phit_flag==1].set_index(['well','MD']).join(fluids.set_index(['well','MD']))"
   ]
  },
  {
   "cell_type": "code",
   "execution_count": 113,
   "metadata": {},
   "outputs": [],
   "source": [
    "df_bal10_vshclp2_v4 = pd.read_csv('C:\\jupyter\\SPP\\inputoutput\\general_logs\\df_bal10_vshclp2_v4.csv').drop('Unnamed: 0', axis=1)\n",
    "# fluids10_v2 = df_bal10_vshclp2_v4[df_bal10_vshclp2_v4.phit_flag==1].set_index(['well','MD']).join(fluids.set_index(['well','MD']))"
   ]
  },
  {
   "cell_type": "code",
   "execution_count": null,
   "metadata": {},
   "outputs": [],
   "source": [
    "fluids8_v3 = df_bal8_azr_v4.groupby('well')[['fluid_code','NET']].count().reset_index()\n",
    "sns.scatterplot(data=fluids8_v3, x='NET', y='fluid_code')\n",
    "sns.lineplot(x=[0,4000], y=[0,4000], color='red', linestyle='--')"
   ]
  },
  {
   "cell_type": "code",
   "execution_count": null,
   "metadata": {},
   "outputs": [],
   "source": [
    "fluids10_v3 = df_bal10_vshclp2_v4.groupby('well')[['fluid_code','NET']].count().reset_index()\n",
    "sns.scatterplot(data=fluids10_v3[fluids10_v3.NET < 6000], x='NET', y='fluid_code')\n",
    "sns.lineplot(x=[0,6000], y=[0,6000], color='red', linestyle='--')"
   ]
  },
  {
   "cell_type": "markdown",
   "metadata": {},
   "source": [
    "# Additional plots"
   ]
  },
  {
   "cell_type": "code",
   "execution_count": null,
   "metadata": {},
   "outputs": [],
   "source": [
    "smooth = df_bal8_azr_v4[df_bal8_azr_v4.NET_smooth.notna()]\n",
    "smooth_gb = smooth.groupby('well')[['NET_smooth','NET_orig']].sum().reset_index()\n",
    "smooth_gb['NET_smooth'] = smooth_gb['NET_smooth']*0.1\n",
    "smooth_gb['NET_orig'] = smooth_gb['NET_orig']*0.1\n",
    "fig, ax = plt.subplots(figsize=(7,7))\n",
    "sns.scatterplot(data=smooth_gb, x='NET_orig', y='NET_smooth', c='green', s=150, alpha=0.5, ec='black')\n",
    "sns.lineplot(x=[35,85], y=[35,85], color='red', linestyle='--')\n",
    "for i in range(smooth_gb.shape[0]):\n",
    "    ax.text(smooth_gb.NET_orig[i], smooth_gb.NET_smooth[i], smooth_gb.well[i], \n",
    "            horizontalalignment='left', size='medium', color='black')\n",
    "plt.grid(True, which='both', linestyle='--', linewidth=0.5)\n",
    "plt.title('NET_orig sum vs NET_smooth sum Bal8');\n",
    "\n",
    "smooth_gb['diff'] = smooth_gb['NET_orig'] - smooth_gb['NET_smooth']\n",
    "print(smooth_gb['diff'].mean().round(1))\n",
    "print(smooth_gb.shape)"
   ]
  },
  {
   "cell_type": "code",
   "execution_count": null,
   "metadata": {},
   "outputs": [],
   "source": [
    "def well_gr_smooth_display(dataset, formation, var, well):\n",
    "    well_sel = dataset[(dataset.well == well) & (dataset.FORMATION_up == formation)]\n",
    "    depth = well_sel['TST']\n",
    "    grn_smooth = well_sel['VSH_smooth']\n",
    "    grn = well_sel['VSH']\n",
    "    phit = well_sel['PHIT']\n",
    "    net = well_sel[var]\n",
    "    net_smooth = well_sel['NET_smooth']*100\n",
    "    # net_smooth = net\n",
    "    phit_cutoff = [0.13 for i in range(len(depth))]\n",
    "    fig = go.Figure()\n",
    "    fig = make_subplots(rows=1, cols=2, subplot_titles=('VSH', 'PHIT'))\n",
    "    fig.add_trace(go.Scatter(x=grn, y=depth, mode='lines', name='VSH', \n",
    "                             line=dict(color='green')), row=1, col=1)\n",
    "    fig.add_trace(go.Scatter(x=grn_smooth, y=depth, mode='lines', name='VSH', \n",
    "                            line=dict(color='lightgreen')), row=1, col=1)\n",
    "    \n",
    "    fig.update_xaxes(range = [0,1])\n",
    "    fig.add_trace(go.Scatter(x=net_smooth, y=depth, mode='lines', name='NET',  \n",
    "                             line=dict(color='rgba(245, 190, 20, 0.75)'), \n",
    "                             fill='tozerox', fillcolor='rgba(245, 190, 20, 0.25)'), row=1, col=1)\n",
    "    fig.update_xaxes(range = [0, 1], row=1, col=1)\n",
    "\n",
    "    fig.add_trace(go.Scatter(x=phit, y=depth, mode='lines', name='PHIT', \n",
    "                            line = dict(color='firebrick', width=2)), row=1, col=2)\n",
    "    fig.add_trace(go.Scatter(x=phit_cutoff, y=depth, mode='lines', name='PHIT', \n",
    "                            line = dict(color='black', width=2, dash='dash')), row=1, col=2)\n",
    "    fig.update_xaxes(range = [0.35, 0], row=1, col=2)\n",
    "    fig.add_trace(go.Scatter(x=net, y=depth, mode='lines', name='NET',  \n",
    "                             marker=dict(color='rgba(245, 190, 20, 0.75)'), \n",
    "                             fill='tozerox', fillcolor='rgba(245, 190, 20, 0.25)'), row=1, col=2)\n",
    "    \n",
    "    fig.update_yaxes(autorange=\"reversed\")\n",
    "    fig.update_layout(height=900, width=400,\n",
    "                      title=dict(text=well, font=dict(size=24)),\n",
    "                      showlegend=False,\n",
    "                      margin=dict(l=10,r=10,b=10,t=50))\n",
    "    fig.show()\n",
    "well_gr_smooth_display(df_bal8_azr_v4, 'Balakhany VIII','NET_orig', 'B20')"
   ]
  }
 ],
 "metadata": {
  "kernelspec": {
   "display_name": "Python 3",
   "language": "python",
   "name": "python3"
  },
  "language_info": {
   "codemirror_mode": {
    "name": "ipython",
    "version": 3
   },
   "file_extension": ".py",
   "mimetype": "text/x-python",
   "name": "python",
   "nbconvert_exporter": "python",
   "pygments_lexer": "ipython3",
   "version": "3.11.4"
  }
 },
 "nbformat": 4,
 "nbformat_minor": 2
}
