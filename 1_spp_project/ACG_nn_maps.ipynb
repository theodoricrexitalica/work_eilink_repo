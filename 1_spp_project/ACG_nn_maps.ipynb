{
 "cells": [
  {
   "cell_type": "markdown",
   "metadata": {},
   "source": [
    "# Libs"
   ]
  },
  {
   "cell_type": "code",
   "execution_count": 5,
   "metadata": {},
   "outputs": [],
   "source": [
    "import warnings\n",
    "warnings.filterwarnings('ignore')\n",
    "\n",
    "import pandas as pd\n",
    "import numpy as np\n",
    "import matplotlib.pyplot as plt\n",
    "import matplotlib.gridspec as gridspec\n",
    "import seaborn as sns\n",
    "from sklearn.metrics.pairwise import euclidean_distances\n",
    "from tqdm import tqdm\n",
    "import statistics\n",
    "import math\n",
    "from sklearn.cluster import DBSCAN\n",
    "from sklearn.preprocessing import StandardScaler\n",
    "from scipy.spatial import ConvexHull\n",
    "from matplotlib.patches import Circle\n",
    "\n",
    "import geopandas as gpd\n",
    "from shapely.geometry import Point\n",
    "\n",
    "from scipy.linalg import solve\n",
    "from itertools import product\n",
    "from sklearn.metrics import mean_squared_error as MSE\n",
    "\n",
    "pd.options.display.precision = 3\n",
    "pd.options.display.float_format = lambda x: '%.5f' % x\n",
    "pd.options.display.max_columns = 15\n",
    "pd.options.display.max_rows = 6"
   ]
  },
  {
   "cell_type": "markdown",
   "metadata": {},
   "source": [
    "# Data uploading"
   ]
  },
  {
   "cell_type": "code",
   "execution_count": 6,
   "metadata": {},
   "outputs": [],
   "source": [
    "df_bal8_v4 = pd.read_csv('C:\\jupyter\\SPP\\inputoutput\\general_logs\\df_bal8_azr_v4.csv')\n",
    "df_bal8_v4.columns = df_bal8_v4.columns.str.lower()\n",
    "df_bal8_v4.loc[df_bal8_v4.formation=='Balakhany VIII sand','formation'] = '1_bal8_sand'\n",
    "df_bal8_v4.loc[df_bal8_v4.formation=='Balakhany VIII 25','formation'] = '2_bal8_25'\n",
    "df_bal8_v4.loc[df_bal8_v4.formation=='Balakhany VIII 20','formation'] = '3_bal8_20'\n",
    "df_bal8_v4.loc[df_bal8_v4.formation=='Balakhany VIII 15','formation'] = '4_bal8_15'\n",
    "df_bal8_v4.loc[df_bal8_v4.formation=='Balakhany VIII 10','formation'] = '5_bal8_10'\n",
    "df_bal8_v4.loc[df_bal8_v4.formation=='Balakhany VIII 5','formation'] = '6_bal8_5'\n",
    "well_phit_flag8 = df_bal8_v4[df_bal8_v4.phit_flag==1].groupby('well')['phit_flag'].apply(lambda x: x.iloc[0]).reset_index().well.unique()\n",
    "df_bal8_v4_flag = df_bal8_v4[df_bal8_v4.well.isin(well_phit_flag8)]\n",
    "\n",
    "df_bal10_v4 = pd.read_csv('C:\\jupyter\\SPP\\inputoutput\\general_logs\\df_bal10_vshclp2_v4.csv')\n",
    "df_bal10_v4.columns = df_bal10_v4.columns.str.lower()\n",
    "df_bal10_v4.loc[df_bal10_v4.formation=='Balakhany X sand','formation'] = '1_bal10_sand'\n",
    "df_bal10_v4.loc[df_bal10_v4.formation=='Balakhany X 50','formation'] = '2_bal10_40'\n",
    "df_bal10_v4.loc[df_bal10_v4.formation=='Balakhany X 40','formation'] = '2_bal10_40'\n",
    "df_bal10_v4.loc[df_bal10_v4.formation=='Balakhany X 20','formation'] = '3_bal10_20'\n",
    "well_phit_flag10 = df_bal10_v4[df_bal10_v4.phit_flag==1].groupby('well')['phit_flag'].apply(lambda x: x.iloc[0]).reset_index().well.unique()\n",
    "df_bal10_v4_flag = df_bal10_v4[df_bal10_v4.well.isin(well_phit_flag10)]\n",
    "\n",
    "ntd_top_phi_bot8_bp_v4 = pd.read_csv(r'C:\\jupyter\\SPP\\inputoutput\\layers\\ntd_top_phi_bot8_bp_v4.csv').drop('Unnamed: 0', axis=1)\n",
    "ntd_top_phi_bot8_bp_v4.columns = ntd_top_phi_bot8_bp_v4.columns.str.lower()\n",
    "ntd_top_phi_bot10_bp_v4 = pd.read_csv(r'C:\\jupyter\\SPP\\inputoutput\\layers\\ntd_top_phi_bot10_bp_v4.csv').drop('Unnamed: 0', axis=1)\n",
    "ntd_top_phi_bot10_bp_v4.columns = ntd_top_phi_bot10_bp_v4.columns.str.lower()"
   ]
  },
  {
   "cell_type": "code",
   "execution_count": 8,
   "metadata": {},
   "outputs": [],
   "source": [
    "def well_dist_calc(dataset, fm):\n",
    "    data = dataset.groupby('well')[['xmean', 'ymean']].first().reset_index().dropna()\n",
    "    row_name = data.well.reset_index().drop(['index'], axis=1)\n",
    "    distance_fm = pd.DataFrame(euclidean_distances(data[['xmean', 'ymean']]), columns=list(data.well))\n",
    "    distance_fm_well = distance_fm.join(row_name).set_index('well')\n",
    "    distance_fm_well = distance_fm_well.reset_index()\n",
    "    dist_melt = distance_fm_well.melt(id_vars='well', \n",
    "                                var_name='well2', \n",
    "                                value_name='dist').rename(columns={'well':'well_offset', 'well2':'well'})\n",
    "    dist_melt = dist_melt[['well', 'well_offset', 'dist']]\n",
    "    dist_melt = dist_melt[dist_melt.dist != 0].sort_values(by=['well','dist'])\n",
    "    dist_melt['FORMATION_up'] = fm\n",
    "    return dist_melt\n",
    "\n",
    "dist_bal8 = well_dist_calc(df_bal8_v4_flag, 'Balakhany VIII')\n",
    "dist_bal10 = well_dist_calc(df_bal10_v4_flag, 'Balakhany X')"
   ]
  },
  {
   "cell_type": "markdown",
   "metadata": {},
   "source": [
    "# Well pairs"
   ]
  },
  {
   "cell_type": "code",
   "execution_count": 9,
   "metadata": {},
   "outputs": [],
   "source": [
    "# df_lst = []\n",
    "# for wellname in dist_bal8.well.unique():\n",
    "#     data = dist_bal8[dist_bal8.well == wellname].iloc[0:1]\n",
    "#     df_lst.append(data)\n",
    "# well_pairs = pd.concat(df_lst).reset_index(drop=True).drop_duplicates(subset=['dist'])\n",
    "# well_pairs_v2 = well_pairs[well_pairs.dist < 500] # 235m is the max distance between wells selected by elbow plot with distance 500m\n",
    "# # well_pairs.hist(column='dist', bins=50)\n",
    "# well_pairs_v2.sort_values(by='dist', ascending=True)"
   ]
  },
  {
   "cell_type": "code",
   "execution_count": 10,
   "metadata": {},
   "outputs": [],
   "source": [
    "# fig = plt.figure(figsize=(20, 5))\n",
    "# sns.lineplot(data=well_pairs_v2.sort_values(by='dist', ascending=False), x='well', y='dist')\n",
    "# plt.xticks(rotation=90)\n",
    "# plt.grid()"
   ]
  },
  {
   "cell_type": "code",
   "execution_count": 11,
   "metadata": {},
   "outputs": [],
   "source": [
    "# df_lst = []\n",
    "# for wellname in dist_bal8.well.unique():\n",
    "#     data = dist_bal8[dist_bal8.well == wellname].iloc[0:1]\n",
    "#     df_lst.append(data)\n",
    "# well_pairs = pd.concat(df_lst).reset_index(drop=True).drop_duplicates(subset=['dist'])\n",
    "# well_pairs_v3 = well_pairs[well_pairs.dist < 230] # 235m is the max distance between wells selected by elbow plot with distance 500m\n",
    "# # well_pairs.hist(column='dist', bins=50)\n",
    "# well_pairs_v3 = well_pairs_v3.sort_values(by='dist', ascending=True).reset_index(drop=True)\n",
    "# well_pairs_v3"
   ]
  },
  {
   "cell_type": "code",
   "execution_count": 12,
   "metadata": {},
   "outputs": [],
   "source": [
    "# def well_offset_comparison_dashboard_pairs(dataset_wells, dataset_layers, dist_df,  well_target, offset_qty, fm_name, print_flag):\n",
    "#     offset_well_list = dist_df[dist_df.well == well_target].iloc[:offset_qty]['well_offset'].values.tolist()\n",
    "#     # offset_well_list = dist_df[dist_df.well == well_target].iloc[:offset_qty]\n",
    "#     well_list = [well_target] + offset_well_list\n",
    "#     data_logs = dataset_wells[(dataset_wells.well.isin(well_list)) & (dataset_wells.phit != 0)]\n",
    "#     data_layers = dataset_layers[   (dataset_layers.well.isin(well_list)) & \n",
    "#                                     (dataset_layers.htst > 1)]\n",
    "#     khtst_logs = data_logs.groupby(['well','formation'])[['khtst']].apply(lambda x: x.iloc[0] - x.iloc[-1]).reset_index()\n",
    "\n",
    "#     def khtst_layer_calculation(data_logs):\n",
    "#         data = data_logs[data_logs.net == 1]\n",
    "#         df_lst = []\n",
    "#         for wellname in data.well.unique():\n",
    "#             well_data = data_logs[data_logs.well == wellname]\n",
    "#             well_data['tst_index_rev'] = [i for i in range(len(well_data['tst']))[::-1]]\n",
    "#             df_lst.append(well_data)\n",
    "#         data_logs_khtst = pd.concat(df_lst)\n",
    "#         return data_logs_khtst\n",
    "#     data_logs_khtst = khtst_layer_calculation(data_logs)\n",
    "\n",
    "#     def well_dist_title(dist_df):\n",
    "#         offset_well_list = dist_df[dist_df.well == well_target].iloc[:offset_qty]\n",
    "#         well = offset_well_list['well'].iloc[0]\n",
    "#         well1 = offset_well_list.iloc[0,1]\n",
    "#         dist1 = offset_well_list.iloc[0,2].round(0).astype(int)\n",
    "#         # well2 = offset_well_list.iloc[1,1]\n",
    "#         # dist2 = offset_well_list.iloc[1,2].round(0).astype(int)\n",
    "#         # well3 = offset_well_list.iloc[2,1]\n",
    "#         # dist3 = offset_well_list.iloc[2,2].round(0).astype(int)\n",
    "#         return f\"target well {well} : offsets {well1} - {dist1}m orange;\"\n",
    "\n",
    "#     fig = plt.figure(figsize=(22, 10))\n",
    "#     gs = gridspec.GridSpec(2, 4, figure=fig)\n",
    "#     ax1 = fig.add_subplot(gs[0, 0])\n",
    "#     ax2 = fig.add_subplot(gs[0, 1])\n",
    "#     ax3 = fig.add_subplot(gs[0, 2])\n",
    "#     ax4 = fig.add_subplot(gs[0, 3])\n",
    "#     ax5 = fig.add_subplot(gs[1, :3])\n",
    "\n",
    "#     custom_palette = {well_target: 'red', offset_well_list[0]: 'orange'}\n",
    "#     sns.histplot(data=data_logs, x='phit', hue='well', bins=50, kde=True, ax=ax1, palette=custom_palette)\n",
    "#     sns.scatterplot(data=data_layers, x='htst', y='perm_avg', hue='well', s=75, ax=ax2, alpha=0.5, ec='black', palette=custom_palette)\n",
    "#     sns.lineplot(data=data_logs_khtst, x='tst_index_rev', y='khtst', hue='well', ax=ax3, palette=custom_palette)\n",
    "#     sns.barplot(data = khtst_logs, x='formation', y='khtst', hue='well', ax=ax4, palette=custom_palette)\n",
    "#     ax1.set_yticklabels(ax1.get_yticklabels(), rotation=90, va='center')\n",
    "#     ax2.set_yscale('log')\n",
    "#     ax2.grid(True, which='both', linestyle='--', linewidth=0.5)\n",
    "#     ax2.set_yticklabels(ax2.get_yticklabels(), rotation=90, va='center')\n",
    "#     ax3.grid(True, which='both', linestyle='--', linewidth=0.5)\n",
    "#     ax3.set_yticklabels(ax3.get_yticklabels(), rotation=90, va='center')\n",
    "\n",
    "#     x = np.arange(len(khtst_logs.formation.unique()))\n",
    "#     fms = khtst_logs.formation.unique()\n",
    "#     ax4.set_xticks(x, fms, rotation=45, fontsize=6)\n",
    "#     ax4.set_yticklabels(ax4.get_yticklabels(), rotation=90, va='center')\n",
    "\n",
    "#     offset_well_list = dist_df[dist_df.well == well_target].iloc[:offset_qty]['well_offset'].values.tolist()\n",
    "#     x = dataset_wells[dataset_wells.phit_flag == 1]['xmean']\n",
    "#     y = dataset_wells[dataset_wells.phit_flag == 1]['ymean']\n",
    "#     x_target = dataset_wells[dataset_wells.well == well_target]['xmean'].iloc[0]\n",
    "#     y_target = dataset_wells[dataset_wells.well == well_target]['ymean'].iloc[0]\n",
    "#     x_well1 = dataset_wells[dataset_wells.well == offset_well_list[0]]['xmean'].iloc[0]\n",
    "#     y_well1 = dataset_wells[dataset_wells.well == offset_well_list[0]]['ymean'].iloc[0]\n",
    "#     # x_well2 = dataset_wells[dataset_wells.well == offset_well_list[1]]['xmean'].iloc[0]\n",
    "#     # y_well2 = dataset_wells[dataset_wells.well == offset_well_list[1]]['ymean'].iloc[0]\n",
    "#     # x_well3 = dataset_wells[dataset_wells.well == offset_well_list[2]]['xmean'].iloc[0]\n",
    "#     # y_well3 = dataset_wells[dataset_wells.well == offset_well_list[2]]['ymean'].iloc[0]\n",
    "#     ax5.scatter(x, y, color='gray', s=10)\n",
    "#     ax5.scatter(x_target, y_target, color='red', s=50, ec='black')\n",
    "#     ax5.scatter(x_well1, y_well1, color='orange')\n",
    "#     # ax5.scatter(x_well2, y_well2, color='green')\n",
    "#     # ax5.scatter(x_well3, y_well3, color='#0797eb')\n",
    "\n",
    "#     plt.suptitle(well_dist_title(dist_df), fontsize=16, y=0.92, x=0.32)\n",
    "#     if print_flag == 'print':\n",
    "#         plt.savefig(f'C:/jupyter/SPP/plots/offset_dashboard/{fm_name}_{well_target}_offset_dashboard.png');\n",
    "\n",
    "# df_bal8_v4_flag = df_bal8_v4_flag[~df_bal8_v4_flag.well.isin(['E31Z', 'D01Z'])]\n",
    "# dist_bal8 = well_dist_calc(df_bal8_v4_flag, 'Balakhany VIII').round(0)\n",
    "# for wellname in well_pairs_v3.well:\n",
    "#     try:\n",
    "#         well_offset_comparison_dashboard_pairs(df_bal8_v4_flag, ntd_top_phi_bot8_bp_v4, well_pairs_v3, wellname, 1, 'bal8','dontprint')\n",
    "#     except:\n",
    "#         print(f\"error in {wellname}\")"
   ]
  },
  {
   "cell_type": "markdown",
   "metadata": {},
   "source": [
    "# Maps input"
   ]
  },
  {
   "cell_type": "code",
   "execution_count": 13,
   "metadata": {},
   "outputs": [],
   "source": [
    "ntd_top_phi_bot8_bp_v4['htst*phit_avg'] = ntd_top_phi_bot8_bp_v4['htst'] * ntd_top_phi_bot8_bp_v4['phit_avg']\n",
    "ntd8 = ntd_top_phi_bot8_bp_v4.groupby('well')[['phit_avg','htst', 'htst*phit_avg']].agg({'phit_avg':'mean','htst':'sum', 'htst*phit_avg':'sum'}).reset_index()\n",
    "xy = df_bal8_v4_flag.groupby('well')[['xmean','ymean']].first().reset_index()\n",
    "ntd8 = ntd8.merge(xy, on='well').round({'xmean':0, 'ymean':0})\n",
    "ntd8 = ntd8[~ntd8.well.isin(['B01ST1', 'D01', 'C14', 'C01A', 'B06', 'C13Z', 'C06', 'D01Z','C07'])] # remove wells pair wells\n",
    "ntd8['phit_w_avg'] = ntd8['htst*phit_avg'] / ntd8['htst']\n",
    "ntd8 = ntd8[['well', 'phit_avg', 'htst', 'phit_w_avg', 'xmean', 'ymean']]\n",
    "\n",
    "x_min8 = ntd8.xmean.min()\n",
    "x_max8 = ntd8.xmean.max()\n",
    "y_min8 = ntd8.ymean.min()\n",
    "y_max8 = ntd8.ymean.max()\n",
    "margin8 = 250\n",
    "X_8, Y_8 = np.arange(x_min8-margin8, x_max8+margin8, 50), np.arange(y_min8-margin8, y_max8+margin8, 30)"
   ]
  },
  {
   "cell_type": "code",
   "execution_count": 14,
   "metadata": {},
   "outputs": [],
   "source": [
    "ntd_top_phi_bot10_bp_v4['htst*phit_avg'] = ntd_top_phi_bot10_bp_v4['htst'] * ntd_top_phi_bot10_bp_v4['phit_avg']\n",
    "ntd10 = ntd_top_phi_bot10_bp_v4.groupby('well')[['phit_avg','htst', 'htst*phit_avg']].agg({'phit_avg':'mean','htst':'sum', 'htst*phit_avg':'sum'}).reset_index()\n",
    "xy = df_bal10_v4_flag.groupby('well')[['xmean','ymean']].first().reset_index()\n",
    "ntd10 = ntd10.merge(xy, on='well').round({'xmean':0, 'ymean':0})\n",
    "ntd10 = ntd10[~ntd10.well.isin(['A13Z', 'H01Y', 'A01X', 'A12X', 'D01', 'E31', 'G01Y', \n",
    "                                'A09Y','E01X', 'A07Y', 'A01W', 'C27Y', 'C03ST1', 'H01', 'D07'])] # remove wells pair wells\n",
    "ntd10['phit_w_avg'] = ntd10['htst*phit_avg'] / ntd10['htst']\n",
    "ntd10 = ntd10[['well', 'phit_avg', 'htst', 'phit_w_avg', 'xmean', 'ymean']]\n",
    "\n",
    "x_min10 = ntd10.xmean.min()\n",
    "x_max10 = ntd10.xmean.max()\n",
    "y_min10 = ntd10.ymean.min()\n",
    "y_max10 = ntd10.ymean.max()\n",
    "margin10 = 250\n",
    "X_10, Y_10 = np.arange(x_min10-margin10, x_max10+margin10, 50), np.arange(y_min10-margin10, y_max10+margin10, 30)"
   ]
  },
  {
   "cell_type": "markdown",
   "metadata": {},
   "source": [
    "# NN"
   ]
  },
  {
   "cell_type": "code",
   "execution_count": null,
   "metadata": {},
   "outputs": [],
   "source": [
    "sns.scatterplot(data=ntd8, x='phit_avg', y='phit_w_avg', hue='htst', palette='viridis')\n",
    "sns.lineplot(x=[0.15,0.27], y=[0.15,0.27], color='red', ls='--')\n",
    "plt.grid()"
   ]
  },
  {
   "cell_type": "code",
   "execution_count": 16,
   "metadata": {},
   "outputs": [],
   "source": [
    "# latitude - north-south\n",
    "# longitude - east-west\n",
    "\n",
    "def Euclidean(x1,x2,y1,y2):\n",
    "  return ((x1-x2)**2+(y1-y2)**2)**0.5\n",
    "\n",
    "def NN(data, Y, X, var):\n",
    "  array = np.empty((Y.shape[0], X.shape[0]))\n",
    "  for i, y in enumerate(Y):\n",
    "    for j, x in enumerate(X):\n",
    "      idx = data.apply(lambda row: Euclidean(row.xmean, x, row.ymean, y), axis = 1).argmin()\n",
    "      array[i,j] = data.iloc[idx][var]\n",
    "  return array"
   ]
  },
  {
   "cell_type": "code",
   "execution_count": 17,
   "metadata": {},
   "outputs": [],
   "source": [
    "# fig, ax = plt.subplots(figsize=(15,7))\n",
    "# xy = ntd8[['xmean', 'ymean']].values\n",
    "# hull = ConvexHull(xy)\n",
    "# hull_points = xy[hull.vertices]\n",
    "\n",
    "# phit_nn = NN(ntd8, Y, X, 'phit_avg')\n",
    "# nn_phit_map = pd.DataFrame(phit_nn, index=Y, columns=X)\n",
    "# nn_phit_map_v2 = nn_phit_map.reset_index().melt(id_vars='index', var_name='Category', value_name='Value')\n",
    "# nn_phit_map_v2 = nn_phit_map_v2.rename(columns={'index':'y', 'Category':'x', 'Value':'phit_avg'})\n",
    "\n",
    "# sc = plt.scatter(nn_phit_map_v2.x, nn_phit_map_v2.y, s=2, c=nn_phit_map_v2.phit_avg, cmap='viridis', alpha=0.5)\n",
    "# plt.colorbar(sc)\n",
    "# plt.scatter(ntd8.xmean, ntd8.ymean, s=50, c=ntd8.phit_avg, marker='o', ec='black', cmap='viridis', lw=0.5)\n",
    "# plt.title('phit_avg')\n",
    "\n",
    "# for simplex in hull.simplices:\n",
    "#     plt.plot(xy[simplex, 0], xy[simplex, 1], 'k-');"
   ]
  },
  {
   "cell_type": "code",
   "execution_count": 18,
   "metadata": {},
   "outputs": [],
   "source": [
    "# phit_nn = NN(ntd8, Y, X, 'phit_avg')\n",
    "# nn_phit_map = pd.DataFrame(phit_nn, index=Y, columns=X)\n",
    "# nn_phit_map_v2 = nn_phit_map.reset_index().melt(id_vars='index', var_name='Category', value_name='Value')\n",
    "# nn_phit_map_v2 = nn_phit_map_v2.rename(columns={'index':'y', 'Category':'x', 'Value':'phit_avg'})\n",
    "# nn_phit_map_v2.to_csv('C:/jupyter/SPP/inputoutput/nn_phit_map_v2.csv', index=False)"
   ]
  },
  {
   "cell_type": "code",
   "execution_count": 19,
   "metadata": {},
   "outputs": [],
   "source": [
    "# w_phit_nn8 = NN(ntd8, Y_8, X_8, 'phit_w_avg')\n",
    "# nn_w_phit_map8 = pd.DataFrame(w_phit_nn8, index=Y_8, columns=X_8)\n",
    "# nn_w_phit_map8_v2 = nn_w_phit_map8.reset_index().melt(id_vars='index', var_name='Category', value_name='Value')\n",
    "# nn_w_phit_map8_v2 = nn_w_phit_map8_v2.rename(columns={'index':'y', 'Category':'x', 'Value':'phit_avg'})\n",
    "# nn_w_phit_map8_v2.to_csv('C:/jupyter/SPP/inputoutput/nn_w_phit_map8_v2.csv', index=False)"
   ]
  },
  {
   "cell_type": "code",
   "execution_count": 20,
   "metadata": {},
   "outputs": [],
   "source": [
    "# w_phit_nn10 = NN(ntd10, Y_10, X_10, 'phit_w_avg')\n",
    "# nn_w_phit_map10 = pd.DataFrame(w_phit_nn10, index=Y_10, columns=X_10)\n",
    "# nn_w_phit_map10_v2 = nn_w_phit_map10.reset_index().melt(id_vars='index', var_name='Category', value_name='Value')\n",
    "# nn_w_phit_map10_v2 = nn_w_phit_map10_v2.rename(columns={'index':'y', 'Category':'x', 'Value':'phit_avg'})\n",
    "# nn_w_phit_map10_v2.to_csv('C:/jupyter/SPP/inputoutput/nn_w_phit_map10_v2.csv', index=False)"
   ]
  },
  {
   "cell_type": "code",
   "execution_count": 21,
   "metadata": {},
   "outputs": [],
   "source": [
    "def intersection_maps(map, wells, buffer):\n",
    "    geometry_map = [Point(xy) for xy in zip(map['x'], map['y'])]\n",
    "    gdf_map = gpd.GeoDataFrame(map, geometry=geometry_map)\n",
    "\n",
    "    geometry_points = [Point(xy) for xy in zip(wells['xmean'], wells['ymean'])]\n",
    "    gdf_points = gpd.GeoDataFrame(wells, geometry=geometry_points)\n",
    "    convex_hull = gdf_points.unary_union.convex_hull.buffer(buffer)\n",
    "    intersection = gdf_map[gdf_map.intersects(convex_hull)]\n",
    "    return intersection\n",
    "\n",
    "nn_w_phit_map8_v2 = pd.read_csv('C:/jupyter/SPP/inputoutput/nn_w_phit_map8_v2.csv')\n",
    "nn_w_phit_map10_v2 = pd.read_csv('C:/jupyter/SPP/inputoutput/nn_w_phit_map10_v2.csv')\n",
    "\n",
    "intersection_phit8 = intersection_maps(nn_w_phit_map8_v2, ntd8, 1500)\n",
    "intersection_phit10 = intersection_maps(nn_w_phit_map10_v2, ntd10, 1500)"
   ]
  },
  {
   "cell_type": "code",
   "execution_count": null,
   "metadata": {},
   "outputs": [],
   "source": [
    "anomaly_gas_wells = ntd8[ntd8.well.isin(['B01Y','B13ST2','B14Z','B19','B26'])]\n",
    "fig, ax = plt.subplots(figsize=(15,7))\n",
    "sc = plt.scatter(intersection_phit8.x, intersection_phit8.y, s=2, c=intersection_phit8.phit_avg, cmap='viridis', alpha=0.5)\n",
    "plt.colorbar(sc)\n",
    "plt.scatter(ntd8.xmean, ntd8.ymean, s=50, c=ntd8.phit_w_avg, marker='o', ec='black', cmap='viridis', lw=0.5)\n",
    "plt.title('phit_w_avg bal8')\n",
    "for idx, txt in enumerate(ntd8.well):\n",
    "    ax.annotate(txt, (ntd8.xmean.iloc[idx], ntd8.ymean.iloc[idx]), fontsize=6);\n",
    "for (xi, yi) in anomaly_gas_wells[['xmean', 'ymean']].values:\n",
    "    circle = Circle((xi, yi), 200, color='r', fill=False)\n",
    "    ax.add_patch(circle);"
   ]
  },
  {
   "cell_type": "code",
   "execution_count": null,
   "metadata": {},
   "outputs": [],
   "source": [
    "fig, ax = plt.subplots(figsize=(18,7))\n",
    "sc = plt.scatter(intersection_phit10.x, intersection_phit10.y, s=2, c=intersection_phit10.phit_avg, cmap='viridis', alpha=0.5)\n",
    "plt.colorbar(sc)\n",
    "plt.scatter(ntd10.xmean, ntd10.ymean, s=50, c=ntd10.phit_w_avg, marker='o', ec='black', cmap='viridis', lw=0.5)\n",
    "plt.title('phit_w_avg bal10')\n",
    "for idx, txt in enumerate(ntd10.well):\n",
    "    ax.annotate(txt, (ntd10.xmean.iloc[idx], ntd10.ymean.iloc[idx]), fontsize=6);"
   ]
  },
  {
   "cell_type": "code",
   "execution_count": 24,
   "metadata": {},
   "outputs": [],
   "source": [
    "# htst_nn8 = NN(ntd8, Y_8, X_8, 'htst')\n",
    "# nn_htst_map8 = pd.DataFrame(htst_nn8, index=Y_8, columns=X_8)\n",
    "# nn_htst_map8_v2 = nn_htst_map8.reset_index().melt(id_vars='index', var_name='Category', value_name='Value')\n",
    "# nn_htst_map8_v2 = nn_htst_map8_v2.rename(columns={'index':'y', 'Category':'x', 'Value':'htst'})\n",
    "# nn_htst_map8_v2.to_csv('C:/jupyter/SPP/inputoutput/nn_htst_map8_v2.csv', index=False)"
   ]
  },
  {
   "cell_type": "code",
   "execution_count": 25,
   "metadata": {},
   "outputs": [],
   "source": [
    "# htst_nn10 = NN(ntd10, Y_10, X_10, 'htst')\n",
    "# nn_htst_map10 = pd.DataFrame(htst_nn10, index=Y_10, columns=X_10)\n",
    "# nn_htst_map10_v2 = nn_htst_map10.reset_index().melt(id_vars='index', var_name='Category', value_name='Value')\n",
    "# nn_htst_map10_v2 = nn_htst_map10_v2.rename(columns={'index':'y', 'Category':'x', 'Value':'htst'})\n",
    "# nn_htst_map10_v2.to_csv('C:/jupyter/SPP/inputoutput/nn_htst_map10_v2.csv', index=False)"
   ]
  },
  {
   "cell_type": "code",
   "execution_count": null,
   "metadata": {},
   "outputs": [],
   "source": [
    "nn_htst_map8_v2 = pd.read_csv('C:/jupyter/SPP/inputoutput/nn_htst_map8_v2.csv')\n",
    "intersection_htst8 = intersection_maps(nn_htst_map8_v2, ntd8, 1500)\n",
    "fig, ax = plt.subplots(figsize=(15,7))\n",
    "sc = plt.scatter(intersection_htst8.x, intersection_htst8.y, s=2, c=intersection_htst8.htst, cmap='cividis', alpha=0.5)\n",
    "plt.colorbar(sc)\n",
    "plt.scatter(ntd8.xmean, ntd8.ymean, s=50, c=ntd8.htst, marker='o', ec='black', cmap='cividis', lw=0.5)\n",
    "plt.title('htst')\n",
    "for idx, txt in enumerate(ntd8.well):\n",
    "    ax.annotate(txt, (ntd8.xmean.iloc[idx], ntd8.ymean.iloc[idx]), fontsize=6);"
   ]
  },
  {
   "cell_type": "code",
   "execution_count": null,
   "metadata": {},
   "outputs": [],
   "source": [
    "nn_htst_map10_v2 = pd.read_csv('C:/jupyter/SPP/inputoutput/nn_htst_map10_v2.csv')\n",
    "intersection_htst10 = intersection_maps(nn_htst_map10_v2, ntd10, 1500)\n",
    "fig, ax = plt.subplots(figsize=(18,7))\n",
    "sc = plt.scatter(intersection_htst10.x, intersection_htst10.y, s=2, c=intersection_htst10.htst, cmap='cividis', alpha=0.5)\n",
    "plt.colorbar(sc)\n",
    "plt.scatter(ntd10.xmean, ntd10.ymean, s=50, c=ntd10.htst, marker='o', ec='black', cmap='cividis', lw=0.5)\n",
    "plt.title('htst')\n",
    "for idx, txt in enumerate(ntd10.well):\n",
    "    ax.annotate(txt, (ntd10.xmean.iloc[idx], ntd10.ymean.iloc[idx]), fontsize=6);"
   ]
  },
  {
   "cell_type": "markdown",
   "metadata": {},
   "source": [
    "# IWD"
   ]
  },
  {
   "cell_type": "code",
   "execution_count": 28,
   "metadata": {},
   "outputs": [],
   "source": [
    "# # latitude - north-south\n",
    "# # longitude - east-west\n",
    "\n",
    "# def IDW(data, Y, X, var, betta=10):\n",
    "#   array = np.empty((Y.shape[0], X.shape[0]))\n",
    "#   for i, y in enumerate(Y):\n",
    "#     for j, x in enumerate(X):\n",
    "#       weights = data.apply(lambda row: Euclidean(row.xmean, x, row.ymean, y)**(-betta), axis = 1)\n",
    "#       z = sum(weights*data[var])/weights.sum()\n",
    "#       array[i,j] = z\n",
    "#   return array\n",
    "\n",
    "# phit_idw = IDW(ntd8, Y, X, 'phit_avg',10)\n",
    "# iwd_phit_map = pd.DataFrame(phit_idw, index=Y, columns=X)\n",
    "# iwd_phit_map_v2 = iwd_phit_map.reset_index().melt(id_vars='index', var_name='Category', value_name='Value')\n",
    "# iwd_phit_map_v2 = iwd_phit_map_v2.rename(columns={'index':'y', 'Category':'x', 'Value':'phit_avg'})\n",
    "# fig, ax = plt.subplots(figsize=(15,7))\n",
    "# sc = plt.scatter(iwd_phit_map_v2.x, iwd_phit_map_v2.y, s=2, c=iwd_phit_map_v2.phit_avg, cmap='viridis', alpha=0.5)\n",
    "# plt.colorbar(sc)\n",
    "# plt.scatter(ntd8.xmean, ntd8.ymean, s=50, c=ntd8.phit_avg, marker='o', ec='black', cmap='viridis', lw=0.5);"
   ]
  },
  {
   "cell_type": "code",
   "execution_count": 29,
   "metadata": {},
   "outputs": [],
   "source": [
    "# htst_idw = IDW(ntd8, Y, X, 'htst', 10)\n",
    "# htst_idw_map = pd.DataFrame(htst_idw, index=Y, columns=X)\n",
    "# htst_idw_map_v2 = htst_idw_map.reset_index().melt(id_vars='index', var_name='Category', value_name='Value')\n",
    "# htst_idw_map_v2 = htst_idw_map_v2.rename(columns={'index':'y', 'Category':'x', 'Value':'phit_avg'})\n",
    "# fig, ax = plt.subplots(figsize=(15,7))\n",
    "# sc = plt.scatter(htst_idw_map_v2.x, htst_idw_map_v2.y, s=2, c=htst_idw_map_v2.phit_avg, cmap='cividis', alpha=0.5)\n",
    "# plt.colorbar(sc)\n",
    "# plt.scatter(ntd8.xmean, ntd8.ymean, s=50, c=ntd8.phit_avg, marker='o', ec='black', cmap='cividis', lw=0.5);"
   ]
  }
 ],
 "metadata": {
  "kernelspec": {
   "display_name": "Python 3",
   "language": "python",
   "name": "python3"
  },
  "language_info": {
   "codemirror_mode": {
    "name": "ipython",
    "version": 3
   },
   "file_extension": ".py",
   "mimetype": "text/x-python",
   "name": "python",
   "nbconvert_exporter": "python",
   "pygments_lexer": "ipython3",
   "version": "3.11.4"
  }
 },
 "nbformat": 4,
 "nbformat_minor": 2
}
