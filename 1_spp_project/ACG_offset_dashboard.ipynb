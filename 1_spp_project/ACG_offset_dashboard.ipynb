{
 "cells": [
  {
   "cell_type": "markdown",
   "metadata": {},
   "source": [
    "# Libs"
   ]
  },
  {
   "cell_type": "code",
   "execution_count": 1,
   "metadata": {},
   "outputs": [],
   "source": [
    "import warnings\n",
    "warnings.filterwarnings('ignore')\n",
    "\n",
    "import pandas as pd\n",
    "import numpy as np\n",
    "import matplotlib.pyplot as plt\n",
    "import matplotlib.gridspec as gridspec\n",
    "import seaborn as sns\n",
    "from sklearn.metrics.pairwise import euclidean_distances\n",
    "from tqdm import tqdm\n",
    "import statistics\n",
    "import math\n",
    "from sklearn.cluster import DBSCAN\n",
    "from sklearn.preprocessing import StandardScaler\n",
    "\n",
    "from scipy.linalg import solve\n",
    "from itertools import product\n",
    "from sklearn.metrics import mean_squared_error as MSE\n",
    "\n",
    "pd.options.display.precision = 3\n",
    "pd.options.display.float_format = lambda x: '%.5f' % x\n",
    "pd.options.display.max_columns = 15\n",
    "pd.options.display.max_rows = 6"
   ]
  },
  {
   "cell_type": "markdown",
   "metadata": {},
   "source": [
    "# Data uploading"
   ]
  },
  {
   "cell_type": "code",
   "execution_count": 2,
   "metadata": {},
   "outputs": [],
   "source": [
    "df_bal8_v4 = pd.read_csv('C:\\jupyter\\SPP\\inputoutput\\general_logs\\df_bal8_azr_v4.csv')\n",
    "df_bal8_v4.columns = df_bal8_v4.columns.str.lower()\n",
    "df_bal8_v4.loc[df_bal8_v4.formation=='Balakhany VIII sand','formation'] = '1_bal8_sand'\n",
    "df_bal8_v4.loc[df_bal8_v4.formation=='Balakhany VIII 25','formation'] = '2_bal8_25'\n",
    "df_bal8_v4.loc[df_bal8_v4.formation=='Balakhany VIII 20','formation'] = '3_bal8_20'\n",
    "df_bal8_v4.loc[df_bal8_v4.formation=='Balakhany VIII 15','formation'] = '4_bal8_15'\n",
    "df_bal8_v4.loc[df_bal8_v4.formation=='Balakhany VIII 10','formation'] = '5_bal8_10'\n",
    "df_bal8_v4.loc[df_bal8_v4.formation=='Balakhany VIII 5','formation'] = '6_bal8_5'\n",
    "well_phit_flag8 = df_bal8_v4[df_bal8_v4.phit_flag==1].groupby('well')['phit_flag'].apply(lambda x: x.iloc[0]).reset_index().well.unique()\n",
    "df_bal8_v4_flag = df_bal8_v4[df_bal8_v4.well.isin(well_phit_flag8)]\n",
    "\n",
    "df_bal10_v4 = pd.read_csv('C:\\jupyter\\SPP\\inputoutput\\general_logs\\df_bal10_vshclp2_v4.csv')\n",
    "df_bal10_v4.columns = df_bal10_v4.columns.str.lower()\n",
    "df_bal10_v4.loc[df_bal10_v4.formation=='Balakhany X sand','formation'] = '1_bal10_sand'\n",
    "df_bal10_v4.loc[df_bal10_v4.formation=='Balakhany X 50','formation'] = '2_bal10_40'\n",
    "df_bal10_v4.loc[df_bal10_v4.formation=='Balakhany X 40','formation'] = '2_bal10_40'\n",
    "df_bal10_v4.loc[df_bal10_v4.formation=='Balakhany X 20','formation'] = '3_bal10_20'\n",
    "well_phit_flag10 = df_bal10_v4[df_bal10_v4.phit_flag==1].groupby('well')['phit_flag'].apply(lambda x: x.iloc[0]).reset_index().well.unique()\n",
    "df_bal10_v4_flag = df_bal10_v4[df_bal10_v4.well.isin(well_phit_flag10)]"
   ]
  },
  {
   "cell_type": "code",
   "execution_count": 3,
   "metadata": {},
   "outputs": [],
   "source": [
    "ntd_top_phi_bot8_bp_v4 = pd.read_csv(r'C:\\jupyter\\SPP\\inputoutput\\layers\\ntd_top_phi_bot8_bp_v4.csv').drop('Unnamed: 0', axis=1)\n",
    "ntd_top_phi_bot8_bp_v4.columns = ntd_top_phi_bot8_bp_v4.columns.str.lower()\n",
    "ntd_top_phi_bot10_bp_v4 = pd.read_csv(r'C:\\jupyter\\SPP\\inputoutput\\layers\\ntd_top_phi_bot10_bp_v4.csv').drop('Unnamed: 0', axis=1)\n",
    "ntd_top_phi_bot10_bp_v4.columns = ntd_top_phi_bot10_bp_v4.columns.str.lower()"
   ]
  },
  {
   "cell_type": "code",
   "execution_count": 4,
   "metadata": {},
   "outputs": [],
   "source": [
    "def well_dist_calc(dataset, fm):\n",
    "    data = dataset.groupby('well')[['xmean', 'ymean']].first().reset_index().dropna()\n",
    "    row_name = data.well.reset_index().drop(['index'], axis=1)\n",
    "    distance_fm = pd.DataFrame(euclidean_distances(data[['xmean', 'ymean']]), columns=list(data.well))\n",
    "    distance_fm_well = distance_fm.join(row_name).set_index('well')\n",
    "    distance_fm_well = distance_fm_well.reset_index()\n",
    "    dist_melt = distance_fm_well.melt(id_vars='well', \n",
    "                                var_name='well2', \n",
    "                                value_name='dist').rename(columns={'well':'well_offset', 'well2':'well'})\n",
    "    dist_melt = dist_melt[['well', 'well_offset', 'dist']]\n",
    "    dist_melt = dist_melt[dist_melt.dist != 0].sort_values(by=['well','dist'])\n",
    "    dist_melt['FORMATION_up'] = fm\n",
    "    return dist_melt\n",
    "\n",
    "dist_bal8 = well_dist_calc(df_bal8_v4_flag, 'Balakhany VIII')\n",
    "dist_bal10 = well_dist_calc(df_bal10_v4_flag, 'Balakhany X')"
   ]
  },
  {
   "cell_type": "markdown",
   "metadata": {},
   "source": [
    "# Dashboard"
   ]
  },
  {
   "cell_type": "code",
   "execution_count": null,
   "metadata": {},
   "outputs": [],
   "source": [
    "dist_bal8"
   ]
  },
  {
   "cell_type": "code",
   "execution_count": 6,
   "metadata": {},
   "outputs": [],
   "source": [
    "def well_dist_calc(dataset, fm):\n",
    "    data = dataset.groupby('well')[['xmean', 'ymean']].first().reset_index().dropna()\n",
    "    row_name = data.well.reset_index().drop(['index'], axis=1)\n",
    "    distance_fm = pd.DataFrame(euclidean_distances(data[['xmean', 'ymean']]), columns=list(data.well))\n",
    "    distance_fm_well = distance_fm.join(row_name).set_index('well')\n",
    "    distance_fm_well = distance_fm_well.reset_index()\n",
    "    dist_melt = distance_fm_well.melt(  id_vars='well', \n",
    "                                        var_name='well2', \n",
    "                                        value_name='dist').rename(columns={'well':'well_offset', 'well2':'well'})\n",
    "    dist_melt = dist_melt[['well', 'well_offset', 'dist']]\n",
    "    dist_melt = dist_melt[dist_melt.dist != 0].sort_values(by=['well','dist'])\n",
    "    dist_melt['formation_up'] = fm\n",
    "    return dist_melt\n",
    "\n",
    "def well_list_selection(df, well_n):\n",
    "    df_khtst = df.groupby('well')[['khtst', 'field']].first().reset_index()\n",
    "    df_khtst = df_khtst[df_khtst.khtst != 0]\n",
    "    df_khtst = df_khtst.sort_values(by=['khtst', 'field'], ascending=False)[:well_n-1].reset_index(drop=True)\n",
    "    return df_khtst\n",
    "\n",
    "def well_offset_comparison_dashboard(dataset_wells, dataset_layers, dist_df,  well_target, offset_qty, fm_name, print_flag):\n",
    "    offset_well_list = dist_df[dist_df.well == well_target].iloc[:offset_qty]['well_offset'].values.tolist()\n",
    "    # offset_well_list = dist_df[dist_df.well == well_target].iloc[:offset_qty]\n",
    "    well_list = [well_target] + offset_well_list\n",
    "    data_logs = dataset_wells[(dataset_wells.well.isin(well_list)) & (dataset_wells.phit != 0)]\n",
    "    data_layers = dataset_layers[   (dataset_layers.well.isin(well_list)) & \n",
    "                                    (dataset_layers.htst > 1)]\n",
    "    khtst_logs = data_logs.groupby(['well','formation'])[['khtst']].apply(lambda x: x.iloc[0] - x.iloc[-1]).reset_index()\n",
    "\n",
    "    def khtst_layer_calculation(data_logs):\n",
    "        data = data_logs[data_logs.net == 1]\n",
    "        df_lst = []\n",
    "        for wellname in data.well.unique():\n",
    "            well_data = data_logs[data_logs.well == wellname]\n",
    "            well_data['tst_index_rev'] = [i for i in range(len(well_data['tst']))[::-1]]\n",
    "            df_lst.append(well_data)\n",
    "        data_logs_khtst = pd.concat(df_lst)\n",
    "        return data_logs_khtst\n",
    "    data_logs_khtst = khtst_layer_calculation(data_logs)\n",
    "\n",
    "    def well_dist_title(dist_df):\n",
    "        offset_well_list = dist_df[dist_df.well == well_target].iloc[:offset_qty]\n",
    "        well = offset_well_list['well'].iloc[0]\n",
    "        well1 = offset_well_list.iloc[0,1]\n",
    "        dist1 = offset_well_list.iloc[0,2].round(0).astype(int)\n",
    "        well2 = offset_well_list.iloc[1,1]\n",
    "        dist2 = offset_well_list.iloc[1,2].round(0).astype(int)\n",
    "        well3 = offset_well_list.iloc[2,1]\n",
    "        dist3 = offset_well_list.iloc[2,2].round(0).astype(int)\n",
    "        return f\"target well {well} : offsets {well1} - {dist1}m orange; {well2} - {dist2}m green; {well3} - {dist3}m blue;\"\n",
    "\n",
    "    fig = plt.figure(figsize=(22, 10))\n",
    "    gs = gridspec.GridSpec(2, 4, figure=fig)\n",
    "    ax1 = fig.add_subplot(gs[0, 0])\n",
    "    ax2 = fig.add_subplot(gs[0, 1])\n",
    "    ax3 = fig.add_subplot(gs[0, 2])\n",
    "    ax4 = fig.add_subplot(gs[0, 3])\n",
    "    ax5 = fig.add_subplot(gs[1, :3])\n",
    "\n",
    "    custom_palette = {well_target: 'red', offset_well_list[0]: 'orange', offset_well_list[1]: 'green', offset_well_list[2]: '#0797eb'}\n",
    "    sns.histplot(data=data_logs, x='phit', hue='well', bins=50, kde=True, ax=ax1, palette=custom_palette)\n",
    "    sns.scatterplot(data=data_layers, x='htst', y='perm_avg', hue='well', s=75, ax=ax2, alpha=0.5, ec='black', palette=custom_palette)\n",
    "    sns.lineplot(data=data_logs_khtst, x='tst_index_rev', y='khtst', hue='well', ax=ax3, palette=custom_palette)\n",
    "    sns.barplot(data = khtst_logs, x='formation', y='khtst', hue='well', ax=ax4, palette=custom_palette)\n",
    "    ax1.set_yticklabels(ax1.get_yticklabels(), rotation=90, va='center')\n",
    "    ax2.set_yscale('log')\n",
    "    ax2.grid(True, which='both', linestyle='--', linewidth=0.5)\n",
    "    ax2.set_yticklabels(ax2.get_yticklabels(), rotation=90, va='center')\n",
    "    ax3.grid(True, which='both', linestyle='--', linewidth=0.5)\n",
    "    ax3.set_yticklabels(ax3.get_yticklabels(), rotation=90, va='center')\n",
    "\n",
    "    x = np.arange(len(khtst_logs.formation.unique()))\n",
    "    fms = khtst_logs.formation.unique()\n",
    "    ax4.set_xticks(x, fms, rotation=45, fontsize=6)\n",
    "    ax4.set_yticklabels(ax4.get_yticklabels(), rotation=90, va='center')\n",
    "\n",
    "    offset_well_list = dist_df[dist_df.well == well_target].iloc[:offset_qty]['well_offset'].values.tolist()\n",
    "    x = dataset_wells[dataset_wells.phit_flag == 1]['xmean']\n",
    "    y = dataset_wells[dataset_wells.phit_flag == 1]['ymean']\n",
    "    x_target = dataset_wells[dataset_wells.well == well_target]['xmean'].iloc[0]\n",
    "    y_target = dataset_wells[dataset_wells.well == well_target]['ymean'].iloc[0]\n",
    "    x_well1 = dataset_wells[dataset_wells.well == offset_well_list[0]]['xmean'].iloc[0]\n",
    "    y_well1 = dataset_wells[dataset_wells.well == offset_well_list[0]]['ymean'].iloc[0]\n",
    "    x_well2 = dataset_wells[dataset_wells.well == offset_well_list[1]]['xmean'].iloc[0]\n",
    "    y_well2 = dataset_wells[dataset_wells.well == offset_well_list[1]]['ymean'].iloc[0]\n",
    "    x_well3 = dataset_wells[dataset_wells.well == offset_well_list[2]]['xmean'].iloc[0]\n",
    "    y_well3 = dataset_wells[dataset_wells.well == offset_well_list[2]]['ymean'].iloc[0]\n",
    "    ax5.scatter(x, y, color='gray', s=10)\n",
    "    ax5.scatter(x_target, y_target, color='red', s=50, ec='black')\n",
    "    ax5.scatter(x_well1, y_well1, color='orange')\n",
    "    ax5.scatter(x_well2, y_well2, color='green')\n",
    "    ax5.scatter(x_well3, y_well3, color='#0797eb')\n",
    "\n",
    "    plt.suptitle(well_dist_title(dist_df), fontsize=16, y=0.92, x=0.32)\n",
    "    if print_flag == 'print':\n",
    "        plt.savefig(f'C:/jupyter/SPP/plots/offset_dashboard/{fm_name}_{well_target}_offset_dashboard.png');"
   ]
  },
  {
   "cell_type": "code",
   "execution_count": null,
   "metadata": {},
   "outputs": [],
   "source": [
    "df_bal8_v4_flag = df_bal8_v4_flag[~df_bal8_v4_flag.well.isin(['E31Z', 'D01Z'])]\n",
    "dist_bal8 = well_dist_calc(df_bal8_v4_flag, 'Balakhany VIII').round(0)\n",
    "df_bal8_khtst = well_list_selection(df_bal8_v4, 15).round(0)\n",
    "for wellname in df_bal8_khtst.well:\n",
    "    try:\n",
    "        well_offset_comparison_dashboard(df_bal8_v4_flag, ntd_top_phi_bot8_bp_v4, dist_bal8, wellname, 3, 'bal8','dontprint')\n",
    "    except:\n",
    "        print(f\"error in {wellname}\")"
   ]
  },
  {
   "cell_type": "code",
   "execution_count": null,
   "metadata": {},
   "outputs": [],
   "source": [
    "df_bal10_v4_flag = df_bal10_v4_flag[~df_bal10_v4_flag.well.isin(['E31Z', 'D01Z'])]\n",
    "dist_bal10 = well_dist_calc(df_bal10_v4_flag, 'Balakhany X').round(0)\n",
    "df_bal10_khtst = well_list_selection(df_bal10_v4_flag, 15).round(0)\n",
    "for wellname in df_bal10_khtst.well:\n",
    "    try:\n",
    "        well_offset_comparison_dashboard(df_bal10_v4_flag, ntd_top_phi_bot10_bp_v4, dist_bal10, wellname, 3, 'bal10','dontprint')\n",
    "    except:\n",
    "        print(f\"error in {wellname}\")"
   ]
  },
  {
   "cell_type": "markdown",
   "metadata": {},
   "source": [
    "# Best quantity of offset wells"
   ]
  },
  {
   "cell_type": "markdown",
   "metadata": {},
   "source": [
    "## Bal8"
   ]
  },
  {
   "cell_type": "code",
   "execution_count": 9,
   "metadata": {},
   "outputs": [],
   "source": [
    "df_bal8_v4 = pd.read_csv('C:\\jupyter\\SPP\\inputoutput\\general_logs\\df_bal8_azr_v4.csv')\n",
    "df_bal8_v4.columns = df_bal8_v4.columns.str.lower()\n",
    "df_bal8_v4.loc[df_bal8_v4.formation=='Balakhany VIII sand','formation'] = '1_bal8_sand'\n",
    "df_bal8_v4.loc[df_bal8_v4.formation=='Balakhany VIII 25','formation'] = '2_bal8_25'\n",
    "df_bal8_v4.loc[df_bal8_v4.formation=='Balakhany VIII 20','formation'] = '3_bal8_20'\n",
    "df_bal8_v4.loc[df_bal8_v4.formation=='Balakhany VIII 15','formation'] = '4_bal8_15'\n",
    "df_bal8_v4.loc[df_bal8_v4.formation=='Balakhany VIII 10','formation'] = '5_bal8_10'\n",
    "df_bal8_v4.loc[df_bal8_v4.formation=='Balakhany VIII 5','formation'] = '6_bal8_5'\n",
    "df_bal8_v4 = df_bal8_v4[df_bal8_v4.phit_flag == 1]\n",
    "df_bal8_v4 = df_bal8_v4[~df_bal8_v4.well.isin(['D01Z'])]\n",
    "dist_bal8 = well_dist_calc(df_bal8_v4, 'Balakhany VIII').round(0)"
   ]
  },
  {
   "cell_type": "code",
   "execution_count": 10,
   "metadata": {},
   "outputs": [],
   "source": [
    "def add_khtst_dist_df(df_logs, df_dist):\n",
    "    df_lst = []\n",
    "    for well_offset in df_dist.well_offset.unique():\n",
    "        khtst = df_logs[df_logs.well == well_offset][['well','khtst']].iloc[0].values\n",
    "        df_lst.append(khtst)\n",
    "    khtst_dist = pd.DataFrame(df_lst, columns=['well', 'khtst'])\n",
    "    dist_v2 = (df_dist.merge(khtst_dist, left_on='well_offset', right_on='well', how='left')).merge(\n",
    "        khtst_dist, left_on='well_x', right_on='well', how='left')\n",
    "    dist_v2 = dist_v2[['well_x','khtst_y', 'well_offset', 'dist','khtst_x','formation_up']].rename(\n",
    "                    columns={'well_x':'well', 'khtst_y':'khtst_target', 'khtst_x':'khtst_offset', 'dist':'dist_offset'})\n",
    "    return dist_v2\n",
    "\n",
    "def selection_quantity_well(df_dist_v2, q):\n",
    "    df_lst = []\n",
    "    for wellname in df_dist_v2.well.unique():\n",
    "        well_set = df_dist_v2[df_dist_v2.well == wellname].iloc[:q]\n",
    "        df_lst.append(well_set)\n",
    "    dist_v3 = pd.concat(df_lst).reset_index(drop=True)\n",
    "    return dist_v3\n",
    "\n",
    "def assesment_kh_by_offset_avg(df_dist_v3, quality_range):\n",
    "    df_lst = []\n",
    "    for wellname in df_dist_v3.well.unique():\n",
    "        data = df_dist_v3[df_dist_v3.well == wellname]\n",
    "        weighted_average = np.average(data.khtst_offset.values, weights=data.dist_offset.values)\n",
    "        data['weighted_average'] = weighted_average\n",
    "        df_lst.append(data)\n",
    "    dist_v4 = pd.concat(df_lst).reset_index(drop=True)\n",
    "    dist_v4['khtst_target_high'] = dist_v4.khtst_target*(1 + quality_range)\n",
    "    dist_v4['khtst_target_low'] = dist_v4.khtst_target*(1 - quality_range)\n",
    "    dist_v4['khtst_pred_qc'] = 'in_range' # 0 - below low, 1 - within range, 2 - above high\n",
    "    dist_v4.loc[dist_v4.weighted_average <= dist_v4.khtst_target_low, 'khtst_pred_qc'] = 'under_estimated'\n",
    "    dist_v4.loc[dist_v4.weighted_average >= dist_v4.khtst_target_high, 'khtst_pred_qc'] = 'over_estimated'\n",
    "    dist_v4 = dist_v4[[ 'well', 'khtst_target', 'well_offset', 'dist_offset', 'khtst_offset', 'formation_up',\n",
    "                        'khtst_target_high', 'weighted_average','khtst_target_low', 'khtst_pred_qc']]\n",
    "    result = pd.DataFrame(dist_v4[['well','khtst_pred_qc']].drop_duplicates().value_counts('khtst_pred_qc', normalize=True)).reset_index()\n",
    "    result = result.sort_values(by='khtst_pred_qc', ascending=True).reset_index(drop=True)\n",
    "    return dist_v4, result"
   ]
  },
  {
   "cell_type": "code",
   "execution_count": null,
   "metadata": {},
   "outputs": [],
   "source": [
    "df_range_lst = []\n",
    "for q in tqdm(range(1,16)):\n",
    "    dist_bal8_v2 = add_khtst_dist_df(df_bal8_v4, dist_bal8)\n",
    "    dist_bal8_v3 = selection_quantity_well(dist_bal8_v2, q)\n",
    "    dist_bal8_v4, result_bal8 = assesment_kh_by_offset_avg(dist_bal8_v3, 0.3)\n",
    "    result_bal8['offset_qty'] = q\n",
    "    df_range_lst.append(result_bal8)\n",
    "\n",
    "df_range = pd.concat(df_range_lst).reset_index(drop=True)\n",
    "sns.lineplot(data=df_range, x='offset_qty', y='proportion', hue='khtst_pred_qc')\n",
    "plt.grid()\n",
    "plt.title('Prediction by weighted avg offset 0.30')"
   ]
  },
  {
   "cell_type": "code",
   "execution_count": null,
   "metadata": {},
   "outputs": [],
   "source": [
    "df_range_lst = []\n",
    "for q in tqdm(range(1,16)):\n",
    "    dist_bal8_v2 = add_khtst_dist_df(df_bal8_v4, dist_bal8)\n",
    "    dist_bal8_v3 = selection_quantity_well(dist_bal8_v2, q)\n",
    "    dist_bal8_v4, result_bal8 = assesment_kh_by_offset_avg(dist_bal8_v3, 0.25)\n",
    "    result_bal8['offset_qty'] = q\n",
    "    df_range_lst.append(result_bal8)\n",
    "\n",
    "df_range = pd.concat(df_range_lst).reset_index(drop=True)\n",
    "sns.lineplot(data=df_range, x='offset_qty', y='proportion', hue='khtst_pred_qc')\n",
    "plt.grid()\n",
    "plt.title('Prediction by weighted avg offset 0.25')"
   ]
  },
  {
   "cell_type": "code",
   "execution_count": null,
   "metadata": {},
   "outputs": [],
   "source": [
    "df_range_lst = []\n",
    "for q in tqdm(range(1,21)):\n",
    "    dist_bal8_v2 = add_khtst_dist_df(df_bal8_v4, dist_bal8)\n",
    "    dist_bal8_v3 = selection_quantity_well(dist_bal8_v2, q)\n",
    "    dist_bal8_v4, result_bal8 = assesment_kh_by_offset_avg(dist_bal8_v3, 0.1)\n",
    "    result_bal8['offset_qty'] = q\n",
    "    df_range_lst.append(result_bal8)\n",
    "\n",
    "df_range = pd.concat(df_range_lst).reset_index(drop=True)\n",
    "sns.lineplot(data=df_range, x='offset_qty', y='proportion', hue='khtst_pred_qc')\n",
    "plt.grid()\n",
    "plt.title('Prediction by weighted avg offset 0.10')"
   ]
  },
  {
   "cell_type": "markdown",
   "metadata": {},
   "source": [
    "## Bal 10"
   ]
  },
  {
   "cell_type": "code",
   "execution_count": 14,
   "metadata": {},
   "outputs": [],
   "source": [
    "df_bal10_v4 = pd.read_csv('C:\\jupyter\\SPP\\inputoutput\\general_logs\\df_bal10_vshclp2_v4.csv')\n",
    "df_bal10_v4.columns = df_bal10_v4.columns.str.lower()\n",
    "df_bal10_v4.loc[df_bal10_v4.formation=='Balakhany X sand','formation'] = '1_bal10_sand'\n",
    "df_bal10_v4.loc[df_bal10_v4.formation=='Balakhany X 50','formation'] = '2_bal10_40'\n",
    "df_bal10_v4.loc[df_bal10_v4.formation=='Balakhany X 40','formation'] = '2_bal10_40'\n",
    "df_bal10_v4.loc[df_bal10_v4.formation=='Balakhany X 20','formation'] = '3_bal10_20'\n",
    "well_phit_flag10 = df_bal10_v4[df_bal10_v4.phit_flag==1].groupby('well')['phit_flag'].apply(lambda x: x.iloc[0]).reset_index().well.unique()\n",
    "df_bal10_v4_flag = df_bal10_v4[df_bal10_v4.well.isin(well_phit_flag10)]\n",
    "dist_bal10 = well_dist_calc(df_bal10_v4_flag, 'Balakhany X').round(0)"
   ]
  },
  {
   "cell_type": "code",
   "execution_count": null,
   "metadata": {},
   "outputs": [],
   "source": [
    "df_range_lst = []\n",
    "for q in tqdm(range(1,16)):\n",
    "    dist_bal10_v2 = add_khtst_dist_df(df_bal10_v4, dist_bal10)\n",
    "    dist_bal10_v3 = selection_quantity_well(dist_bal10_v2, q)\n",
    "    dist_bal10_v4, result_bal10 = assesment_kh_by_offset_avg(dist_bal10_v3, 0.3)\n",
    "    result_bal10['offset_qty'] = q\n",
    "    df_range_lst.append(result_bal10)\n",
    "\n",
    "df_range = pd.concat(df_range_lst).reset_index(drop=True)\n",
    "sns.lineplot(data=df_range, x='offset_qty', y='proportion', hue='khtst_pred_qc')\n",
    "plt.grid()\n",
    "plt.title('Prediction by weighted avg offset 0.30')"
   ]
  },
  {
   "cell_type": "code",
   "execution_count": null,
   "metadata": {},
   "outputs": [],
   "source": [
    "df_range_lst = []\n",
    "for q in tqdm(range(1,16)):\n",
    "    dist_bal10_v2 = add_khtst_dist_df(df_bal10_v4, dist_bal10)\n",
    "    dist_bal10_v3 = selection_quantity_well(dist_bal10_v2, q)\n",
    "    dist_bal10_v4, result_bal10 = assesment_kh_by_offset_avg(dist_bal10_v3, 0.25)\n",
    "    result_bal10['offset_qty'] = q\n",
    "    df_range_lst.append(result_bal10)\n",
    "\n",
    "df_range = pd.concat(df_range_lst).reset_index(drop=True)\n",
    "sns.lineplot(data=df_range, x='offset_qty', y='proportion', hue='khtst_pred_qc')\n",
    "plt.grid()\n",
    "plt.title('Prediction by weighted avg offset 0.25')"
   ]
  },
  {
   "cell_type": "code",
   "execution_count": null,
   "metadata": {},
   "outputs": [],
   "source": [
    "df_range_lst = []\n",
    "for q in tqdm(range(1,16)):\n",
    "    dist_bal10_v2 = add_khtst_dist_df(df_bal10_v4, dist_bal10)\n",
    "    dist_bal10_v3 = selection_quantity_well(dist_bal10_v2, q)\n",
    "    dist_bal10_v4, result_bal10 = assesment_kh_by_offset_avg(dist_bal10_v3, 0.10)\n",
    "    result_bal10['offset_qty'] = q\n",
    "    df_range_lst.append(result_bal10)\n",
    "\n",
    "df_range = pd.concat(df_range_lst).reset_index(drop=True)\n",
    "sns.lineplot(data=df_range, x='offset_qty', y='proportion', hue='khtst_pred_qc')\n",
    "plt.grid()\n",
    "plt.title('Prediction by weighted avg offset 0.10')"
   ]
  },
  {
   "cell_type": "markdown",
   "metadata": {},
   "source": [
    "# Variance inside a well set"
   ]
  },
  {
   "cell_type": "markdown",
   "metadata": {},
   "source": [
    "Variance formula:\n",
    "$$ [ s^2 = \\frac{\\sum_{i=1}^{n} (x_i - \\bar{x})^2}{n-1} ]"
   ]
  },
  {
   "cell_type": "code",
   "execution_count": null,
   "metadata": {},
   "outputs": [],
   "source": [
    "q_lst = []\n",
    "for q in [3]:\n",
    "    dist_bal8_v2 = add_khtst_dist_df(df_bal8_v4, dist_bal8)\n",
    "    dist_bal8_v3 = selection_quantity_well(dist_bal8_v2, q)\n",
    "    dist_bal8_v4, result_bal8 = assesment_kh_by_offset_avg(dist_bal8_v3, 0.25)\n",
    "    df_lst = []\n",
    "    for well in dist_bal8_v4.well.unique():\n",
    "        data = dist_bal8_v4[dist_bal8_v4.well == well]\n",
    "        khtst_full = np.hstack([data.khtst_offset.values,data.khtst_target.values[0]])\n",
    "        df = pd.DataFrame({'well': [well], 'khtst_variance': [statistics.variance(khtst_full)], 'khtst_target': [data.khtst_target.iloc[0]]})\n",
    "        df_lst.append(df)\n",
    "    result_variance = pd.concat(df_lst).reset_index(drop=True)\n",
    "    result_variance['offset_qty'] = q\n",
    "    q_lst.append(result_variance)\n",
    "\n",
    "result_variance = pd.concat(q_lst).reset_index(drop=True)\n",
    "sns.scatterplot(data=result_variance, x='khtst_target', y='khtst_variance', hue='offset_qty', palette=\"bright\")\n",
    "plt.grid()"
   ]
  },
  {
   "cell_type": "code",
   "execution_count": null,
   "metadata": {},
   "outputs": [],
   "source": [
    "X = result_variance[['khtst_target', 'khtst_variance']]\n",
    "X_scaled = StandardScaler().fit_transform(X)\n",
    "outlier_scan = DBSCAN(eps=0.78, min_samples=10)\n",
    "clusters = outlier_scan.fit_predict(X_scaled)\n",
    "result_variance['cluster'] = clusters\n",
    "sns.scatterplot(data=result_variance, x='khtst_target', y='khtst_variance', hue='cluster', palette=\"viridis\")"
   ]
  },
  {
   "cell_type": "code",
   "execution_count": null,
   "metadata": {},
   "outputs": [],
   "source": [
    "bal8_xy = df_bal8_v4[['well','xmean','ymean']].drop_duplicates().reset_index(drop=True)\n",
    "result_variance_v2 = result_variance.set_index('well').join(bal8_xy.set_index('well')).reset_index()\n",
    "plt.subplots(figsize=(15,7))\n",
    "sns.scatterplot(data=result_variance_v2, x='xmean', y='ymean', hue='cluster', palette=\"viridis\")"
   ]
  },
  {
   "cell_type": "code",
   "execution_count": null,
   "metadata": {},
   "outputs": [],
   "source": [
    "big_variance = result_variance[result_variance.cluster == -1]\n",
    "big_variance.well.unique()"
   ]
  },
  {
   "cell_type": "code",
   "execution_count": null,
   "metadata": {},
   "outputs": [],
   "source": [
    "for wellname in big_variance.well:\n",
    "    try:\n",
    "        well_offset_comparison_dashboard(df_bal8_v4_flag, ntd_top_phi_bot8_bp_v4, dist_bal8, wellname, 3, 'bal8','dontprint')\n",
    "    except:\n",
    "        print(f\"error in {wellname}\")"
   ]
  },
  {
   "cell_type": "markdown",
   "metadata": {},
   "source": [
    "# Oriented offsets"
   ]
  },
  {
   "cell_type": "code",
   "execution_count": 23,
   "metadata": {},
   "outputs": [],
   "source": [
    "def add_xykh_dist_df(df_logs, df_dist):\n",
    "    df_lst = []\n",
    "    for well_offset in df_dist.well_offset.unique():\n",
    "        xy = df_logs[df_logs.well == well_offset][['well','khtst','xmean','ymean']].iloc[0].values\n",
    "        df_lst.append(xy)\n",
    "    xy_dist = pd.DataFrame(df_lst, columns=['well', 'khtst', 'xmean', 'ymean'])\n",
    "    dist_v2 = (df_dist.merge(xy_dist, left_on='well_offset', right_on='well', how='left')).merge(\n",
    "        xy_dist, left_on='well_x', right_on='well', how='left')\n",
    "    dist_v2 = dist_v2[['well_x','xmean_y', 'ymean_y', 'khtst_y', 'well_offset', 'dist', 'xmean_x', 'ymean_x', 'khtst_x', 'formation_up']].rename(\n",
    "                    columns={'well_x':'well', 'xmean_y':'x_target', 'ymean_y':'y_target', 'khtst_y':'khtst_target', \n",
    "                             'dist':'dist_offset', 'xmean_x':'x_offset', 'ymean_x':'y_offset', 'khtst_x':'khtst_offset'})\n",
    "    return dist_v2\n",
    "def add_angle_dist_df(df):\n",
    "    df_lst = []\n",
    "    for idx, row in df.iterrows():\n",
    "        x1 = row.x_target\n",
    "        y1 = row.y_target\n",
    "        x2 = row.x_offset\n",
    "        y2 = row.y_offset\n",
    "\n",
    "        def calculate_angle(x1, y1, x2, y2):\n",
    "            angle = math.atan2(x2 - x1, y2 - y1)\n",
    "            angle_degrees = math.degrees(angle)\n",
    "            if angle_degrees < 0:\n",
    "                angle_degrees += 360\n",
    "            return round(angle_degrees,0)\n",
    "        \n",
    "        angle = calculate_angle(x1, y1, x2, y2)\n",
    "        df_lst.append(angle)\n",
    "    df['angle'] = df_lst\n",
    "    return xy\n",
    "def selection_quantity_well(df_dist_v2, q):\n",
    "    df_lst = []\n",
    "    for wellname in df_dist_v2.well.unique():\n",
    "        well_set = df_dist_v2[df_dist_v2.well == wellname].iloc[:q]\n",
    "        df_lst.append(well_set)\n",
    "    dist_v3 = pd.concat(df_lst).reset_index(drop=True)\n",
    "    return dist_v3\n",
    "def sector_assignment(bean, xy):\n",
    "    a = (90 - bean)/2\n",
    "    sector_1_3 = [0+a, 90-a, 180+a, 270-a]\n",
    "    sector_2_4 = [90+a, 180-a, 270+a, 360-a]\n",
    "    xy_sector_1_3 = xy[((xy.angle >=sector_1_3[0]) & (xy.angle <= sector_1_3[1])) | \n",
    "                    ((xy.angle >= sector_1_3[2]) & (xy.angle <= sector_1_3[3]))]\n",
    "    xy_sector_1_3['sector'] = '1_3'\n",
    "    xy_sector_2_4 = xy[((xy.angle >=sector_2_4[0]) & (xy.angle <= sector_2_4[1])) |\n",
    "                        ((xy.angle >= sector_2_4[2]) & (xy.angle <= sector_2_4[3]))]\n",
    "    xy_sector_2_4['sector'] = '2_4'\n",
    "    return xy_sector_1_3, xy_sector_2_4\n",
    "def assesment_kh_by_offset_avg(df_dist_v3, quality_range):\n",
    "    df_lst = []\n",
    "    for wellname in df_dist_v3.well.unique():\n",
    "        data = df_dist_v3[df_dist_v3.well == wellname]\n",
    "        weighted_average = np.average(data.khtst_offset.values, weights=data.dist_offset.values)\n",
    "        data['weighted_average'] = weighted_average\n",
    "        df_lst.append(data)\n",
    "    dist_v4 = pd.concat(df_lst).reset_index(drop=True)\n",
    "    dist_v4['khtst_target_high'] = dist_v4.khtst_target*(1 + quality_range)\n",
    "    dist_v4['khtst_target_low'] = dist_v4.khtst_target*(1 - quality_range)\n",
    "    dist_v4['khtst_pred_qc'] = 'in_range' # 0 - below low, 1 - within range, 2 - above high\n",
    "    dist_v4.loc[dist_v4.weighted_average <= dist_v4.khtst_target_low, 'khtst_pred_qc'] = 'under_estimated'\n",
    "    dist_v4.loc[dist_v4.weighted_average >= dist_v4.khtst_target_high, 'khtst_pred_qc'] = 'over_estimated'\n",
    "    dist_v4 = dist_v4[[ 'well', 'khtst_target', 'well_offset', 'dist_offset', 'khtst_offset', 'formation_up',\n",
    "                        'khtst_target_high', 'weighted_average','khtst_target_low', 'khtst_pred_qc']]\n",
    "    result = pd.DataFrame(dist_v4[['well','khtst_pred_qc']].drop_duplicates().value_counts('khtst_pred_qc', normalize=True)).reset_index()\n",
    "    result = result.sort_values(by='khtst_pred_qc', ascending=True).reset_index(drop=True)\n",
    "    return dist_v4, result"
   ]
  },
  {
   "cell_type": "code",
   "execution_count": null,
   "metadata": {},
   "outputs": [],
   "source": [
    "bean = 60\n",
    "df_range_lst_13 = []\n",
    "df_range_lst_24 = []\n",
    "for q in tqdm(range(1,16)):\n",
    "    xy = add_xykh_dist_df(df_bal8_v4, dist_bal8).round(0)\n",
    "    xy_v2 = add_angle_dist_df(xy)\n",
    "    xy_sector_1_3, xy_sector_2_4 = sector_assignment(bean, xy_v2)\n",
    "    xy_s13_v3 = selection_quantity_well(xy_sector_1_3, q)\n",
    "    xy_s24_v3 = selection_quantity_well(xy_sector_2_4, q)\n",
    "    xy_s13_v4, result_bal8_13 = assesment_kh_by_offset_avg(xy_s13_v3, 0.25)\n",
    "    result_bal8_13['offset_qty'] = q\n",
    "    df_range_lst_13.append(result_bal8_13)\n",
    "    xy_s24_v4, result_bal8_24 = assesment_kh_by_offset_avg(xy_s24_v3, 0.25)\n",
    "    result_bal8_24['offset_qty'] = q\n",
    "    df_range_lst_24.append(result_bal8_24)\n",
    "\n",
    "df_range_13 = pd.concat(df_range_lst_13).reset_index(drop=True)\n",
    "fig, ax = plt.subplots(1,2, figsize=(14,4))\n",
    "sns.lineplot(data=df_range_13, x='offset_qty', y='proportion', hue='khtst_pred_qc', ax=ax[0])\n",
    "ax[0].grid()\n",
    "ax[0].set_title(f'Prediction sector 1-3 bean={bean} by weighted avg offset 0.25')\n",
    "\n",
    "df_range_24 = pd.concat(df_range_lst_24).reset_index(drop=True)\n",
    "sns.lineplot(data=df_range_24, x='offset_qty', y='proportion', hue='khtst_pred_qc', ax=ax[1])\n",
    "ax[1].grid()\n",
    "ax[1].set_title(f'Prediction sector 2-4 bean={bean} by weighted avg offset 0.25')"
   ]
  },
  {
   "cell_type": "code",
   "execution_count": null,
   "metadata": {},
   "outputs": [],
   "source": [
    "dist_bal8_v2 = add_khtst_dist_df(df_bal8_v4, dist_bal8)\n",
    "dist_bal8_v3 = selection_quantity_well(dist_bal8_v2, q)\n",
    "dist_bal8_v4, result_bal8 = assesment_kh_by_offset_avg(dist_bal8_v3, 0.25)\n",
    "result_bal8['offset_qty'] = q\n",
    "result_bal8"
   ]
  },
  {
   "cell_type": "code",
   "execution_count": null,
   "metadata": {},
   "outputs": [],
   "source": [
    "def well_offset_sector(wellname, xy_s13_v3, xy_s24_v3):\n",
    "    test = pd.concat([xy_s13_v3[xy_s13_v3.well == wellname], xy_s24_v3[xy_s24_v3.well == wellname]])\n",
    "    test_target = test[['x_target','y_target']].iloc[0].values\n",
    "    test_offset = test[['x_offset','y_offset','sector']]\n",
    "\n",
    "    xy_all_wells8 = df_bal8_v4.groupby('well')[['xmean','ymean']].first().reset_index()\n",
    "    plt.subplots(figsize=(15,8))\n",
    "    sns.scatterplot(data=xy_all_wells8, x='xmean', y='ymean', s=50, color='gray')\n",
    "    sns.scatterplot(data=test.iloc[:1], x='x_target', y='y_target', s=50, color='red')\n",
    "    sns.scatterplot(data=test_offset, x='x_offset', y='y_offset', s=50, hue='sector', color='green')\n",
    "    for index, row in test.iterrows():\n",
    "        plt.text(row['x_offset'], row['y_offset'], row['well_offset'], color='black', ha='right', fontsize=6)\n",
    "    plt.text(test_target[0], test_target[1], wellname, color='red', ha='right', fontsize=6)\n",
    "well_offset_sector('B02', xy_s13_v3, xy_s24_v3)"
   ]
  },
  {
   "cell_type": "markdown",
   "metadata": {},
   "source": [
    "# Well pairs"
   ]
  },
  {
   "cell_type": "code",
   "execution_count": null,
   "metadata": {},
   "outputs": [],
   "source": [
    "df_lst = []\n",
    "for wellname in dist_bal8.well.unique():\n",
    "    data = dist_bal8[dist_bal8.well == wellname].iloc[0:1]\n",
    "    df_lst.append(data)\n",
    "well_pairs = pd.concat(df_lst).reset_index(drop=True).drop_duplicates(subset=['dist'])\n",
    "well_pairs_v2 = well_pairs[well_pairs.dist < 500] # 235m is the max distance between wells selected by elbow plot with distance 500m\n",
    "# well_pairs.hist(column='dist', bins=50)\n",
    "well_pairs_v2.sort_values(by='dist', ascending=True)"
   ]
  },
  {
   "cell_type": "code",
   "execution_count": null,
   "metadata": {},
   "outputs": [],
   "source": [
    "fig = plt.figure(figsize=(20, 5))\n",
    "sns.lineplot(data=well_pairs_v2.sort_values(by='dist', ascending=False), x='well', y='dist')\n",
    "plt.xticks(rotation=90)\n",
    "plt.grid()"
   ]
  },
  {
   "cell_type": "code",
   "execution_count": null,
   "metadata": {},
   "outputs": [],
   "source": [
    "df_lst = []\n",
    "for wellname in dist_bal8.well.unique():\n",
    "    data = dist_bal8[dist_bal8.well == wellname].iloc[0:1]\n",
    "    df_lst.append(data)\n",
    "well_pairs = pd.concat(df_lst).reset_index(drop=True).drop_duplicates(subset=['dist'])\n",
    "well_pairs_v3 = well_pairs[well_pairs.dist < 230] # 235m is the max distance between wells selected by elbow plot with distance 500m\n",
    "# well_pairs.hist(column='dist', bins=50)\n",
    "well_pairs_v3 = well_pairs_v3.sort_values(by='dist', ascending=True).reset_index(drop=True)\n",
    "well_pairs_v3"
   ]
  },
  {
   "cell_type": "code",
   "execution_count": null,
   "metadata": {},
   "outputs": [],
   "source": [
    "df_bal8_v4_flag"
   ]
  },
  {
   "cell_type": "code",
   "execution_count": null,
   "metadata": {},
   "outputs": [],
   "source": [
    "df_bal8_v4_flag[df_bal8_v4_flag.well.isin(['D01'])][['well', 'tst']].iloc[0].values[1] - \\\n",
    "df_bal8_v4_flag[df_bal8_v4_flag.well.isin(['D01'])][['well', 'tst']].iloc[-1].values[1]"
   ]
  },
  {
   "cell_type": "code",
   "execution_count": null,
   "metadata": {},
   "outputs": [],
   "source": [
    "df_bal8_v4_flag[df_bal8_v4_flag.well.isin(['D09'])][['well', 'tst']].iloc[0].values[1] - \\\n",
    "df_bal8_v4_flag[df_bal8_v4_flag.well.isin(['D09'])][['well', 'tst']].iloc[-1].values[1]"
   ]
  },
  {
   "cell_type": "code",
   "execution_count": null,
   "metadata": {},
   "outputs": [],
   "source": [
    "print(  len(df_bal8_v4_flag[df_bal8_v4_flag.well == 'D01'][['well', 'tst']]),\n",
    "        len(df_bal8_v4_flag[df_bal8_v4_flag.well == 'D09'][['well', 'tst']]))"
   ]
  },
  {
   "cell_type": "code",
   "execution_count": null,
   "metadata": {},
   "outputs": [],
   "source": [
    "def well_offset_comparison_dashboard_pairs(dataset_wells, dataset_layers, dist_df,  well_target, offset_qty, fm_name, print_flag):\n",
    "    offset_well_list = dist_df[dist_df.well == well_target].iloc[:offset_qty]['well_offset'].values.tolist()\n",
    "    # offset_well_list = dist_df[dist_df.well == well_target].iloc[:offset_qty]\n",
    "    well_list = [well_target] + offset_well_list\n",
    "    data_logs = dataset_wells[(dataset_wells.well.isin(well_list)) & (dataset_wells.phit != 0)]\n",
    "    data_layers = dataset_layers[   (dataset_layers.well.isin(well_list)) & \n",
    "                                    (dataset_layers.htst > 1)]\n",
    "    khtst_logs = data_logs.groupby(['well','formation'])[['khtst']].apply(lambda x: x.iloc[0] - x.iloc[-1]).reset_index()\n",
    "\n",
    "    def khtst_layer_calculation(data_logs):\n",
    "        data = data_logs[data_logs.net == 1]\n",
    "        df_lst = []\n",
    "        for wellname in data.well.unique():\n",
    "            well_data = data_logs[data_logs.well == wellname]\n",
    "            well_data['tst_index_rev'] = [i for i in range(len(well_data['tst']))[::-1]]\n",
    "            df_lst.append(well_data)\n",
    "        data_logs_khtst = pd.concat(df_lst)\n",
    "        return data_logs_khtst\n",
    "    data_logs_khtst = khtst_layer_calculation(data_logs)\n",
    "\n",
    "    def well_dist_title(dist_df):\n",
    "        offset_well_list = dist_df[dist_df.well == well_target].iloc[:offset_qty]\n",
    "        well = offset_well_list['well'].iloc[0]\n",
    "        well1 = offset_well_list.iloc[0,1]\n",
    "        dist1 = offset_well_list.iloc[0,2].round(0).astype(int)\n",
    "        # well2 = offset_well_list.iloc[1,1]\n",
    "        # dist2 = offset_well_list.iloc[1,2].round(0).astype(int)\n",
    "        # well3 = offset_well_list.iloc[2,1]\n",
    "        # dist3 = offset_well_list.iloc[2,2].round(0).astype(int)\n",
    "        return f\"target well {well} : offsets {well1} - {dist1}m orange;\"\n",
    "\n",
    "    fig = plt.figure(figsize=(22, 10))\n",
    "    gs = gridspec.GridSpec(2, 4, figure=fig)\n",
    "    ax1 = fig.add_subplot(gs[0, 0])\n",
    "    ax2 = fig.add_subplot(gs[0, 1])\n",
    "    ax3 = fig.add_subplot(gs[0, 2])\n",
    "    ax4 = fig.add_subplot(gs[0, 3])\n",
    "    ax5 = fig.add_subplot(gs[1, :3])\n",
    "\n",
    "    custom_palette = {well_target: 'red', offset_well_list[0]: 'orange'}\n",
    "    sns.histplot(data=data_logs, x='phit', hue='well', bins=50, kde=True, ax=ax1, palette=custom_palette)\n",
    "    sns.scatterplot(data=data_layers, x='htst', y='perm_avg', hue='well', s=75, ax=ax2, alpha=0.5, ec='black', palette=custom_palette)\n",
    "    sns.lineplot(data=data_logs_khtst, x='tst_index_rev', y='khtst', hue='well', ax=ax3, palette=custom_palette)\n",
    "    sns.barplot(data = khtst_logs, x='formation', y='khtst', hue='well', ax=ax4, palette=custom_palette)\n",
    "    ax1.set_yticklabels(ax1.get_yticklabels(), rotation=90, va='center')\n",
    "    ax2.set_yscale('log')\n",
    "    ax2.grid(True, which='both', linestyle='--', linewidth=0.5)\n",
    "    ax2.set_yticklabels(ax2.get_yticklabels(), rotation=90, va='center')\n",
    "    ax3.grid(True, which='both', linestyle='--', linewidth=0.5)\n",
    "    ax3.set_yticklabels(ax3.get_yticklabels(), rotation=90, va='center')\n",
    "\n",
    "    x = np.arange(len(khtst_logs.formation.unique()))\n",
    "    fms = khtst_logs.formation.unique()\n",
    "    ax4.set_xticks(x, fms, rotation=45, fontsize=6)\n",
    "    ax4.set_yticklabels(ax4.get_yticklabels(), rotation=90, va='center')\n",
    "\n",
    "    offset_well_list = dist_df[dist_df.well == well_target].iloc[:offset_qty]['well_offset'].values.tolist()\n",
    "    x = dataset_wells[dataset_wells.phit_flag == 1]['xmean']\n",
    "    y = dataset_wells[dataset_wells.phit_flag == 1]['ymean']\n",
    "    x_target = dataset_wells[dataset_wells.well == well_target]['xmean'].iloc[0]\n",
    "    y_target = dataset_wells[dataset_wells.well == well_target]['ymean'].iloc[0]\n",
    "    x_well1 = dataset_wells[dataset_wells.well == offset_well_list[0]]['xmean'].iloc[0]\n",
    "    y_well1 = dataset_wells[dataset_wells.well == offset_well_list[0]]['ymean'].iloc[0]\n",
    "    # x_well2 = dataset_wells[dataset_wells.well == offset_well_list[1]]['xmean'].iloc[0]\n",
    "    # y_well2 = dataset_wells[dataset_wells.well == offset_well_list[1]]['ymean'].iloc[0]\n",
    "    # x_well3 = dataset_wells[dataset_wells.well == offset_well_list[2]]['xmean'].iloc[0]\n",
    "    # y_well3 = dataset_wells[dataset_wells.well == offset_well_list[2]]['ymean'].iloc[0]\n",
    "    ax5.scatter(x, y, color='gray', s=10)\n",
    "    ax5.scatter(x_target, y_target, color='red', s=50, ec='black')\n",
    "    ax5.scatter(x_well1, y_well1, color='orange')\n",
    "    # ax5.scatter(x_well2, y_well2, color='green')\n",
    "    # ax5.scatter(x_well3, y_well3, color='#0797eb')\n",
    "\n",
    "    plt.suptitle(well_dist_title(dist_df), fontsize=16, y=0.92, x=0.32)\n",
    "    if print_flag == 'print':\n",
    "        plt.savefig(f'C:/jupyter/SPP/plots/offset_dashboard/{fm_name}_{well_target}_offset_dashboard.png');\n",
    "\n",
    "df_bal8_v4_flag = df_bal8_v4_flag[~df_bal8_v4_flag.well.isin(['E31Z', 'D01Z'])]\n",
    "dist_bal8 = well_dist_calc(df_bal8_v4_flag, 'Balakhany VIII').round(0)\n",
    "for wellname in well_pairs_v3.well:\n",
    "    try:\n",
    "        well_offset_comparison_dashboard_pairs(df_bal8_v4_flag, ntd_top_phi_bot8_bp_v4, well_pairs_v3, wellname, 1, 'bal8','dontprint')\n",
    "    except:\n",
    "        print(f\"error in {wellname}\")"
   ]
  },
  {
   "cell_type": "markdown",
   "metadata": {},
   "source": [
    "# Well URL"
   ]
  },
  {
   "cell_type": "code",
   "execution_count": 35,
   "metadata": {},
   "outputs": [],
   "source": [
    "import os\n",
    "\n",
    "def get_file_paths(directory):\n",
    "    file_paths = []\n",
    "    for filename in os.listdir(directory):\n",
    "        full_path = os.path.join(directory, filename)\n",
    "        if os.path.isfile(full_path):  # Ensure it's a file, not a directory\n",
    "            file_paths.append(full_path)\n",
    "    return file_paths\n",
    "\n",
    "directory_path = 'C:\\\\jupyter\\\\SPP\\\\plots\\\\logs_vsh_bal8'\n",
    "file_paths = get_file_paths(directory_path)\n",
    "df = pd.DataFrame(file_paths, columns=['file_path'])\n",
    "df['well_old'] = df.file_path.str.split('\\\\').str[-1]\n",
    "df['well'] = df.well_old.str.split('.').str[0]\n",
    "df = df.drop(columns=['well_old'])\n",
    "df_xy = df_bal8_v4[['well','xmean','ymean']].drop_duplicates().reset_index(drop=True)\n",
    "df.merge(df_xy, on='well').to_csv('C:\\\\jupyter\\\\SPP\\\\inputoutput\\\\df_xy8.csv', index=False)"
   ]
  },
  {
   "cell_type": "markdown",
   "metadata": {},
   "source": [
    "# Offset for channels wells"
   ]
  },
  {
   "cell_type": "code",
   "execution_count": null,
   "metadata": {},
   "outputs": [],
   "source": [
    "df_channel8 = pd.read_csv(r'C:\\jupyter\\SPP\\output\\channels\\logs8_big_channels.csv')\n",
    "xy = df_bal8_v4.groupby('well')[['xmean','ymean']].first().reset_index()\n",
    "plt.subplots(figsize=(12,7))\n",
    "sns.scatterplot(data=xy, x='xmean', y='ymean', s=70, color='green', ec='black', alpha=0.5)\n",
    "sns.scatterplot(data=df_channel8, x='xmean', y='ymean', c='orange', s=35, ec='black');"
   ]
  },
  {
   "cell_type": "code",
   "execution_count": null,
   "metadata": {},
   "outputs": [],
   "source": [
    "df_bal8_v4_channel = df_bal8_v4_flag[df_bal8_v4_flag.well.isin(df_channel8.well.unique())]\n",
    "dist_bal8_channel = well_dist_calc(df_bal8_v4_channel, 'Balakhany VIII').round(0)\n",
    "df_bal8_khtst_channel = well_list_selection(df_bal8_v4_channel, 55).round(0)\n",
    "for wellname in df_bal8_khtst_channel.well:\n",
    "    try:\n",
    "        well_offset_comparison_dashboard(df_bal8_v4_channel, ntd_top_phi_bot8_bp_v4, dist_bal8_channel, wellname, 3, 'bal8','dontprint')\n",
    "    except:\n",
    "        print(f\"error in {wellname}\")"
   ]
  },
  {
   "cell_type": "code",
   "execution_count": 38,
   "metadata": {},
   "outputs": [],
   "source": [
    "def add_khtst_dist_df(df_logs, df_dist):\n",
    "    df_lst = []\n",
    "    for well_offset in df_dist.well_offset.unique():\n",
    "        khtst = df_logs[df_logs.well == well_offset][['well','khtst']].iloc[0].values\n",
    "        df_lst.append(khtst)\n",
    "    khtst_dist = pd.DataFrame(df_lst, columns=['well', 'khtst'])\n",
    "    dist_v2 = (df_dist.merge(khtst_dist, left_on='well_offset', right_on='well', how='left')).merge(\n",
    "        khtst_dist, left_on='well_x', right_on='well', how='left')\n",
    "    dist_v2 = dist_v2[['well_x','khtst_y', 'well_offset', 'dist','khtst_x','formation_up']].rename(\n",
    "                    columns={'well_x':'well', 'khtst_y':'khtst_target', 'khtst_x':'khtst_offset', 'dist':'dist_offset'})\n",
    "    return dist_v2\n",
    "\n",
    "def selection_quantity_well(df_dist_v2, q):\n",
    "    df_lst = []\n",
    "    for wellname in df_dist_v2.well.unique():\n",
    "        well_set = df_dist_v2[df_dist_v2.well == wellname].iloc[:q]\n",
    "        df_lst.append(well_set)\n",
    "    dist_v3 = pd.concat(df_lst).reset_index(drop=True)\n",
    "    return dist_v3\n",
    "\n",
    "def assesment_kh_by_offset_avg(df_dist_v3, quality_range):\n",
    "    df_lst = []\n",
    "    for wellname in df_dist_v3.well.unique():\n",
    "        data = df_dist_v3[df_dist_v3.well == wellname]\n",
    "        weighted_average = np.average(data.khtst_offset.values, weights=data.dist_offset.values)\n",
    "        data['weighted_average'] = weighted_average\n",
    "        df_lst.append(data)\n",
    "    dist_v4 = pd.concat(df_lst).reset_index(drop=True)\n",
    "    dist_v4['khtst_target_high'] = dist_v4.khtst_target*(1 + quality_range)\n",
    "    dist_v4['khtst_target_low'] = dist_v4.khtst_target*(1 - quality_range)\n",
    "    dist_v4['khtst_pred_qc'] = 'in_range' # 0 - below low, 1 - within range, 2 - above high\n",
    "    dist_v4.loc[dist_v4.weighted_average <= dist_v4.khtst_target_low, 'khtst_pred_qc'] = 'under_estimated'\n",
    "    dist_v4.loc[dist_v4.weighted_average >= dist_v4.khtst_target_high, 'khtst_pred_qc'] = 'over_estimated'\n",
    "    dist_v4 = dist_v4[[ 'well', 'khtst_target', 'well_offset', 'dist_offset', 'khtst_offset', 'formation_up',\n",
    "                        'khtst_target_high', 'weighted_average','khtst_target_low', 'khtst_pred_qc']]\n",
    "    result = pd.DataFrame(dist_v4[['well','khtst_pred_qc']].drop_duplicates().value_counts('khtst_pred_qc', normalize=True)).reset_index()\n",
    "    result = result.sort_values(by='khtst_pred_qc', ascending=True).reset_index(drop=True)\n",
    "    return dist_v4, result"
   ]
  },
  {
   "cell_type": "code",
   "execution_count": null,
   "metadata": {},
   "outputs": [],
   "source": [
    "df_range_lst = []\n",
    "for q in tqdm(range(1,16)):\n",
    "    dist_bal8_ch_v2 = add_khtst_dist_df(df_bal8_v4_channel, dist_bal8_channel).round(0)\n",
    "    dist_bal8_ch_v3 = selection_quantity_well(dist_bal8_ch_v2, q)\n",
    "    dist_bal8_ch_v4, result_bal8_ch = assesment_kh_by_offset_avg(dist_bal8_ch_v3, 0.3)\n",
    "    result_bal8_ch['offset_qty'] = q\n",
    "    df_range_lst.append(result_bal8_ch)\n",
    "\n",
    "df_range = pd.concat(df_range_lst).reset_index(drop=True)\n",
    "sns.lineplot(data=df_range, x='offset_qty', y='proportion', hue='khtst_pred_qc')\n",
    "plt.grid()\n",
    "plt.title('Prediction by weighted avg offset 0.30')"
   ]
  },
  {
   "cell_type": "markdown",
   "metadata": {},
   "source": [
    "# Phit+htst vs KHtst"
   ]
  },
  {
   "cell_type": "code",
   "execution_count": 40,
   "metadata": {},
   "outputs": [],
   "source": [
    "# if PHI >=0.20:\n",
    "#     PERM = (7.7925*((PHI*100)**2))-(29881.0*PHI)+2891.8\n",
    "# elif PHI >= 0.16 and PHI < 0.2:\n",
    "#     PERM = 0.00000002*(exp(PHI*105.56))      \n",
    "# elif PHI < 0.16:\n",
    "#     PERM = 0.0159*(exp(PHI*21.27))"
   ]
  },
  {
   "cell_type": "code",
   "execution_count": 41,
   "metadata": {},
   "outputs": [],
   "source": [
    "khtst_ntd = ntd_top_phi_bot8_bp_v4.groupby('well')[['htst','khtst']].sum().reset_index()\n",
    "khtst_ntd = khtst_ntd.rename(columns={'htst':'htst_sum','khtst':'khtst_cumsum'})\n",
    "ntd_top_phi_bot8_bp_v4['htst*phit'] = ntd_top_phi_bot8_bp_v4['htst']*ntd_top_phi_bot8_bp_v4['phit_avg']\n",
    "ntd8 = ntd_top_phi_bot8_bp_v4.set_index('well').join(khtst_ntd.set_index('well')).reset_index()\n",
    "ntd8_v2 = ntd8.groupby('well')[['htst*phit','htst_sum','khtst_cumsum']].agg({'htst*phit':'sum','htst_sum':'first','khtst_cumsum':'first'}).reset_index()\n",
    "ntd8_v2['phit_wavg'] = ntd8_v2['htst*phit']/ntd8_v2['htst_sum']\n",
    "ntd8_v2 = ntd8_v2.drop(columns=['htst*phit'])\n",
    "ntd8_v2.loc[ntd8_v2.phit_wavg >=0.2, 'perm'] = (7.7925*((ntd8_v2.phit_wavg*100)**2))-(29881.0*ntd8_v2.phit_wavg)+2891.8\n",
    "ntd8_v2.loc[ntd8_v2.phit_wavg <0.2, 'perm'] = 0.00000002*(2.71828**(ntd8_v2.phit_wavg * 105.56))\n",
    "ntd8_v2.loc[ntd8_v2.phit_wavg < 0.16, 'perm'] = 0.0159*(2.71828**(ntd8_v2.phit_wavg * 21.27))\n",
    "ntd8_v2['perm*htst_sum'] = ntd8_v2['perm']*ntd8_v2['htst_sum']\n",
    "ntd8_v2_sorted = ntd8_v2.sort_values(by='perm*htst_sum', ascending=False).reset_index(drop=True)"
   ]
  },
  {
   "cell_type": "code",
   "execution_count": null,
   "metadata": {},
   "outputs": [],
   "source": [
    "ntd8_v2"
   ]
  },
  {
   "cell_type": "code",
   "execution_count": null,
   "metadata": {},
   "outputs": [],
   "source": [
    "X = ntd8_v2_sorted.index.values\n",
    "Y = ntd8_v2_sorted['khtst_cumsum'].values\n",
    "degree = 3\n",
    "coefficients = np.polyfit(X, Y, degree)\n",
    "polynomial_function = np.poly1d(coefficients)\n",
    "Y_fit = polynomial_function(X)\n",
    "ntd8_v2_sorted['Y_fit'] = Y_fit\n",
    "\n",
    "sns.lineplot(data=ntd8_v2_sorted, x=ntd8_v2_sorted.index, y='perm*htst_sum', label='perm*htst_sum')\n",
    "sns.lineplot(data=ntd8_v2_sorted, x=ntd8_v2_sorted.index, y='khtst_cumsum', label='khtst_cumsum')\n",
    "sns.lineplot(data=ntd8_v2_sorted, x=ntd8_v2_sorted.index.values, y=Y_fit, label='Y_fit')\n",
    "plt.legend()"
   ]
  },
  {
   "cell_type": "code",
   "execution_count": null,
   "metadata": {},
   "outputs": [],
   "source": [
    "from sklearn.linear_model import LinearRegression\n",
    "from sklearn.metrics import r2_score\n",
    "\n",
    "X = ntd8_v2_sorted[['perm*htst_sum']]  # Reshape X to be a 2D array\n",
    "Y = ntd8_v2_sorted['khtst_cumsum']\n",
    "model = LinearRegression()\n",
    "model.fit(X, Y)\n",
    "Y_pred = model.predict(X)\n",
    "ntd8_v2_sorted['Y_pred'] = Y_pred\n",
    "r2 = model.score(X, Y)\n",
    "print(f'R-squared: {r2:.3f}')\n",
    "\n",
    "sns.scatterplot(data=ntd8_v2_sorted, x='perm*htst_sum', y='khtst_cumsum')\n",
    "sns.lineplot(x=X.values.flatten(), y=Y_pred, color='red')"
   ]
  },
  {
   "cell_type": "code",
   "execution_count": null,
   "metadata": {},
   "outputs": [],
   "source": [
    "X = ntd8_v2_sorted['perm*htst_sum']\n",
    "Y = ntd8_v2_sorted['khtst_cumsum']\n",
    "\n",
    "degree = 3\n",
    "coefficients = np.polyfit(X, Y, degree)\n",
    "polynomial_function = np.poly1d(coefficients)\n",
    "Y_fit = polynomial_function(X)\n",
    "ntd8_v2_sorted['Y_fit_deg3'] = Y_fit\n",
    "# Plot the scatter plot\n",
    "sns.scatterplot(data=ntd8_v2_sorted, x='perm*htst_sum', y='khtst_cumsum')\n",
    "\n",
    "# Plot the regression line\n",
    "plt.plot(X, Y_fit, color='red')  # This adds the regression line to the scatter plot\n",
    "plt.plot([0,25000], [0,25000], c='green', ls='--')\n",
    "plt.grid()\n",
    "plt.show()"
   ]
  },
  {
   "cell_type": "markdown",
   "metadata": {},
   "source": [
    "# Offsets to calc phit"
   ]
  },
  {
   "cell_type": "code",
   "execution_count": 45,
   "metadata": {},
   "outputs": [],
   "source": [
    "def add_phit_dist_df(df_ntd, df_dist):\n",
    "    df_lst = []\n",
    "    for well_offset in df_dist.well_offset.unique():\n",
    "        phit = df_ntd[df_ntd.well == well_offset][['well','htst','phit_avg']]\n",
    "        phit['htst*phit'] = phit['htst']*phit['phit_avg']\n",
    "        phit_htst = phit['htst*phit'].sum()\n",
    "        htst_sum = phit['htst'].sum()\n",
    "        phit_wavg = phit_htst/htst_sum\n",
    "        df_lst.append((well_offset, phit_wavg, htst_sum))\n",
    "    phit_dist = pd.DataFrame(df_lst, columns=['well', 'phit_wavg', 'htst_sum'])\n",
    "    dist_v2 = (df_dist.merge(phit_dist, left_on='well_offset', right_on='well', how='left')).merge(\n",
    "        phit_dist, left_on='well_x', right_on='well', how='left')\n",
    "    dist_v2 = dist_v2[['well_x','phit_wavg_y', 'well_offset', 'htst_sum_y','dist','phit_wavg_x','htst_sum_x','formation_up']].rename(\n",
    "                    columns={'well_x':'well', 'phit_wavg_y':'phit_target', 'htst_sum_y':'htst_target', \n",
    "                             'phit_wavg_x':'phit_offset', 'htst_sum_x':'htst_offset', 'dist':'dist_offset'})\n",
    "    return dist_v2\n",
    "\n",
    "def selection_quantity_well(df_dist_v2, q):\n",
    "    df_lst = []\n",
    "    for wellname in df_dist_v2.well.unique():\n",
    "        well_set = df_dist_v2[df_dist_v2.well == wellname].iloc[:q]\n",
    "        df_lst.append(well_set)\n",
    "    dist_v3 = pd.concat(df_lst).reset_index(drop=True)\n",
    "    return dist_v3\n",
    "\n",
    "def assesment_phit_by_offset_avg(df_dist_v3, quality_range):\n",
    "    df_lst = []\n",
    "    for wellname in df_dist_v3.well.unique():\n",
    "        data = df_dist_v3[df_dist_v3.well == wellname]\n",
    "        weighted_average = np.average(data.phit_offset.values, weights=data.dist_offset.values)\n",
    "        data['weighted_average'] = weighted_average\n",
    "        df_lst.append(data)\n",
    "    dist_v4 = pd.concat(df_lst).reset_index(drop=True)\n",
    "    dist_v4['phit_target_high'] = dist_v4.phit_target + quality_range\n",
    "    dist_v4['phit_target_low'] = dist_v4.phit_target - quality_range\n",
    "    dist_v4['phit_pred_qc'] = 'in_range' # 0 - below low, 1 - within range, 2 - above high\n",
    "    # dist_v4['phit_target_high'] = dist_v4.phit_target*(1 + quality_range)\n",
    "    # dist_v4['phit_target_low'] = dist_v4.phit_target*(1 - quality_range)\n",
    "    # dist_v4['phit_pred_qc'] = 'in_range' # 0 - below low, 1 - within range, 2 - above high\n",
    "    dist_v4.loc[dist_v4.weighted_average <= dist_v4.phit_target_low, 'phit_pred_qc'] = 'under_estimated'\n",
    "    dist_v4.loc[dist_v4.weighted_average >= dist_v4.phit_target_high, 'phit_pred_qc'] = 'over_estimated'\n",
    "    dist_v4 = dist_v4[[ 'well', 'phit_target', 'well_offset', 'dist_offset', 'phit_offset', 'formation_up',\n",
    "                        'phit_target_high', 'weighted_average','phit_target_low', 'phit_pred_qc']]\n",
    "    result = pd.DataFrame(dist_v4[['well','phit_pred_qc']].drop_duplicates().value_counts('phit_pred_qc', normalize=True)).reset_index()\n",
    "    result = result.sort_values(by='phit_pred_qc', ascending=True).reset_index(drop=True)\n",
    "    return dist_v4, result\n",
    "\n",
    "def assesment_htst_by_offset_avg(df_dist_v3, quality_range):\n",
    "    df_lst = []\n",
    "    for wellname in df_dist_v3.well.unique():\n",
    "        data = df_dist_v3[df_dist_v3.well == wellname]\n",
    "        weighted_average = np.average(data.htst_offset.values, weights=data.dist_offset.values)\n",
    "        data['weighted_average'] = weighted_average\n",
    "        df_lst.append(data)\n",
    "    dist_v4 = pd.concat(df_lst).reset_index(drop=True)\n",
    "    dist_v4['htst_target_high'] = dist_v4.htst_target + quality_range\n",
    "    dist_v4['htst_target_low'] = dist_v4.htst_target - quality_range\n",
    "    dist_v4['htst_pred_qc'] = 'in_range' # 0 - below low, 1 - within range, 2 - above high\n",
    "    # dist_v4['htst_target_high'] = dist_v4.htst_target*(1 + quality_range)\n",
    "    # dist_v4['htst_target_low'] = dist_v4.htst_target*(1 - quality_range)\n",
    "    # dist_v4['htst_pred_qc'] = 'in_range' # 0 - below low, 1 - within range, 2 - above high\n",
    "    dist_v4.loc[dist_v4.weighted_average <= dist_v4.htst_target_low, 'htst_pred_qc'] = 'under_estimated'\n",
    "    dist_v4.loc[dist_v4.weighted_average >= dist_v4.htst_target_high, 'htst_pred_qc'] = 'over_estimated'\n",
    "    dist_v4 = dist_v4[[ 'well', 'htst_target', 'well_offset', 'dist_offset', 'htst_offset', 'formation_up',\n",
    "                        'htst_target_high', 'weighted_average','htst_target_low', 'htst_pred_qc']]\n",
    "    result = pd.DataFrame(dist_v4[['well','htst_pred_qc']].drop_duplicates().value_counts('htst_pred_qc', normalize=True)).reset_index()\n",
    "    result = result.sort_values(by='htst_pred_qc', ascending=True).reset_index(drop=True)\n",
    "    return dist_v4, result"
   ]
  },
  {
   "cell_type": "code",
   "execution_count": null,
   "metadata": {},
   "outputs": [],
   "source": [
    "# I need to estimate range for kh prediction based on uncertainty of htst and phit.\n",
    "# I know that phit is inside the range +/- 0.0115 v/v and htst inside the range +/- 4.25 m. See calculation of uncertainties.\n",
    "df_range_phit_lst = []\n",
    "df_range_htst_lst = []\n",
    "for q in range(1,16):\n",
    "    dist_bal8_v2 = add_phit_dist_df(ntd_top_phi_bot8_bp_v4, dist_bal8)\n",
    "    dist_bal8_v3 = selection_quantity_well(dist_bal8_v2, q)\n",
    "    dist_bal8_v4_phit, result_bal8_phit = assesment_phit_by_offset_avg(dist_bal8_v3, 0.0115)\n",
    "    dist_bal8_v4_htst, result_bal8_htst = assesment_htst_by_offset_avg(dist_bal8_v3, 4.25)\n",
    "    result_bal8_phit['offset_qty'] = q\n",
    "    result_bal8_htst['offset_qty'] = q\n",
    "    df_range_phit_lst.append(result_bal8_phit)\n",
    "    df_range_htst_lst.append(result_bal8_htst)\n",
    "\n",
    "df_range_phit = pd.concat(df_range_phit_lst).reset_index(drop=True)\n",
    "df_range_htst = pd.concat(df_range_htst_lst).reset_index(drop=True)\n",
    "fig, ax = plt.subplots(1,2, figsize=(14,4))\n",
    "sns.lineplot(data=df_range_phit, x='offset_qty', y='proportion', hue='phit_pred_qc', ax=ax[0])\n",
    "ax[0].grid()\n",
    "ax[0].set_title('Prediction by weighted avg offset 0.0115')\n",
    "sns.lineplot(data=df_range_htst, x='offset_qty', y='proportion', hue='htst_pred_qc', ax=ax[1])\n",
    "ax[1].grid()\n",
    "ax[1].set_title('Prediction by weighted avg offset 4.25')"
   ]
  },
  {
   "cell_type": "code",
   "execution_count": null,
   "metadata": {},
   "outputs": [],
   "source": [
    "df_range_phit[df_range_phit.phit_pred_qc == 'in_range'].sort_values(by='proportion', ascending=False).head(1)"
   ]
  },
  {
   "cell_type": "code",
   "execution_count": 48,
   "metadata": {},
   "outputs": [],
   "source": [
    "# display(dist_bal8_v4_htst.iloc[:3])\n",
    "# display(dist_bal8_v4_phit.iloc[:3])"
   ]
  },
  {
   "cell_type": "code",
   "execution_count": null,
   "metadata": {},
   "outputs": [],
   "source": [
    "# Does the htst range has correlation between net and range p10-p90 of net_rnd?\n",
    "uncert8 = pd.read_csv(r'C:\\jupyter\\SPP_uncertainty\\report\\uncert_final_plt_bal8.csv')\n",
    "uncert8 = uncert8[['well','NET_rnd_range', 'NET', 'field']].drop_duplicates()\n",
    "sns.jointplot(data=uncert8, x='NET', y='NET_rnd_range', hue='field', kind='scatter')\n",
    "plt.grid()"
   ]
  },
  {
   "cell_type": "markdown",
   "metadata": {},
   "source": [
    "# Khtst range"
   ]
  },
  {
   "cell_type": "code",
   "execution_count": null,
   "metadata": {},
   "outputs": [],
   "source": [
    "q=2\n",
    "dist_bal8_v2 = add_phit_dist_df(ntd_top_phi_bot8_bp_v4, dist_bal8)\n",
    "dist_bal8_v3 = selection_quantity_well(dist_bal8_v2, q)\n",
    "dist_bal8_v4_phit, result_bal8_phit = assesment_phit_by_offset_avg(dist_bal8_v3, 0.0115)\n",
    "dist_bal8_v4_htst, result_bal8_htst = assesment_htst_by_offset_avg(dist_bal8_v3, 4.25)\n",
    "\n",
    "# If I have phit and htst uncertainty, I can calculate kh uncertainty.\n",
    "def khtst_basedon_phit_htst_offset(dist_bal8_v4_htst, dist_bal8_v4_phit):\n",
    "    dist_bal8_v4_htst = dist_bal8_v4_htst.rename(columns={'dist_offset':'dist_offset_htst', \n",
    "                                                        'weighted_average':'wavg_htst'})\n",
    "    dist_bal8_v4_phit = dist_bal8_v4_phit.rename(columns={'dist_offset':'dist_offset_phit',\n",
    "                                                        'weighted_average':'wavg_phit'})\n",
    "    dist_bal8_htst_phit = dist_bal8_v4_htst.set_index(['well','well_offset']).join(\n",
    "        dist_bal8_v4_phit.set_index(['well','well_offset']), how='inner', rsuffix='_phit').drop(columns=['formation_up_phit']).reset_index()\n",
    "\n",
    "    dist_bal8_htst_phit = dist_bal8_htst_phit[[ 'well', 'phit_target', 'htst_target', 'well_offset',  'dist_offset_htst', 'dist_offset_phit',\n",
    "                                                'htst_offset', 'phit_offset', 'formation_up', \n",
    "                                                'htst_target_high', 'wavg_htst', 'htst_target_low','htst_pred_qc',  \n",
    "                                                'phit_target_high', 'wavg_phit', 'phit_target_low', 'phit_pred_qc']]\n",
    "\n",
    "    dist_bal8_htst_phit.loc[dist_bal8_htst_phit.phit_target >=0.2, 'perm_target'] = (7.7925*((dist_bal8_htst_phit.phit_target*100)**2))- \\\n",
    "                                                                                    (29881.0*dist_bal8_htst_phit.phit_target) + 2891.8\n",
    "    dist_bal8_htst_phit.loc[dist_bal8_htst_phit.phit_target <0.2, 'perm_target'] = 0.00000002*(2.71828**(dist_bal8_htst_phit.phit_target * 105.56))\n",
    "    dist_bal8_htst_phit.loc[dist_bal8_htst_phit.phit_target < 0.16, 'perm_target'] = 0.0159*(2.71828**(dist_bal8_htst_phit.phit_target * 21.27))\n",
    "\n",
    "    dist_bal8_htst_phit.loc[dist_bal8_htst_phit.wavg_phit >=0.2, 'perm_wavg'] = (7.7925*((dist_bal8_htst_phit.wavg_phit*100)**2))- \\\n",
    "                                                                                    (29881.0*dist_bal8_htst_phit.wavg_phit) + 2891.8\n",
    "    dist_bal8_htst_phit.loc[dist_bal8_htst_phit.wavg_phit <0.2, 'perm_wavg'] = 0.00000002*(2.71828**(dist_bal8_htst_phit.wavg_phit * 105.56))\n",
    "    dist_bal8_htst_phit.loc[dist_bal8_htst_phit.wavg_phit < 0.16, 'perm_wavg'] = 0.0159*(2.71828**(dist_bal8_htst_phit.wavg_phit * 21.27))\n",
    "\n",
    "    dist_bal8_htst_phit.loc[dist_bal8_htst_phit.phit_target_high >=0.2, 'perm_target_high'] = (7.7925*((dist_bal8_htst_phit.phit_target_high*100)**2))- \\\n",
    "                                                                                    (29881.0*dist_bal8_htst_phit.phit_target_high) + 2891.8 \n",
    "    dist_bal8_htst_phit.loc[dist_bal8_htst_phit.phit_target_high <0.2, 'perm_target_high'] = 0.00000002*(2.71828**(dist_bal8_htst_phit.phit_target_high * 105.56))\n",
    "    dist_bal8_htst_phit.loc[dist_bal8_htst_phit.phit_target_high < 0.16, 'perm_target_high'] = 0.0159*(2.71828**(dist_bal8_htst_phit.phit_target_high * 21.27))\n",
    "\n",
    "    dist_bal8_htst_phit.loc[dist_bal8_htst_phit.phit_target_low >=0.2, 'perm_target_low'] = (7.7925*((dist_bal8_htst_phit.phit_target_low*100)**2))- \\\n",
    "                                                                                    (29881.0*dist_bal8_htst_phit.phit_target_low) + 2891.8\n",
    "    dist_bal8_htst_phit.loc[dist_bal8_htst_phit.phit_target_low <0.2, 'perm_target_low'] = 0.00000002*(2.71828**(dist_bal8_htst_phit.phit_target_low * 105.56))\n",
    "    dist_bal8_htst_phit.loc[dist_bal8_htst_phit.phit_target_low < 0.16, 'perm_target_low'] = 0.0159*(2.71828**(dist_bal8_htst_phit.phit_target_low * 21.27))\n",
    "\n",
    "    dist_bal8_htst_phit['khtst_target'] = dist_bal8_htst_phit['htst_target']*dist_bal8_htst_phit['perm_target']\n",
    "    dist_bal8_htst_phit['khtst_wavg'] = dist_bal8_htst_phit['wavg_htst']*dist_bal8_htst_phit['perm_wavg']\n",
    "    dist_bal8_htst_phit['khtst_target_high'] = dist_bal8_htst_phit['htst_target_high']*dist_bal8_htst_phit['perm_target_high']\n",
    "    dist_bal8_htst_phit['khtst_target_low'] = dist_bal8_htst_phit['htst_target_low']*dist_bal8_htst_phit['perm_target_low']\n",
    "\n",
    "    dist_bal8_khst = dist_bal8_htst_phit[[ 'well', 'well_offset',\n",
    "                                            'khtst_target',  \n",
    "                                            'khtst_target_high', 'khtst_wavg', 'khtst_target_low',\n",
    "                                            'wavg_htst', 'wavg_phit']]\n",
    "\n",
    "    dist_bal8_khst['khtst_pred_qc'] = 'in_range' \n",
    "    dist_bal8_khst.loc[dist_bal8_khst.khtst_wavg <= dist_bal8_khst.khtst_target_low, 'khtst_pred_qc'] = 'under_estimated'\n",
    "    dist_bal8_khst.loc[dist_bal8_khst.khtst_wavg >= dist_bal8_khst.khtst_target_high, 'khtst_pred_qc'] = 'over_estimated'\n",
    "    result_bal8_khtst = dist_bal8_khst.value_counts('khtst_pred_qc', normalize=True)\n",
    "    return dist_bal8_khst, result_bal8_khtst\n",
    "\n",
    "dist_bal8_khtst, result_bal8_khtst = khtst_basedon_phit_htst_offset(dist_bal8_v4_htst, dist_bal8_v4_phit)\n",
    "fig, ax = plt.subplots(1,3, figsize=(20,6))\n",
    "sns.scatterplot(data=dist_bal8_khtst, y='khtst_target', x='khtst_wavg', hue='khtst_pred_qc', ax=ax[0])\n",
    "sns.scatterplot(data=dist_bal8_khtst, y='khtst_target', x='wavg_htst', hue='khtst_pred_qc', ax=ax[1])\n",
    "sns.scatterplot(data=dist_bal8_khtst, y='khtst_target', x='wavg_phit', hue='khtst_pred_qc', ax=ax[2]);"
   ]
  },
  {
   "cell_type": "code",
   "execution_count": null,
   "metadata": {},
   "outputs": [],
   "source": [
    "dist_bal8_khst_v2 = dist_bal8_khtst[['well','khtst_target','khtst_target_high','khtst_wavg','khtst_target_low',\n",
    "                                    'wavg_htst','wavg_phit','khtst_pred_qc']].drop_duplicates().reset_index(drop=True)\n",
    "xy = df_bal8_v4.groupby('well')[['xmean','ymean']].first().reset_index()\n",
    "dist_bal8_khst_v3 = dist_bal8_khst_v2.merge(xy, on='well')\n",
    "plt.subplots(figsize=(12,5))\n",
    "sns.scatterplot(data=dist_bal8_khst_v3, x='xmean', y='ymean', hue='khtst_pred_qc', s=50, ec='black', alpha=0.5)"
   ]
  },
  {
   "cell_type": "code",
   "execution_count": null,
   "metadata": {},
   "outputs": [],
   "source": [
    "dist_bal8_khst_v3['khtst_target_high_%'] = (dist_bal8_khst_v3['khtst_target_high'] - dist_bal8_khst_v3['khtst_target']) / dist_bal8_khst_v3['khtst_target']\n",
    "dist_bal8_khst_v3['khtst_target_low_%'] = (dist_bal8_khst_v3['khtst_target'] - dist_bal8_khst_v3['khtst_target_low']) / dist_bal8_khst_v3['khtst_target']\n",
    "dist_bal8_khst_v3['khtst_target_up25'] = dist_bal8_khst_v3['khtst_target'] + dist_bal8_khst_v3['khtst_target']*0.25\n",
    "dist_bal8_khst_v3['khtst_target_low25'] = dist_bal8_khst_v3['khtst_target'] - dist_bal8_khst_v3['khtst_target']*0.25\n",
    "dist_bal8_khst_v3['khtst_pred_qc_25'] = 'in_range'\n",
    "dist_bal8_khst_v3.loc[dist_bal8_khst_v3['khtst_wavg'] <= dist_bal8_khst_v3['khtst_target_low25'], 'khtst_pred_qc_25'] = 'under_estimated'\n",
    "dist_bal8_khst_v3.loc[dist_bal8_khst_v3['khtst_wavg'] >= dist_bal8_khst_v3['khtst_target_up25'], 'khtst_pred_qc_25'] = 'over_estimated'\n",
    "dist_bal8_khst_v3['khtst_pred_qc_25'].value_counts(normalize=True)\n",
    "sns.kdeplot(data=dist_bal8_khst_v3, x='khtst_target_high_%')\n",
    "sns.kdeplot(data=dist_bal8_khst_v3, x='khtst_target_low_%')\n",
    "plt.grid()"
   ]
  },
  {
   "cell_type": "code",
   "execution_count": null,
   "metadata": {},
   "outputs": [],
   "source": [
    "sns.scatterplot(data=dist_bal8_khst_v3, y='khtst_target', x='khtst_wavg', hue='khtst_pred_qc_25')"
   ]
  }
 ],
 "metadata": {
  "kernelspec": {
   "display_name": "Python 3",
   "language": "python",
   "name": "python3"
  },
  "language_info": {
   "codemirror_mode": {
    "name": "ipython",
    "version": 3
   },
   "file_extension": ".py",
   "mimetype": "text/x-python",
   "name": "python",
   "nbconvert_exporter": "python",
   "pygments_lexer": "ipython3",
   "version": "3.11.4"
  }
 },
 "nbformat": 4,
 "nbformat_minor": 2
}
