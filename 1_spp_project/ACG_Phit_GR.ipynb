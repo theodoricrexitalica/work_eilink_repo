{
 "cells": [
  {
   "cell_type": "code",
   "execution_count": 3,
   "metadata": {},
   "outputs": [],
   "source": [
    "#Import libs \n",
    "import pandas as pd\n",
    "import numpy as np\n",
    "import warnings\n",
    "warnings.filterwarnings('ignore')\n",
    "import matplotlib.pyplot as plt\n",
    "import plotly.graph_objects as go\n",
    "from plotly.subplots import make_subplots\n",
    "import plotly.express as px\n",
    "from tqdm import tqdm\n",
    "import textwrap\n",
    "from statistics import mean\n",
    "from sklearn.ensemble import RandomForestRegressor\n",
    "from sklearn.model_selection import GridSearchCV\n",
    "from sklearn.preprocessing import StandardScaler\n",
    "from sklearn.model_selection import train_test_split\n",
    "from sklearn.metrics import r2_score as r2, mean_absolute_error as mae, mean_squared_error as mse, accuracy_score\n",
    "from sklearn.metrics.pairwise import euclidean_distances\n",
    "import random\n",
    "import mlflow\n",
    "import mlflow.sklearn\n",
    "pd.set_option(\"display.precision\", 3)\n",
    "pd.set_option('display.float_format', lambda x: '%.3f' % x)\n",
    "pd.set_option('display.max_columns', 18)"
   ]
  },
  {
   "cell_type": "markdown",
   "metadata": {},
   "source": [
    "## Loading all essensial data"
   ]
  },
  {
   "cell_type": "code",
   "execution_count": 5,
   "metadata": {},
   "outputs": [],
   "source": [
    "#Loading, distribution wells per Platforms,  and modification of metadata.\n",
    "metadata_init = pd.read_csv('ACG_wells_metadata.csv', sep=',')\n",
    "metadata = metadata_init.copy()\n",
    "metadata = metadata.rename(columns={'X':'X_wellhead', 'Y':'Y_wellhead'})\n",
    "metadata.Status = metadata.Status.str.strip()\n",
    "metadata.Status = metadata.Status.str.lower()\n",
    "metadata.loc[metadata.Status == 'oil', 'Status' ] = 'production oil'\n",
    "metadata.loc[metadata.Status == 'oil producer', 'Status' ] = 'production oil'\n",
    "metadata.loc[metadata.Status == 'production', 'Status' ] = 'production oil'\n",
    "metadata.loc[metadata.Status == 'produiction oil', 'Status' ] = 'production oil'\n",
    "metadata.loc[metadata.Status == 'production_oil', 'Status' ] = 'production oil'\n",
    "metadata.loc[metadata.Status == 'abandoned production oil', 'Status' ] = 'abandoned oil'\n",
    "metadata.loc[metadata.Status == 'abandoned  oil', 'Status' ] = 'abandoned oil'\n",
    "metadata.loc[metadata.Status == 'abandoned oi', 'Status' ] = 'abandoned oil'\n",
    "metadata.loc[metadata.Status == 'injector  - water', 'Status' ] = 'injector - water'\n",
    "metadata.loc[metadata.Status == 'injector water', 'Status' ] = 'injector - water'\n",
    "metadata.loc[metadata.Status == 'injetor  - water', 'Status' ] = 'injector - water'\n",
    "metadata.loc[metadata.Status == 'abandoned injector - water per b', 'Status' ] = 'abandoned injector - water'\n",
    "metadata.loc[metadata.Status == 'plugged and abandoned', 'Status' ] = 'p&a'\n",
    "metadata.loc[metadata.X_wellhead==118.270, 'X_wellhead'] = 526258.84\n",
    "metadata.loc[metadata.Y_wellhead==526261.510, 'Y_wellhead'] = 4435802.01\n",
    "metadata.loc[metadata.well=='C39', 'X_wellhead'] = 526258.840\n",
    "metadata.loc[metadata.well=='C39', 'Y_wellhead'] = 4435802.010\n",
    "metadata.loc[metadata.field=='West Azeri', 'field'] = 'WEST AZERI'\n",
    "metadata.loc[metadata.field=='COP', 'field'] = 'WEST CHIRAG'\n",
    "metadata.loc[metadata.well=='AZERI2', 'field'] = 'WEST AZERI'\n",
    "metadata.loc[metadata.well=='AZERI3', 'field'] = 'WEST AZERI'\n",
    "metadata.loc[metadata.well=='B31', 'field'] = 'CENTRAL AZERI'\n",
    "metadata.loc[metadata.well=='J28_bpQIP', 'field'] = 'WEST CHIRAG'"
   ]
  },
  {
   "cell_type": "code",
   "execution_count": null,
   "metadata": {},
   "outputs": [],
   "source": [
    "#Read data from parquet\n",
    "df_prq = pd.read_parquet('ACG_wells_JOINT_BEST_v6.parquet.gzip')\n",
    "df_prq.rename(columns={'wellName':'well'}, inplace=True)\n",
    "df_prq = df_prq.set_index('well').join(metadata.set_index('well')).reset_index()\n",
    "#Assign any Fluidcode_mod number by variable gross_pay=1 and gross_pay=0 if Fluidcode_mod as NaN\n",
    "df_prq.loc[df_prq.Fluidcode_mod>0, 'gross_pay'] = 1\n",
    "df_prq.loc[df_prq.Fluidcode_mod<=0, 'gross_pay'] = 0\n",
    "df_prq.gross_pay = df_prq.gross_pay.astype('int')"
   ]
  },
  {
   "cell_type": "code",
   "execution_count": null,
   "metadata": {},
   "outputs": [],
   "source": [
    "#Reading df_prq dataset\n",
    "df_prq_gr = df_prq[['well','FORMATION','field','gross_pay','GR_N', 'PHIT','VSH','TST', 'TVD_SCS']]\n",
    "#Put several filters to dataset\n",
    "df_prq_gr8 = df_prq_gr[(df_prq_gr.FORMATION == 'Balakhany VIII sand') & (df_prq_gr.gross_pay == 1) &\n",
    "                      (df_prq_gr.GR_N > 0) & (df_prq_gr.GR_N < 150) & (df_prq_gr.PHIT > 0.13) &\n",
    "                      (df_prq_gr.PHIT < 0.3) & (df_prq_gr.VSH > 0) & (df_prq_gr.VSH < 0.5)]\n",
    "fig = px.scatter(df_prq_gr8, x='VSH', y='PHIT', color='field')\n",
    "fig.update_traces(opacity=0.5)\n",
    "fig.update_layout(title = 'Phit=f(Vsh) Balakhany VIII sand net pay intervals', margin=dict(l=0, r=0, t=40, b=0))\n"
   ]
  },
  {
   "cell_type": "code",
   "execution_count": null,
   "metadata": {},
   "outputs": [],
   "source": [
    "#Display gr/vsh vs phit\n",
    "df_prq_gr8_well = df_prq_gr[(df_prq_gr.FORMATION == 'Balakhany VIII sand') & (df_prq_gr.well == 'G07Z') &\n",
    "                            (df_prq_gr.gross_pay == 1) &\n",
    "                            (df_prq_gr.GR_N > 0) & (df_prq_gr.GR_N < 150) & \n",
    "                            (df_prq_gr.PHIT >= 0.13) & (df_prq_gr.PHIT < 0.3) & \n",
    "                            (df_prq_gr.VSH > 0) & (df_prq_gr.VSH <= 0.5)]\n",
    "fig = px.scatter(df_prq_gr8_well, x='VSH', y='PHIT', color='TVD_SCS',  trendline=\"ols\", width=700, height=400)\n",
    "fig.update_layout(title = 'G07Z Balakhany VIII sand', margin=dict(l=0, r=0, t=40, b=0))\n",
    "fig.show()"
   ]
  },
  {
   "cell_type": "code",
   "execution_count": null,
   "metadata": {},
   "outputs": [],
   "source": [
    "df_phit_vsh8 = df_prq_gr[(df_prq_gr.FORMATION == 'Balakhany VIII sand') &\n",
    "                         (df_prq_gr.gross_pay == 1) &\n",
    "                         (df_prq_gr.PHIT >= 0.13) & (df_prq_gr.PHIT < 0.3) & \n",
    "                         (df_prq_gr.VSH > 0) & (df_prq_gr.VSH <= 0.5)]\n",
    "df_phit_vsh10 = df_prq_gr[(df_prq_gr.FORMATION == 'Balakhany X sand') &\n",
    "                         (df_prq_gr.gross_pay == 1) &\n",
    "                         (df_prq_gr.PHIT >= 0.13) & (df_prq_gr.PHIT < 0.3) & \n",
    "                         (df_prq_gr.VSH > 0) & (df_prq_gr.VSH <= 0.5)]\n",
    "df_phit_vsh10"
   ]
  },
  {
   "cell_type": "code",
   "execution_count": null,
   "metadata": {},
   "outputs": [],
   "source": [
    "from sklearn.linear_model import LinearRegression\n",
    "data = df_prq_gr8_well\n",
    "X = df_prq_gr8_well.iloc[:]['VSH'].values.reshape(-1, 1)\n",
    "Y = df_prq_gr8_well.iloc[:]['PHIT'].values.reshape(-1, 1) # -1 means that calculate the dimension of rows, but have 1 column\n",
    "linear_regressor = LinearRegression()\n",
    "linear_regressor.fit(X, Y)\n",
    "Y_pred = linear_regressor.predict(X)\n",
    "plt.scatter(X, Y)\n",
    "plt.plot(X, Y_pred, color='red')\n",
    "plt.show()"
   ]
  },
  {
   "cell_type": "code",
   "execution_count": 209,
   "metadata": {},
   "outputs": [],
   "source": [
    "data_list8 = []\n",
    "for wellname in df_phit_vsh8.well.unique()[:]:\n",
    "    data = df_phit_vsh8[df_phit_vsh8.well == wellname]\n",
    "    X = data.iloc[:]['VSH'].values.reshape(-1, 1)\n",
    "    Y = data.iloc[:]['PHIT'].values.reshape(-1, 1)\n",
    "    linear_regressor = LinearRegression()\n",
    "    linear_regressor.fit(X, Y)\n",
    "    data_list8.append((wellname, \n",
    "                      round(linear_regressor.coef_[0][0],3), \n",
    "                      round(linear_regressor.intercept_[0],3), \n",
    "                      round(linear_regressor.score(X, Y),2), \n",
    "                      X.shape[0]))\n",
    "df_linreg_phit_vsh8 = pd.DataFrame(data_list8, columns=['well','coef','intercept','score','shape'])"
   ]
  },
  {
   "cell_type": "code",
   "execution_count": 210,
   "metadata": {},
   "outputs": [],
   "source": [
    "data_list10 = []\n",
    "for wellname in df_phit_vsh10.well.unique()[:]:\n",
    "    data = df_phit_vsh10[df_phit_vsh10.well == wellname]\n",
    "    X = data.iloc[:]['VSH'].values.reshape(-1, 1)\n",
    "    Y = data.iloc[:]['PHIT'].values.reshape(-1, 1)\n",
    "    linear_regressor = LinearRegression()\n",
    "    linear_regressor.fit(X, Y)\n",
    "    data_list10.append((wellname, \n",
    "                      round(linear_regressor.coef_[0][0],3), \n",
    "                      round(linear_regressor.intercept_[0],3), \n",
    "                      round(linear_regressor.score(X, Y),2), \n",
    "                      X.shape[0]))\n",
    "df_linreg_phit_vsh10 = pd.DataFrame(data_list10, columns=['well','coef','intercept','score','shape'])"
   ]
  },
  {
   "cell_type": "code",
   "execution_count": null,
   "metadata": {},
   "outputs": [],
   "source": [
    "df_linreg_phit_vsh10.head(3)"
   ]
  },
  {
   "cell_type": "code",
   "execution_count": 212,
   "metadata": {},
   "outputs": [],
   "source": [
    "# Prepating dataset with whole data\n",
    "df_xy = df_prq[['well', 'FORMATION', 'X', 'Y', 'field']]\n",
    "df_xy_fm = df_xy.groupby(['well','FORMATION'])[['X', 'Y', 'field']].apply(lambda x: x.iloc[0]).reset_index()\n",
    "# Assigning numerical values insted text names\n",
    "df_xy_fm.loc[df_xy_fm.field == 'DDGG', 'field_num'] = 1\n",
    "df_xy_fm.loc[df_xy_fm.field == 'DWG', 'field_num'] = 2\n",
    "df_xy_fm.loc[df_xy_fm.field == 'WEST CHIRAG', 'field_num'] = 3\n",
    "df_xy_fm.loc[df_xy_fm.field == 'CHIRAG', 'field_num'] = 4\n",
    "df_xy_fm.loc[df_xy_fm.field == 'WEST AZERI', 'field_num'] = 5\n",
    "df_xy_fm.loc[df_xy_fm.field == 'CENTRAL AZERI', 'field_num'] = 6\n",
    "df_xy_fm.loc[df_xy_fm.field == 'EAST AZERI', 'field_num'] = 7\n",
    "# Separation data by formation\n",
    "df_xy_fm_bal8 = df_xy_fm[df_xy_fm.FORMATION == 'Balakhany VIII sand']\n",
    "df_xy_fm_bal10 = df_xy_fm[df_xy_fm.FORMATION == 'Balakhany X sand']\n",
    "# Joing spatial info to linreg dataframe\n",
    "df_linreg_phit_vsh8_xy = df_linreg_phit_vsh8.set_index('well').join(df_xy_fm_bal8.set_index('well')).reset_index()\n",
    "df_linreg_phit_vsh10_xy = df_linreg_phit_vsh10.set_index('well').join(df_xy_fm_bal10.set_index('well')).reset_index()"
   ]
  },
  {
   "cell_type": "code",
   "execution_count": null,
   "metadata": {},
   "outputs": [],
   "source": [
    "fig = go.Figure()\n",
    "fig.add_trace(go.Histogram(x=df_linreg_phit_vsh8_xy[df_linreg_phit_vsh8_xy.field_num <=4].score, \n",
    "                           xbins=dict(start=0, end=1, size=0.05), marker_color='#0043fa', name='Chirag'))\n",
    "fig.add_trace(go.Histogram(x=df_linreg_phit_vsh8_xy[df_linreg_phit_vsh8_xy.field_num > 4].score, \n",
    "                           xbins=dict(start=0, end=1, size=0.05), marker_color='#c9bc02', name='Azeri'))\n",
    "fig.update_traces(opacity=0.75)\n",
    "fig.update_layout(title_text='Linear Regression Phit=f(Vsh) R2 Balakhany VIII sand',xaxis_title_text='R2', yaxis_title_text='Count',\n",
    "                  autosize=True, width=1000, height=300, margin=dict(l=10,r=10,b=10,t=40))\n",
    "fig.update_layout(barmode='overlay')\n",
    "fig.update_xaxes(nticks=40, showgrid=True)"
   ]
  },
  {
   "cell_type": "code",
   "execution_count": null,
   "metadata": {},
   "outputs": [],
   "source": [
    "fig = go.Figure()\n",
    "fig.add_trace(go.Histogram(x=df_linreg_phit_vsh10_xy[df_linreg_phit_vsh8_xy.field_num <=4].score, \n",
    "                           xbins=dict(start=0, end=1, size=0.05), marker_color='#00c2a5', name='Chirag'))\n",
    "fig.add_trace(go.Histogram(x=df_linreg_phit_vsh10_xy[df_linreg_phit_vsh8_xy.field_num > 4].score, \n",
    "                           xbins=dict(start=0, end=1, size=0.05), marker_color='#fa8e00', name='Azeri'))\n",
    "fig.update_traces(opacity=0.75)\n",
    "fig.update_layout(title_text='Linear Regression Phit=f(Vsh) R2 Balakhany X sand',xaxis_title_text='R2', yaxis_title_text='Count',\n",
    "                  autosize=True, width=1000, height=300, margin=dict(l=10,r=10,b=10,t=40))\n",
    "fig.update_layout(barmode='overlay')\n",
    "fig.update_xaxes(nticks=40, showgrid=True)"
   ]
  },
  {
   "cell_type": "code",
   "execution_count": null,
   "metadata": {},
   "outputs": [],
   "source": [
    "# Balakhany VIII sand\n",
    "fig = go.Figure()\n",
    "field_avg_coord = metadata.groupby('field')[['X_wellhead','Y_wellhead']].mean().reset_index()\n",
    "df_linreg_phit_vsh8_xy_high = df_linreg_phit_vsh8_xy[df_linreg_phit_vsh8_xy.score>=0.6]\n",
    "fig.add_trace(go.Scatter(x=df_linreg_phit_vsh8_xy.X, y=df_linreg_phit_vsh8_xy.Y, customdata = df_linreg_phit_vsh8_xy[['well', 'score','field']],\n",
    "                         marker=dict(color=df_linreg_phit_vsh8_xy.score, size=12, \n",
    "                                     line=dict(color='rgb(47, 57, 61)', width=0.5), colorscale='Viridis', showscale=True),\n",
    "                         mode='markers', name='R2 linreg Phit=f(Vsh)',\n",
    "                         hovertemplate=\"\".join([\"well:%{customdata[0]}, score:%{customdata[1]}<extra></extra>\"])))\n",
    "fig.add_trace(go.Scatter(x=df_linreg_phit_vsh8_xy_high.X, \n",
    "                         y=df_linreg_phit_vsh8_xy_high.Y, \n",
    "                         customdata = df_linreg_phit_vsh8_xy_high[['well', 'score']],\n",
    "                         marker=dict(color='rgba(147,112,219,0.1)', size=12, \n",
    "                                     line=dict(color='#fa0000', width=1.5)),\n",
    "                         mode='markers', name='R2>=0.6 linreg Phit=f(Vsh)',\n",
    "                         hovertemplate=\"\".join([\"well:%{customdata[0]}, score:%{customdata[1]}<extra></extra>\"])))\n",
    "fig.add_trace(go.Scatter(x=field_avg_coord.X_wellhead, y=field_avg_coord.Y_wellhead, customdata = field_avg_coord[['field']],\n",
    "                         text=field_avg_coord['field'], textposition=\"middle right\",\n",
    "                         marker=dict(color='rgb(0, 0,0)', size=12),\n",
    "                         mode='markers+text', name='Platforms', \n",
    "                         marker_symbol='square', hovertemplate=\"\".join([\"%{customdata[0]}<extra></extra>\"])))\n",
    "\n",
    "fig.update_layout(title_text='Phit=f(Vsh) R2 Balakhany VIII sand, color=f(R2)',\n",
    "                  autosize=True, width=1200, height=700, margin=dict(l=10,r=10,b=10,t=40))\n",
    "fig.update_layout(legend=dict( yanchor=\"top\", y=1, xanchor=\"right\", x=1, bgcolor='rgba(255,255,255,1)', bordercolor='Black',borderwidth=1))\n",
    "fig.show()"
   ]
  },
  {
   "cell_type": "code",
   "execution_count": null,
   "metadata": {},
   "outputs": [],
   "source": [
    "# Balakhany X sand \n",
    "fig = go.Figure()\n",
    "field_avg_coord = metadata.groupby('field')[['X_wellhead','Y_wellhead']].mean().reset_index()\n",
    "df_linreg_phit_vsh10_xy_high = df_linreg_phit_vsh10_xy[df_linreg_phit_vsh10_xy.score>=0.6]\n",
    "fig.add_trace(go.Scatter(x=df_linreg_phit_vsh10_xy.X, y=df_linreg_phit_vsh10_xy.Y, customdata = df_linreg_phit_vsh10_xy[['well', 'score','field']],\n",
    "                         marker=dict(color=df_linreg_phit_vsh10_xy.score, size=12, \n",
    "                                     line=dict(color='rgb(47, 57, 61)', width=0.5), \n",
    "                                     colorscale='Viridis', showscale=True),\n",
    "                         mode='markers', name='R2 linreg Phit=f(Vsh)',\n",
    "                         hovertemplate=\"\".join([\"well:%{customdata[0]}, score:%{customdata[1]}<extra></extra>\"])))\n",
    "fig.add_trace(go.Scatter(x=df_linreg_phit_vsh10_xy_high.X, \n",
    "                         y=df_linreg_phit_vsh10_xy_high.Y, \n",
    "                         customdata = df_linreg_phit_vsh10_xy[['well', 'score']],\n",
    "                         marker=dict(color='rgba(147,112,219,0.1)', size=12, \n",
    "                                     line=dict(color='#fa0000', width=1.5)),\n",
    "                         mode='markers', name='R2>=0.6 linreg Phit=f(Vsh)',\n",
    "                         hovertemplate=\"\".join([\"well:%{customdata[0]}, score:%{customdata[1]}<extra></extra>\"])))\n",
    "fig.add_trace(go.Scatter(x=field_avg_coord.X_wellhead, y=field_avg_coord.Y_wellhead, customdata = field_avg_coord[['field']],\n",
    "                         text=field_avg_coord['field'], textposition=\"middle right\",\n",
    "                         marker=dict(color='rgb(0, 0,0)', size=12),\n",
    "                         mode='markers+text', name='Platforms', \n",
    "                         marker_symbol='square', hovertemplate=\"\".join([\"%{customdata[0]}<extra></extra>\"])))\n",
    "fig.update_traces(opacity=0.9)\n",
    "fig.update_layout(title_text='Phit=f(Vsh) R2 Balakhany X sand, color=f(R2)',\n",
    "                  autosize=True, width=1200, height=700, margin=dict(l=10,r=10,b=10,t=40))\n",
    "fig.update_layout(legend=dict( yanchor=\"top\", y=1, xanchor=\"right\", x=1, bgcolor='rgba(255,255,255,1)', bordercolor='Black',borderwidth=1))\n",
    "fig.show()"
   ]
  }
 ],
 "metadata": {
  "kernelspec": {
   "display_name": "Python 3",
   "language": "python",
   "name": "python3"
  },
  "language_info": {
   "codemirror_mode": {
    "name": "ipython",
    "version": 3
   },
   "file_extension": ".py",
   "mimetype": "text/x-python",
   "name": "python",
   "nbconvert_exporter": "python",
   "pygments_lexer": "ipython3",
   "version": "3.11.4"
  },
  "orig_nbformat": 4
 },
 "nbformat": 4,
 "nbformat_minor": 2
}
