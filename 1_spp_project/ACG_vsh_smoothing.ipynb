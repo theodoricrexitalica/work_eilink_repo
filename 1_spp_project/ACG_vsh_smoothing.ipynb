{
 "cells": [
  {
   "cell_type": "code",
   "execution_count": 1,
   "metadata": {},
   "outputs": [],
   "source": [
    "import warnings\n",
    "warnings.filterwarnings('ignore')\n",
    "\n",
    "import numpy as np\n",
    "import pandas as pd\n",
    "import matplotlib.pyplot as plt\n",
    "import seaborn as sns\n",
    "import plotly.graph_objects as go\n",
    "from tqdm import tqdm\n",
    "\n",
    "from scipy.stats import norm\n",
    "from sklearn.cluster import DBSCAN\n",
    "from sklearn.preprocessing import StandardScaler\n",
    "\n",
    "pd.options.display.precision = 3\n",
    "pd.options.display.float_format = lambda x: '%.5f' % x\n",
    "pd.options.display.max_columns = 15\n",
    "pd.options.display.max_rows = 6"
   ]
  },
  {
   "cell_type": "code",
   "execution_count": null,
   "metadata": {},
   "outputs": [],
   "source": [
    "df8 = pd.read_csv(r'C:\\jupyter\\SPP\\inputoutput\\general_logs\\logs8_ntd_v5.csv')\n",
    "df8.columns"
   ]
  },
  {
   "cell_type": "code",
   "execution_count": 92,
   "metadata": {},
   "outputs": [],
   "source": [
    "well_list = ['B14Z', 'B16Z', 'B19', 'B20', 'B21','B22Z','C03Z', 'C10', 'C11', 'C21', 'C32', 'D12Z', 'D17', 'D20']\n",
    "percentage = 0.2"
   ]
  },
  {
   "cell_type": "code",
   "execution_count": null,
   "metadata": {},
   "outputs": [],
   "source": [
    "import matplotlib.ticker as ticker\n",
    "def smooth_vsh_plot(df, wellname):                           \n",
    "    fig, ax = plt.subplots(1, 2, figsize=(5, 10))\n",
    "    data = df[df.well == wellname]\n",
    "    vsh = data.vsh\n",
    "    vsh_smooth = data.vsh_smooth\n",
    "    tst = data.tst\n",
    "    net = data.net_orig\n",
    "    net_smooth = data.net_smooth\n",
    "    ax1 = ax[0]\n",
    "    ax1.plot(vsh, tst, label='VSH', color='#34bb22')\n",
    "    ax1.invert_yaxis()\n",
    "    ax1.set_xlim(-0.1, 1.5)\n",
    "    ax1.set_yticklabels(ax1.get_yticklabels(), rotation=90, va='center') \n",
    "    ax1.grid()\n",
    "    ax1.set_title('Orig VSH')\n",
    "    step_size = 10  # Define your step size here\n",
    "    # ax1.yaxis.set_major_locator(ticker.MultipleLocator(step_size))\n",
    "    ax11 = ax1.twiny()\n",
    "    ax11.step(net, tst, label='NET', color='#d5d816', lw=0.5, alpha=0.5)\n",
    "    ax11.set_xlim(0, 10)\n",
    "    ax11.invert_xaxis()\n",
    "    ax11.fill_betweenx(tst, net, 0, color='#d5d816', alpha=0.5)\n",
    "    ax11.set_xticklabels([])\n",
    "    ax11.grid()\n",
    "\n",
    "    ax2 = ax[1]\n",
    "    ax2.plot(vsh_smooth, tst, label='NET', color='#117204')\n",
    "    ax2.set_xlim(-0.1, 1.5)\n",
    "    ax2.grid()\n",
    "    ax2.set_title('Smoothed VSH')\n",
    "    ax2.set_yticklabels(ax2.get_yticklabels(), rotation=90, va='center')\n",
    "    step_size = 10  # Define your step size here\n",
    "    # ax2.yaxis.set_major_locator(ticker.MultipleLocator(step_size)) \n",
    "    ax22 = ax2.twiny()\n",
    "    ax22.step(net_smooth, tst, label='NET', color='#d5d816', lw=1, alpha=0.5)\n",
    "    ax22.set_xlim(0, 10)\n",
    "    ax22.invert_xaxis()\n",
    "    ax22.invert_yaxis()\n",
    "    ax22.fill_betweenx(tst, net_smooth, 0, color='#d5d816', alpha=0.5)\n",
    "    ax22.set_xticklabels([])\n",
    "    fig.suptitle(wellname, y=0.93);  \n",
    "\n",
    "smooth_vsh_plot(df8, 'C21')\n",
    "smooth_vsh_plot(df8, 'B14Z')\n",
    "smooth_vsh_plot(df8, 'B20')"
   ]
  }
 ],
 "metadata": {
  "kernelspec": {
   "display_name": "Python 3",
   "language": "python",
   "name": "python3"
  },
  "language_info": {
   "codemirror_mode": {
    "name": "ipython",
    "version": 3
   },
   "file_extension": ".py",
   "mimetype": "text/x-python",
   "name": "python",
   "nbconvert_exporter": "python",
   "pygments_lexer": "ipython3",
   "version": "3.11.4"
  }
 },
 "nbformat": 4,
 "nbformat_minor": 2
}
