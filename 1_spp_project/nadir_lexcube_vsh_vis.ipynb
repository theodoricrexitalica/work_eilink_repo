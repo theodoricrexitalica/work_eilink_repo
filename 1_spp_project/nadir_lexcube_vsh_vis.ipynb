{
 "cells": [
  {
   "cell_type": "markdown",
   "metadata": {},
   "source": [
    "# Libs"
   ]
  },
  {
   "cell_type": "code",
   "execution_count": 1,
   "metadata": {},
   "outputs": [],
   "source": [
    "import xarray as xr\n",
    "import lexcube\n",
    "import segyio\n",
    "import numpy as np\n",
    "import warnings\n",
    "import matplotlib.pyplot as plt\n",
    "import pandas as pd\n",
    "import seaborn as sns\n",
    "import pathlib\n",
    "from segysak.segy import segy_loader, well_known_byte_locs, segy_writer, segy_header_scrape\n",
    "from tqdm import tqdm\n",
    "\n",
    "warnings.filterwarnings('ignore')"
   ]
  },
  {
   "cell_type": "markdown",
   "metadata": {},
   "source": [
    "# Data uploading"
   ]
  },
  {
   "cell_type": "code",
   "execution_count": 2,
   "metadata": {},
   "outputs": [],
   "source": [
    "df8 = pd.read_csv(r\"C:\\jupyter\\SPP\\inputoutput\\general_logs\\logs8_ntd_v5.csv\")\n",
    "df8_xy = df8.groupby('well')[['xmean', 'ymean']].first().reset_index()\n",
    "# df8_xy"
   ]
  },
  {
   "cell_type": "code",
   "execution_count": 3,
   "metadata": {},
   "outputs": [],
   "source": [
    "# file_path = pathlib.Path(r\"C:\\Petrel\\gr_cube\\GR_cube_Bal8.sgy\")\n",
    "# b8_crop = segyio.open(file_path)\n",
    "# df_cube = segy_header_scrape(file_path, chunk=10000)\n",
    "# df_cube.to_parquet(r\"C:\\Petrel\\gr_cube\\GR_cube_Bal8.gzip\")"
   ]
  },
  {
   "cell_type": "code",
   "execution_count": null,
   "metadata": {},
   "outputs": [],
   "source": [
    "b8_crop = segyio.open(r\"C:\\Petrel\\gr_cube\\GR_cube_Bal8.sgy\")\n",
    "b8_crop.ilines, b8_crop.xlines, b8_crop.samples, len(b8_crop.ilines), len(b8_crop.xlines), len(b8_crop.samples)"
   ]
  },
  {
   "cell_type": "code",
   "execution_count": null,
   "metadata": {},
   "outputs": [],
   "source": [
    "v = segyio.open(r\"C:\\Petrel\\gr_cube\\Vsh_clavier_HDOBN_T_exact_value_renorm.sgy\")\n",
    "v.ilines, v.xlines, v.samples, len(v.ilines), len(v.xlines), len(v.samples)"
   ]
  },
  {
   "cell_type": "code",
   "execution_count": 6,
   "metadata": {},
   "outputs": [],
   "source": [
    "df_cube_crop = pd.read_parquet(r\"C:\\Petrel\\gr_cube\\GR_cube_Bal8.gzip\")\n",
    "df_xy_lines_crop = df_cube_crop[['CDP_X', 'CDP_Y', 'INLINE_3D', 'CROSSLINE_3D']]\n",
    "df_xy_lines_crop.columns = df_xy_lines_crop.columns.str.lower()\n"
   ]
  },
  {
   "cell_type": "code",
   "execution_count": 7,
   "metadata": {},
   "outputs": [],
   "source": [
    "df_cube = pd.read_parquet(r\"C:\\Petrel\\gr_cube\\GR_cube_HDOBN_Z.gzip\")\n",
    "df_xy_lines = df_cube[['CDP_X', 'CDP_Y', 'INLINE_3D', 'CROSSLINE_3D']]\n",
    "df_xy_lines.columns = df_xy_lines.columns.str.lower()"
   ]
  },
  {
   "cell_type": "markdown",
   "metadata": {},
   "source": [
    "# Well selection"
   ]
  },
  {
   "cell_type": "markdown",
   "metadata": {},
   "source": [
    "## crop"
   ]
  },
  {
   "cell_type": "code",
   "execution_count": null,
   "metadata": {},
   "outputs": [],
   "source": [
    "b02 = df8[df8['well'] == 'B02']\n",
    "df_xy_lines_v2 = df_xy_lines_crop[((df_xy_lines_crop.inline_3d >=3900) & (df_xy_lines_crop.inline_3d <= 6900)) &\n",
    "                                   ((df_xy_lines_crop.inline_3d >= 3900) & (df_xy_lines_crop.inline_3d <= 6900)) ]\n",
    "df_xy_lines_v2['cdp_x'] = df_xy_lines_v2['cdp_x']/100\n",
    "df_xy_lines_v2['cdp_y'] = df_xy_lines_v2['cdp_y']/100\n",
    "margin = 100\n",
    "well_xmax = b02['xmean']+margin\n",
    "well_xmin = b02['xmean']-margin\n",
    "well_ymax = b02['ymean']+margin\n",
    "well_ymin = b02['ymean']-margin\n",
    "plt.scatter(b02['xmean'], b02['ymean'], c='r')\n",
    "plt.scatter(well_xmax, well_ymax, c='g')\n",
    "plt.scatter(well_xmin, well_ymin, c='b')\n",
    "plt.scatter(well_xmax, well_ymin, c='y')\n",
    "plt.scatter(well_xmin, well_ymax, c='orange')\n",
    "df_xy_lines_v3 = df_xy_lines_v2[((df_xy_lines_v2['cdp_x'] > well_xmin.values[0]) & (df_xy_lines_v2['cdp_x'] < well_xmax.values[0])) & \n",
    "                                ((df_xy_lines_v2['cdp_y'] > well_ymin.values[0]) & (df_xy_lines_v2['cdp_y'] < well_ymax.values[0]))]\n",
    "in_max, xn_max, in_min, xn_min = df_xy_lines_v3.inline_3d.max(), df_xy_lines_v3.crossline_3d.max(), df_xy_lines_v3.inline_3d.min(), df_xy_lines_v3.crossline_3d.min()\n",
    "plt.scatter(df_xy_lines_v3['cdp_x'], df_xy_lines_v3['cdp_y'], c='gray', s=1)"
   ]
  },
  {
   "cell_type": "code",
   "execution_count": null,
   "metadata": {},
   "outputs": [],
   "source": [
    "df_inline_lst = []\n",
    "for i in df_xy_lines_crop.inline_3d.unique()[::50]:\n",
    "    data = df_xy_lines_crop[df_xy_lines_crop.inline_3d == i]\n",
    "    df_inline_lst.append(data)\n",
    "df_inline = pd.concat(df_inline_lst)\n",
    "df_inline = df_inline[(df_inline.inline_3d >=3900) & (df_inline.inline_3d <= 6900)]\n",
    "\n",
    "df_xline_lst = []\n",
    "for i in df_xy_lines_crop.crossline_3d.unique()[::50]:\n",
    "    data = df_xy_lines_crop[df_xy_lines_crop.crossline_3d == i]\n",
    "    df_xline_lst.append(data)\n",
    "df_xline = pd.concat(df_xline_lst)\n",
    "df_xline = df_xline[(df_xline.inline_3d >= 3900) & (df_xline.inline_3d <= 6900)]\n",
    "\n",
    "def numbers_of_inlines(df_inline):\n",
    "    df_lst = []\n",
    "    for i in df_inline.inline_3d.unique():\n",
    "        text_pos = df_inline[df_inline.inline_3d == i].iloc[-1].values[:2]\n",
    "        text = df_inline[df_inline.inline_3d == i].iloc[-1].values[2]\n",
    "        df = pd.DataFrame({'x_txt':text_pos[0]/100, 'y_txt':text_pos[1]/100, 'inline_n':int(text)}, index=[0])\n",
    "        df_lst.append(df)\n",
    "    df_inline_txt = pd.concat(df_lst).reset_index(drop=True)\n",
    "    return df_inline_txt\n",
    "def numbers_of_xlines(df_xline):\n",
    "    df_lst = []\n",
    "    for i in df_xline.crossline_3d.unique():\n",
    "        text_pos = df_xline[df_xline.crossline_3d == i].iloc[-1].values[:2]\n",
    "        text = df_xline[df_xline.crossline_3d == i].iloc[-1].values[3]\n",
    "        df = pd.DataFrame({'x_txt':text_pos[0]/100, 'y_txt':text_pos[1]/100, 'xline_n':int(text)}, index=[0])\n",
    "        df_lst.append(df)\n",
    "    df_xline_txt = pd.concat(df_lst).reset_index(drop=True)\n",
    "    return df_xline_txt\n",
    "\n",
    "df_inline_txt = numbers_of_inlines(df_inline)\n",
    "df_xline_txt = numbers_of_xlines(df_xline)\n",
    "\n",
    "plt.figure(figsize=(15, 7))\n",
    "plt.scatter(df_inline.cdp_x/100, df_inline.cdp_y/100, s=1)\n",
    "plt.scatter(df_xline.cdp_x/100, df_xline.cdp_y/100, s=1)\n",
    "plt.scatter(df8_xy.xmean, df8_xy.ymean, s=15, c='g')\n",
    "plt.scatter(b02.xmean, b02.ymean, s=30, c='purple')\n",
    "plt.legend(['inline', 'crossline', 'well'])\n",
    "for i, row in df_inline_txt.iterrows():\n",
    "    plt.text(row.x_txt, row.y_txt, int(row.inline_n), fontsize=6, ha='left')\n",
    "for i, row in df_xline_txt.iterrows():\n",
    "    plt.text(row.x_txt, row.y_txt, int(row.xline_n), fontsize=8, ha='left')"
   ]
  },
  {
   "cell_type": "code",
   "execution_count": null,
   "metadata": {},
   "outputs": [],
   "source": [
    "b02.columns\n",
    "tvd_max = round(b02['tvd_scs'].max(),0)\n",
    "tvd_min = round(b02['tvd_scs'].min(),0)\n",
    "tvd_max, tvd_min\n",
    "\n",
    "tvd_max_idx = np.where(b8_crop.samples.round(0) == tvd_max)[0][0]\n",
    "tvd_min_idx = np.where(b8_crop.samples.round(0) == tvd_min)[0][0]\n",
    "print(in_max, xn_max, in_min, xn_min, tvd_min_idx,  tvd_max_idx)"
   ]
  },
  {
   "cell_type": "code",
   "execution_count": null,
   "metadata": {},
   "outputs": [],
   "source": [
    "b8_crop.ilines, b8_crop.xlines, b8_crop.samples, len(b8_crop.ilines), len(b8_crop.xlines), len(b8_crop.samples)"
   ]
  },
  {
   "cell_type": "code",
   "execution_count": null,
   "metadata": {},
   "outputs": [],
   "source": [
    "cc = 0\n",
    "for idx, row in df_xy_lines_crop[df_xy_lines_crop.inline_3d == in_max].iterrows():\n",
    "    cc +=1\n",
    "    if row['crossline_3d'] == 2188:\n",
    "        print(idx,cc)\n",
    "        break"
   ]
  },
  {
   "cell_type": "code",
   "execution_count": null,
   "metadata": {},
   "outputs": [],
   "source": [
    "fig, ax = plt.subplots(1,2, figsize=(15,5))\n",
    "test = b8_crop.iline[5096][789][tvd_min_idx-60:tvd_max_idx-150]\n",
    "indices = np.arange(test.shape[0])\n",
    "ax[0].plot(test, indices)\n",
    "ax[0].invert_yaxis()\n",
    "\n",
    "test2 = df8[df8['well'] == 'B02']\n",
    "ax[1].plot(test2['gr_n'], test2['tvd_scs'])\n",
    "ax[1].invert_yaxis()"
   ]
  },
  {
   "cell_type": "markdown",
   "metadata": {},
   "source": [
    "## base"
   ]
  },
  {
   "cell_type": "code",
   "execution_count": null,
   "metadata": {},
   "outputs": [],
   "source": [
    "b02 = df8[df8['well'] == 'B02']\n",
    "df_xy_lines_v2 = df_xy_lines[((df_xy_lines.inline_3d >=3900) & (df_xy_lines.inline_3d <= 6900)) & ((df_xy_lines.inline_3d >= 3900) & (df_xy_lines.inline_3d <= 6900)) ]\n",
    "df_xy_lines_v2['cdp_x'] = df_xy_lines_v2['cdp_x']/100\n",
    "df_xy_lines_v2['cdp_y'] = df_xy_lines_v2['cdp_y']/100\n",
    "margin = 100\n",
    "well_xmax = b02['xmean']+margin\n",
    "well_xmin = b02['xmean']-margin\n",
    "well_ymax = b02['ymean']+margin\n",
    "well_ymin = b02['ymean']-margin\n",
    "plt.scatter(b02['xmean'], b02['ymean'], c='r')\n",
    "plt.scatter(well_xmax, well_ymax, c='g')\n",
    "plt.scatter(well_xmin, well_ymin, c='b')\n",
    "plt.scatter(well_xmax, well_ymin, c='y')\n",
    "plt.scatter(well_xmin, well_ymax, c='orange')\n",
    "df_xy_lines_v3 = df_xy_lines_v2[((df_xy_lines_v2['cdp_x'] > well_xmin.values[0]) & (df_xy_lines_v2['cdp_x'] < well_xmax.values[0])) & \n",
    "                                ((df_xy_lines_v2['cdp_y'] > well_ymin.values[0]) & (df_xy_lines_v2['cdp_y'] < well_ymax.values[0]))]\n",
    "in_max, xn_max, in_min, xn_min = df_xy_lines_v3.inline_3d.max(), df_xy_lines_v3.crossline_3d.max(), df_xy_lines_v3.inline_3d.min(), df_xy_lines_v3.crossline_3d.min()\n",
    "plt.scatter(df_xy_lines_v3['cdp_x'], df_xy_lines_v3['cdp_y'], c='gray', s=1)"
   ]
  },
  {
   "cell_type": "code",
   "execution_count": null,
   "metadata": {},
   "outputs": [],
   "source": [
    "b02.columns\n",
    "tvd_max = round(b02['tvd_scs'].max(),0)\n",
    "tvd_min = round(b02['tvd_scs'].min(),0)\n",
    "tvd_max, tvd_min\n",
    "\n",
    "tvd_max_idx = np.where(v.samples == tvd_max)[0][0]\n",
    "tvd_min_idx = np.where(v.samples == tvd_min)[0][0]\n",
    "print(tvd_max_idx, tvd_min_idx)"
   ]
  },
  {
   "cell_type": "code",
   "execution_count": null,
   "metadata": {},
   "outputs": [],
   "source": [
    "df_xy_lines_v2 = df_xy_lines[((df_xy_lines.inline_3d >=3900) & (df_xy_lines.inline_3d <= 6900)) & ((df_xy_lines.inline_3d >= 3900) & (df_xy_lines.inline_3d <= 6900)) ]\n",
    "df_xy_lines_v2['cdp_x'] = df_xy_lines_v2['cdp_x']/100\n",
    "df_xy_lines_v2['cdp_y'] = df_xy_lines_v2['cdp_y']/100\n",
    "plt.scatter(df_xy_lines_v2.cdp_x, df_xy_lines_v2.cdp_y, s=1)\n",
    "plt.scatter(b02.xmean, b02.ymean, s=10)"
   ]
  },
  {
   "cell_type": "code",
   "execution_count": null,
   "metadata": {},
   "outputs": [],
   "source": [
    "df_inline_lst = []\n",
    "for i in df_xy_lines.inline_3d.unique()[::50]:\n",
    "    data = df_xy_lines[df_xy_lines.inline_3d == i]\n",
    "    df_inline_lst.append(data)\n",
    "df_inline = pd.concat(df_inline_lst)\n",
    "df_inline = df_inline[(df_inline.inline_3d >=3900) & (df_inline.inline_3d <= 6900)]\n",
    "\n",
    "df_xline_lst = []\n",
    "for i in df_xy_lines.crossline_3d.unique()[::50]:\n",
    "    data = df_xy_lines[df_xy_lines.crossline_3d == i]\n",
    "    df_xline_lst.append(data)\n",
    "df_xline = pd.concat(df_xline_lst)\n",
    "df_xline = df_xline[(df_xline.inline_3d >= 3900) & (df_xline.inline_3d <= 6900)]\n",
    "\n",
    "def numbers_of_inlines(df_inline):\n",
    "    df_lst = []\n",
    "    for i in df_inline.inline_3d.unique():\n",
    "        text_pos = df_inline[df_inline.inline_3d == i].iloc[-1].values[:2]\n",
    "        text = df_inline[df_inline.inline_3d == i].iloc[-1].values[2]\n",
    "        df = pd.DataFrame({'x_txt':text_pos[0]/100, 'y_txt':text_pos[1]/100, 'inline_n':int(text)}, index=[0])\n",
    "        df_lst.append(df)\n",
    "    df_inline_txt = pd.concat(df_lst).reset_index(drop=True)\n",
    "    return df_inline_txt\n",
    "def numbers_of_xlines(df_xline):\n",
    "    df_lst = []\n",
    "    for i in df_xline.crossline_3d.unique():\n",
    "        text_pos = df_xline[df_xline.crossline_3d == i].iloc[-1].values[:2]\n",
    "        text = df_xline[df_xline.crossline_3d == i].iloc[-1].values[3]\n",
    "        df = pd.DataFrame({'x_txt':text_pos[0]/100, 'y_txt':text_pos[1]/100, 'xline_n':int(text)}, index=[0])\n",
    "        df_lst.append(df)\n",
    "    df_xline_txt = pd.concat(df_lst).reset_index(drop=True)\n",
    "    return df_xline_txt\n",
    "\n",
    "df_inline_txt = numbers_of_inlines(df_inline)\n",
    "df_xline_txt = numbers_of_xlines(df_xline)\n",
    "\n",
    "plt.figure(figsize=(15, 7))\n",
    "plt.scatter(df_inline.cdp_x/100, df_inline.cdp_y/100, s=1)\n",
    "plt.scatter(df_xline.cdp_x/100, df_xline.cdp_y/100, s=1)\n",
    "plt.scatter(df8_xy.xmean, df8_xy.ymean, s=15, c='r')\n",
    "plt.scatter(b02.xmean, b02.ymean, s=50, c='purple')\n",
    "plt.legend(['inline', 'crossline', 'well'])\n",
    "for i, row in df_inline_txt.iterrows():\n",
    "    plt.text(row.x_txt, row.y_txt, int(row.inline_n), fontsize=6, ha='left')\n",
    "for i, row in df_xline_txt.iterrows():\n",
    "    plt.text(row.x_txt, row.y_txt, int(row.xline_n), fontsize=8, ha='left')"
   ]
  },
  {
   "cell_type": "code",
   "execution_count": null,
   "metadata": {},
   "outputs": [],
   "source": [
    "in_max, in_min, xn_max, xn_min, tvd_min_idx,tvd_max_idx"
   ]
  },
  {
   "cell_type": "markdown",
   "metadata": {},
   "source": [
    "# 3d cube"
   ]
  },
  {
   "cell_type": "code",
   "execution_count": null,
   "metadata": {},
   "outputs": [],
   "source": [
    "# B02\n",
    "# in_max, xn_max, in_min, xn_min\n",
    "# tvd_max_idx, tvd_min_idx\n",
    "\n",
    "iline_min = in_min\n",
    "iline_max = in_max\n",
    "xline_min = xn_min \n",
    "xline_max = xn_max\n",
    "sample_min = tvd_min_idx-50\n",
    "sample_max = tvd_max_idx+50\n",
    "\n",
    "offset_val = 0\n",
    "\n",
    "ils = np.arange(iline_min - offset_val, iline_max + offset_val)\n",
    "# xls = np.arange(xline_min - offset_val, xline_max + offset_val)\n",
    "xls = np.arange(xline_min - offset_val, xline_max + offset_val) - v.xlines.min()\n",
    "samples_dim = v.samples[sample_min:sample_max] # ignore out of bal8 values (manual adjust)\n",
    "\n",
    "three_d_array = np.empty((len(ils), len(xls), len(samples_dim)))\n",
    "# three_d_array = np.empty((ils, len(xls), len(samples_dim)))\n",
    "\n",
    "for il_idx, il in enumerate(ils):\n",
    "    for xl_idx, xl in enumerate(xls):\n",
    "        gr = v.iline[il][xl][sample_min:sample_max] # ignore out of bal8 values (manual adjust)\n",
    "#         gr_adj = (gr - 43.948) / (69.331 - 43.948) * (70.384 - 36.241) + 36.241\n",
    "#         gr_adj = np.where(gr_adj < 0, 0, gr_adj)\n",
    "#         igr = (gr_adj - 33) / (86-33)\n",
    "#         vsh = 1.7 - (3.38-(igr+0.7)**2)**0.5\n",
    "        gr = np.where(gr == -1, -9999, gr)\n",
    "        gr = np.where(gr > 0.2, 1, gr)\n",
    "#         vsh = np.where(vsh < 0, 0, vsh)\n",
    "        three_d_array[il_idx, xl_idx, :] = gr\n",
    "\n",
    "data_array = xr.DataArray(three_d_array, coords={\n",
    "    'iline': ils,\n",
    "    'xline': np.arange(xline_min - offset_val, xline_max + offset_val),\n",
    "    'z':samples_dim,\n",
    "})\n",
    "\n",
    "data_array = data_array.transpose('xline','z','iline')\n",
    "\n",
    "w = lexcube.Cube3DWidget(data_array,cmap=\"viridis_r\", vmin=0, vmax=1)\n",
    "w"
   ]
  },
  {
   "cell_type": "code",
   "execution_count": 20,
   "metadata": {},
   "outputs": [],
   "source": [
    "# w.show_sliders()"
   ]
  },
  {
   "cell_type": "markdown",
   "metadata": {},
   "source": [
    "# 3d cube crop"
   ]
  },
  {
   "cell_type": "code",
   "execution_count": 21,
   "metadata": {},
   "outputs": [],
   "source": [
    "# np.set_printoptions(suppress=True)\n",
    "# data_array"
   ]
  },
  {
   "cell_type": "code",
   "execution_count": 22,
   "metadata": {},
   "outputs": [],
   "source": [
    "# b8_crop\n",
    "# iline_min = in_min\n",
    "# iline_max = in_max\n",
    "# xline_min = xn_min \n",
    "# xline_max = xn_max\n",
    "# sample_min = tvd_min_idx-50\n",
    "# sample_max = tvd_max_idx\n",
    "\n",
    "# offset_val = 0\n",
    "\n",
    "# ils = np.arange(iline_min - offset_val, iline_max + offset_val)\n",
    "# # xls = np.arange(xline_min - offset_val, xline_max + offset_val)\n",
    "# xls = np.arange(xline_min - offset_val, xline_max + offset_val) - b8_crop.xlines.min()\n",
    "# samples_dim = b8_crop.samples[sample_min:sample_max] # ignore out of bal8 values (manual adjust)\n",
    "\n",
    "# three_d_array = np.empty((len(ils), len(xls), len(samples_dim)))\n",
    "# # three_d_array = np.empty((ils, len(xls), len(samples_dim)))\n",
    "\n",
    "# for il_idx, il in enumerate(ils):\n",
    "#     for xl_idx, xl in enumerate(xls):\n",
    "#         gr = b8_crop.iline[il][xl][sample_min:sample_max] # ignore out of bal8 values (manual adjust)\n",
    "#         gr = np.where(gr == 0, -9999, gr)\n",
    "#         # print(il, xl, gr)\n",
    "#         gr_adj = np.where(gr == -9999, gr, ((gr - 43.948) / (69.331 - 43.948) * (70.384 - 36.241) + 36.241))\n",
    "#         # gr_adj = np.where(gr_adj < 0, 0, gr_adj)\n",
    "#         igr = np.where(gr == -9999, gr, ((gr_adj - 33) / (86-33)))\n",
    "#         vsh = np.where(gr == -9999, gr, (1.7 - (3.38-(igr+0.7)**2)**0.5))\n",
    "#         # vsh = np.where(gr == -1, -9999, vsh)\n",
    "#         # gr = np.where(gr <=0.2, gr, 1)\n",
    "#         vsh = np.where(vsh <= 0.5, vsh, 1)\n",
    "#         cond1 = vsh != -9999\n",
    "#         cond2 = vsh < 0\n",
    "#         combine = cond1 & cond2\n",
    "#         vsh = np.where(combine, 0, vsh)\n",
    "#         three_d_array[il_idx, xl_idx, :] = vsh\n",
    "#         # three_d_array[il_idx, xl_idx, :] = gr\n",
    "\n",
    "# data_array = xr.DataArray(three_d_array, coords={\n",
    "#     'iline': ils,\n",
    "#     'xline': np.arange(xline_min - offset_val, xline_max + offset_val),\n",
    "#     'z':samples_dim,\n",
    "# })\n",
    "\n",
    "# data_array = data_array.transpose('xline','z','iline')\n",
    "\n",
    "# w = lexcube.Cube3DWidget(data_array,cmap=\"viridis_r\", vmin=0, vmax=1)\n",
    "# w"
   ]
  },
  {
   "cell_type": "markdown",
   "metadata": {},
   "source": [
    "# Final function"
   ]
  },
  {
   "cell_type": "code",
   "execution_count": null,
   "metadata": {},
   "outputs": [],
   "source": [
    "df8[(df8.phit_flag == 1) & (df8.well.str.startswith('D'))].well.unique()"
   ]
  },
  {
   "cell_type": "code",
   "execution_count": 24,
   "metadata": {},
   "outputs": [],
   "source": [
    "# отредактировать нейминг внутри функции!!!\n",
    "def inline_xline_well_coord(well_df, df_xy_lines_crop, wellname):\n",
    "    b02 = well_df[well_df['well'] == wellname]\n",
    "    df_xy_lines_v2 = df_xy_lines_crop[((df_xy_lines_crop.inline_3d >=3900) & (df_xy_lines_crop.inline_3d <= 6900)) &\n",
    "                                    ((df_xy_lines_crop.inline_3d >= 3900) & (df_xy_lines_crop.inline_3d <= 6900)) ]\n",
    "    df_xy_lines_v2['cdp_x'] = df_xy_lines_v2['cdp_x']/100\n",
    "    df_xy_lines_v2['cdp_y'] = df_xy_lines_v2['cdp_y']/100\n",
    "    margin = 150\n",
    "    well_xmax = b02['xmean']+margin\n",
    "    well_xmin = b02['xmean']-margin\n",
    "    well_ymax = b02['ymean']+margin\n",
    "    well_ymin = b02['ymean']-margin\n",
    "\n",
    "    df_xy_lines_v3 = df_xy_lines_v2[((df_xy_lines_v2['cdp_x'] > well_xmin.values[0]) & (df_xy_lines_v2['cdp_x'] < well_xmax.values[0])) & \n",
    "                                    ((df_xy_lines_v2['cdp_y'] > well_ymin.values[0]) & (df_xy_lines_v2['cdp_y'] < well_ymax.values[0]))]\n",
    "    in_max, xn_max, in_min, xn_min = df_xy_lines_v3.inline_3d.max(), df_xy_lines_v3.crossline_3d.max(), df_xy_lines_v3.inline_3d.min(), df_xy_lines_v3.crossline_3d.min()\n",
    "\n",
    "    tvd_max = round(b02['tvd_scs'].max(),0)\n",
    "    tvd_min = round(b02['tvd_scs'].min(),0)\n",
    "\n",
    "    tvd_max_idx = np.where(b8_crop.samples.round(0) == tvd_max)[0][0]\n",
    "    tvd_min_idx = np.where(b8_crop.samples.round(0) == tvd_min)[0][0]\n",
    "    result = {\n",
    "        'in_max': in_max,\n",
    "        'in_min': in_min,\n",
    "        'xn_max': xn_max,\n",
    "        'xn_min': xn_min,\n",
    "        'tvd_min_idx': tvd_min_idx,\n",
    "        'tvd_max_idx': tvd_max_idx\n",
    "    }\n",
    "    return result\n",
    "# result = inline_xline_well_coord(df8, df_xy_lines_crop, 'B02')\n",
    "def cube_data(dict_result, gr_cube, cutoff):\n",
    "    iline_min = dict_result['in_min']\n",
    "    iline_max = dict_result['in_max']\n",
    "    xline_min = dict_result['xn_min']\n",
    "    xline_max = dict_result['xn_max']\n",
    "    sample_min = dict_result['tvd_min_idx']-100\n",
    "    sample_max = dict_result['tvd_max_idx']+100\n",
    "\n",
    "    offset_val = 0\n",
    "\n",
    "    ils = np.arange(iline_min - offset_val, iline_max + offset_val)\n",
    "    xls = np.arange(xline_min - offset_val, xline_max + offset_val) - b8_crop.xlines.min()\n",
    "    samples_dim = b8_crop.samples[sample_min:sample_max] # ignore out of bal8 values (manual adjust)\n",
    "\n",
    "    three_d_array = np.empty((len(ils), len(xls), len(samples_dim)))\n",
    "\n",
    "    for il_idx, il in enumerate(ils):\n",
    "        for xl_idx, xl in enumerate(xls):\n",
    "            gr = gr_cube.iline[il][xl][sample_min:sample_max] # ignore out of bal8 values (manual adjust)\n",
    "            gr = np.where(gr == 0, -9999, gr)\n",
    "            gr_adj = np.where(gr == -9999, gr, ((gr - 43.948) / (69.331 - 43.948) * (70.384 - 36.241) + 36.241))\n",
    "            igr = np.where(gr == -9999, gr, ((gr_adj - 33) / (86-33)))\n",
    "            vsh = np.where(gr == -9999, gr, (1.7 - (3.38-(igr+0.7)**2)**0.5))\n",
    "            vsh = np.where(vsh <= cutoff, vsh, 1)\n",
    "            cond1 = vsh != -9999\n",
    "            cond2 = vsh < 0\n",
    "            combine = cond1 & cond2\n",
    "            vsh = np.where(combine, 0, vsh)\n",
    "            three_d_array[il_idx, xl_idx, :] = vsh\n",
    "\n",
    "    data_array = xr.DataArray(three_d_array, coords={\n",
    "        'iline': ils,\n",
    "        'xline': np.arange(xline_min - offset_val, xline_max + offset_val),\n",
    "        'z':samples_dim,\n",
    "    })\n",
    "\n",
    "    data_array = data_array.transpose('xline','z','iline')\n",
    "    return data_array"
   ]
  },
  {
   "cell_type": "code",
   "execution_count": null,
   "metadata": {},
   "outputs": [],
   "source": [
    "df_lst = []\n",
    "for wellname in tqdm([  'C15', 'C16', 'C17', 'C18', 'B08',\n",
    "                        'B08Z', 'B10', 'B11', 'B12', 'B13ST2', 'B14Z', 'B16Y',\n",
    "                        'D23X', 'D24', 'D25'\n",
    "                        ]):\n",
    "    result = inline_xline_well_coord(df8, df_xy_lines_crop, wellname)\n",
    "    data_array = cube_data(result, b8_crop, 0.5)\n",
    "    condition1 = data_array > 0\n",
    "    condition2 = data_array <= 0.2\n",
    "    combined_condition = condition1 & condition2\n",
    "    count = combined_condition.sum().item()\n",
    "    df = pd.DataFrame({'well':wellname, 'count':count}, index=[0])\n",
    "    df_lst.append(df)\n",
    "df_count = pd.concat(df_lst).reset_index(drop=True)"
   ]
  },
  {
   "cell_type": "code",
   "execution_count": null,
   "metadata": {},
   "outputs": [],
   "source": [
    "khtst = df8.groupby('well')['khtst'].first().reset_index()\n",
    "test = df_count.set_index('well').join(khtst.set_index('well'))\n",
    "sns.scatterplot(data=test, x='khtst', y='count')\n",
    "plt.xlim(0, 35000)\n",
    "plt.ylim(5000, 20000)\n",
    "# plt.yscale('log')\n",
    "# plt.xscale('log')\n",
    "for idx, txt in enumerate(test.index):\n",
    "    plt.text(test['khtst'][idx], test['count'][idx], txt, fontsize=8)"
   ]
  },
  {
   "cell_type": "code",
   "execution_count": null,
   "metadata": {},
   "outputs": [],
   "source": [
    "# result_well = inline_xline_well_coord(df8, df_xy_lines_crop, 'C16')\n",
    "# data_array_well = cube_data(result_well, b8_crop, 0.2)\n",
    "# w = lexcube.Cube3DWidget(data_array_well,cmap=\"viridis_r\", vmin=0, vmax=1)\n",
    "# w"
   ]
  },
  {
   "cell_type": "code",
   "execution_count": null,
   "metadata": {},
   "outputs": [],
   "source": [
    "# result_well = inline_xline_well_coord(df8, df_xy_lines_crop, 'B13ST2')\n",
    "# data_array_well = cube_data(result_well, b8_crop, 0.2)\n",
    "# w = lexcube.Cube3DWidget(data_array_well,cmap=\"viridis_r\", vmin=0, vmax=1)\n",
    "# w"
   ]
  },
  {
   "cell_type": "code",
   "execution_count": null,
   "metadata": {},
   "outputs": [],
   "source": [
    "# result_well = inline_xline_well_coord(df8, df_xy_lines_crop, 'D25')\n",
    "# data_array_well = cube_data(result_well, b8_crop, 0.2)\n",
    "# w = lexcube.Cube3DWidget(data_array_well,cmap=\"viridis_r\", vmin=0, vmax=1)\n",
    "# w"
   ]
  }
 ],
 "metadata": {
  "kernelspec": {
   "display_name": "Python 3",
   "language": "python",
   "name": "python3"
  },
  "language_info": {
   "codemirror_mode": {
    "name": "ipython",
    "version": 3
   },
   "file_extension": ".py",
   "mimetype": "text/x-python",
   "name": "python",
   "nbconvert_exporter": "python",
   "pygments_lexer": "ipython3",
   "version": "3.11.4"
  }
 },
 "nbformat": 4,
 "nbformat_minor": 2
}
