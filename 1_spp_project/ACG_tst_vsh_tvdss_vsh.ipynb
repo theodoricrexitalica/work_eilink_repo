{
 "cells": [
  {
   "cell_type": "code",
   "execution_count": 95,
   "metadata": {},
   "outputs": [],
   "source": [
    "import warnings\n",
    "warnings.filterwarnings('ignore')\n",
    "\n",
    "import pandas as pd\n",
    "import matplotlib.pyplot as plt\n",
    "from tqdm import tqdm\n",
    "\n",
    "pd.set_option(\"display.precision\", 3)\n",
    "pd.set_option('display.float_format', lambda x: '%.5f' % x)\n",
    "pd.set_option('display.max_columns', 15)"
   ]
  },
  {
   "cell_type": "code",
   "execution_count": 128,
   "metadata": {},
   "outputs": [],
   "source": [
    "df_vsh_v2 = pd.read_parquet(r\"C:\\jupyter\\SPP\\input\\tst_vsh_tst_vsh\\df_vsh_v2.parquet\")"
   ]
  },
  {
   "cell_type": "code",
   "execution_count": 104,
   "metadata": {},
   "outputs": [],
   "source": [
    "df_vsh_tst = df_vsh_v2[df_vsh_v2.datasetName == 'tst']\n",
    "df_vsh_tvd = df_vsh_v2[df_vsh_v2.datasetName == 'tvd']"
   ]
  },
  {
   "cell_type": "code",
   "execution_count": null,
   "metadata": {},
   "outputs": [],
   "source": [
    "print(df_vsh_tst.wellName.unique().shape, df_vsh_tvd.wellName.unique().shape)"
   ]
  },
  {
   "cell_type": "code",
   "execution_count": 106,
   "metadata": {},
   "outputs": [],
   "source": [
    "vsh_tst = df_vsh_tst.groupby('wellName')['VSH'].mean().reset_index()\n",
    "vsh_tvd = df_vsh_tvd.groupby('wellName')['VSH'].mean().reset_index()\n",
    "full_df = vsh_tst.merge(vsh_tvd, on='wellName', suffixes=('_tst', '_tvd'))"
   ]
  },
  {
   "cell_type": "code",
   "execution_count": null,
   "metadata": {},
   "outputs": [],
   "source": [
    "full_df.shape"
   ]
  },
  {
   "cell_type": "code",
   "execution_count": null,
   "metadata": {},
   "outputs": [],
   "source": [
    "plt.scatter(full_df.VSH_tvd, full_df.VSH_tst, c='r', alpha=0.5, ec='black', s=50)\n",
    "plt.xlabel('VSH_tvd')\n",
    "plt.ylabel('VSH_tst')\n",
    "plt.title('VSH_tst vs VSH_tvd Bal VIII')\n",
    "plt.grid()"
   ]
  },
  {
   "cell_type": "code",
   "execution_count": null,
   "metadata": {},
   "outputs": [],
   "source": [
    "tst_interv = df_vsh_tst.groupby('wellName')['TST'].apply(lambda x: x.iloc[-1] - x.iloc[0]).reset_index()\n",
    "tvd_interv = df_vsh_tvd.groupby('wellName')['TVD_SCS'].apply(lambda x: x.iloc[-1] - x.iloc[0]).reset_index()\n",
    "full_interv = tst_interv.merge(tvd_interv, on='wellName')\n",
    "plt.scatter(full_interv.TVD_SCS, full_interv.TST, c='b', alpha=0.5, ec='black', s=50)\n",
    "plt.xlim(30, 500)\n",
    "plt.ylim(30, 200)\n",
    "plt.xlabel('TVD_SCS_bal8_interv')\n",
    "plt.ylabel('TST_bal8_interv')\n",
    "plt.title('Bal VIII thickness by TVD_SCS vs TST')\n",
    "plt.grid();"
   ]
  }
 ],
 "metadata": {
  "kernelspec": {
   "display_name": "Python 3",
   "language": "python",
   "name": "python3"
  },
  "language_info": {
   "codemirror_mode": {
    "name": "ipython",
    "version": 3
   },
   "file_extension": ".py",
   "mimetype": "text/x-python",
   "name": "python",
   "nbconvert_exporter": "python",
   "pygments_lexer": "ipython3",
   "version": "3.11.4"
  }
 },
 "nbformat": 4,
 "nbformat_minor": 2
}
