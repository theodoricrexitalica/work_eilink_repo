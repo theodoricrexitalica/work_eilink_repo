{
 "cells": [
  {
   "cell_type": "code",
   "execution_count": 1,
   "metadata": {},
   "outputs": [],
   "source": [
    "import warnings\n",
    "warnings.filterwarnings('ignore')\n",
    "\n",
    "import numpy as np\n",
    "import pandas as pd\n",
    "import matplotlib.pyplot as plt\n",
    "import seaborn as sns\n",
    "import plotly.graph_objects as go\n",
    "from tqdm import tqdm\n",
    "import segyio\n",
    "from scipy import ndimage as ndi\n",
    "from shutil import copyfile\n",
    "from skimage import exposure\n",
    "\n",
    "pd.options.display.precision = 3\n",
    "pd.options.display.float_format = lambda x: '%.5f' % x\n",
    "pd.options.display.max_columns = 15\n",
    "pd.options.display.max_rows = 6"
   ]
  },
  {
   "cell_type": "code",
   "execution_count": 49,
   "metadata": {},
   "outputs": [],
   "source": [
    "# bal8_10 = 'C:\\\\Petrel\\\\exports\\\\bal8_10cube.segy'\n",
    "\n",
    "# with segyio.open(bal8_10) as segyfile:\n",
    "#     # Memory map file for faster reading (especially if file is big...)\n",
    "#     segyfile.mmap()\n",
    "#     # Print binary header info\n",
    "#     print(segyfile.bin)\n",
    "#     print(segyfile.bin[segyio.BinField.Traces])\n",
    "#     # Read headerword inline for trace 10\n",
    "#     print(segyfile.header[10][segyio.TraceField.INLINE_3D])\n",
    "#     # Print inline and crossline axis\n",
    "#     print(segyfile.xlines)\n",
    "#     print(segyfile.ilines)"
   ]
  },
  {
   "cell_type": "code",
   "execution_count": 2,
   "metadata": {},
   "outputs": [
    {
     "name": "stdout",
     "output_type": "stream",
     "text": [
      "(6601,)\n",
      "(1801,)\n",
      "(1521,)\n"
     ]
    }
   ],
   "source": [
    "# bal8_10 \n",
    "# inline    3600 6600\n",
    "# xline     1400 2500   [300:1400]\n",
    "# sample    1800 4200   [250:1500]\n",
    "\n",
    "bal8_10 = 'C:\\\\Petrel\\\\exports\\\\bal8_10cube.segy'\n",
    "inlines = []\n",
    "with segyio.open(bal8_10, \"r\") as segyfile:\n",
    "\n",
    "    # Memory map file for faster reading (especially if file is big...)\n",
    "    segyfile.mmap()\n",
    "    print(segyfile.ilines.shape)\n",
    "    print(segyfile.xlines.shape)\n",
    "    print(segyfile.samples.shape)\n",
    "    # lst = []\n",
    "    # for i in segyfile.ilines[3000:3100]:\n",
    "    #     test = segyfile.iline[i]\n",
    "    #     lst.append(test)"
   ]
  },
  {
   "cell_type": "code",
   "execution_count": 45,
   "metadata": {},
   "outputs": [
    {
     "data": {
      "text/plain": [
       "array([[0., 0., 0., ..., 0., 0., 0.],\n",
       "       [0., 0., 0., ..., 0., 0., 0.],\n",
       "       [0., 0., 0., ..., 0., 0., 0.],\n",
       "       ...,\n",
       "       [0., 0., 0., ..., 0., 0., 0.],\n",
       "       [0., 0., 0., ..., 0., 0., 0.],\n",
       "       [0., 0., 0., ..., 0., 0., 0.]], dtype=float32)"
      ]
     },
     "execution_count": 45,
     "metadata": {},
     "output_type": "execute_result"
    }
   ],
   "source": [
    "combine = np.stack(lst)\n",
    "combine[0]"
   ]
  }
 ],
 "metadata": {
  "kernelspec": {
   "display_name": "Python 3",
   "language": "python",
   "name": "python3"
  },
  "language_info": {
   "codemirror_mode": {
    "name": "ipython",
    "version": 3
   },
   "file_extension": ".py",
   "mimetype": "text/x-python",
   "name": "python",
   "nbconvert_exporter": "python",
   "pygments_lexer": "ipython3",
   "version": "3.11.4"
  }
 },
 "nbformat": 4,
 "nbformat_minor": 2
}
