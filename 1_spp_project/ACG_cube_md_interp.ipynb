{
 "cells": [
  {
   "cell_type": "code",
   "execution_count": 2,
   "metadata": {},
   "outputs": [],
   "source": [
    "import warnings\n",
    "warnings.filterwarnings('ignore')\n",
    "\n",
    "import pandas as pd\n",
    "import numpy as np\n",
    "from scipy.interpolate import interp1d\n",
    "import matplotlib.pyplot as plt \n",
    "import lasio\n",
    "import os\n",
    "from tqdm import tqdm\n",
    "\n",
    "pd.set_option(\"display.precision\", 3)\n",
    "pd.set_option('display.float_format', lambda x: '%.5f' % x)\n",
    "pd.set_option('display.max_rows', 4)\n",
    "pd.set_option('display.max_columns', 15)"
   ]
  },
  {
   "cell_type": "markdown",
   "metadata": {},
   "source": [
    "# wellheads"
   ]
  },
  {
   "cell_type": "code",
   "execution_count": 3,
   "metadata": {},
   "outputs": [],
   "source": [
    "folder_path = r\"C:\\Petrel\\well_traj\"  # replace with your folder path\n",
    "file_names = os.listdir(folder_path)\n",
    "\n",
    "df_list = []\n",
    "for well in file_names:\n",
    "    file_path = os.path.join(folder_path, well)\n",
    "    las = lasio.read(file_path)\n",
    "    df = las.df()\n",
    "    df['well'] = well.split('.')[0]\n",
    "    df_list.append(df)\n",
    "df_survey = pd.concat(df_list).reset_index()"
   ]
  },
  {
   "cell_type": "code",
   "execution_count": 4,
   "metadata": {},
   "outputs": [],
   "source": [
    "wellhead = df_survey.groupby('well')[['well','X','Y']].apply(lambda x: x.iloc[0]).reset_index(drop=True)"
   ]
  },
  {
   "cell_type": "code",
   "execution_count": null,
   "metadata": {},
   "outputs": [],
   "source": [
    "wellhead[wellhead.X.isna()]"
   ]
  },
  {
   "cell_type": "code",
   "execution_count": 6,
   "metadata": {},
   "outputs": [],
   "source": [
    "wellhead_v2 = wellhead[~wellhead.well.isin(['B35','B43'])]"
   ]
  },
  {
   "cell_type": "code",
   "execution_count": 7,
   "metadata": {},
   "outputs": [],
   "source": [
    "add1 = df_survey[df_survey.well == 'B43'][['well','X','Y']].iloc[1:2]\n",
    "add2 = df_survey[df_survey.well == 'B35'][['well','X','Y']].iloc[1:2]\n",
    "wellhead_v2 = pd.concat([wellhead_v2, add1, add2]).reset_index(drop=True).drop_duplicates()"
   ]
  },
  {
   "cell_type": "code",
   "execution_count": 12,
   "metadata": {},
   "outputs": [],
   "source": [
    "# wellhead_v2.to_csv('wellhead.prn', sep='\\t', index=False)"
   ]
  },
  {
   "cell_type": "markdown",
   "metadata": {},
   "source": [
    "# gr_cube"
   ]
  },
  {
   "cell_type": "code",
   "execution_count": 14,
   "metadata": {},
   "outputs": [],
   "source": [
    "folder_path = r'C:\\Petrel\\gr_cube'  # replace with your folder path\n",
    "file_names = os.listdir(folder_path)\n",
    "\n",
    "df_list = []\n",
    "for well in file_names:\n",
    "    file_path = os.path.join(folder_path, well)\n",
    "    las = lasio.read(file_path)\n",
    "    df = las.df()\n",
    "    df['well'] = well.split('.')[0]\n",
    "    df_list.append(df)\n",
    "df_gr_cube = pd.concat(df_list).reset_index()"
   ]
  },
  {
   "cell_type": "code",
   "execution_count": null,
   "metadata": {},
   "outputs": [],
   "source": [
    "df_gr_cube = df_gr_cube.rename(columns={'DEPT': 'MD', 'GR_CUBE': 'GR_cube', 'VSH_CUBE':'VSH_cube'}).dropna(subset=['GR_cube'])\n",
    "df_gr_cube = df_gr_cube.round({'GR_cube':2, 'VSH_cube':2})\n",
    "df_gr_cube.loc[df_gr_cube.VSH_cube < 0, 'VSH_cube'] = 0\n",
    "df_gr_cube.loc[df_gr_cube.VSH_cube > 1, 'VSH_cube'] = 1\n",
    "df_gr_cube"
   ]
  },
  {
   "cell_type": "markdown",
   "metadata": {},
   "source": [
    "# md_interpolation"
   ]
  },
  {
   "cell_type": "code",
   "execution_count": null,
   "metadata": {},
   "outputs": [],
   "source": [
    "def interpolate_md_gr_cube(one_well, step):\n",
    "    one_well = one_well.sort_values(by='MD')\n",
    "    well_name = one_well[\"well\"].iloc[0]\n",
    "    data_range = np.floor((one_well[\"MD\"].max() - one_well[\"MD\"].min())/step)\n",
    "    starting_md = one_well[\"MD\"].iloc[0]\n",
    "    new_MD_values = [starting_md + i*0.1 for i in range(1,int(data_range))]\n",
    "\n",
    "    # interp_MD = interp1d(one_well['MD'], one_well['MD'], kind='linear', fill_value=\"extrapolate\")\n",
    "    interp_gr_cube = interp1d(one_well['MD'], one_well['GR_cube'], kind='linear', fill_value=\"extrapolate\")\n",
    "    new_data = {\n",
    "        'well': [well_name for _ in range(len(new_MD_values))],\n",
    "        'MD': new_MD_values,\n",
    "        'GR_cube': interp_gr_cube(new_MD_values)\n",
    "        }\n",
    "    new_df = pd.DataFrame(new_data)\n",
    "    return new_df\n",
    "\n",
    "df_lst = []\n",
    "print('Start interpolation')\n",
    "for wellnames in tqdm(df_gr_cube.well.unique()):\n",
    "    well_sel = df_gr_cube[df_gr_cube.well == wellnames]\n",
    "    well_interp = interpolate_md_gr_cube(well_sel, 0.1)\n",
    "    df_lst.append(well_interp)\n",
    "df_interp = pd.concat(df_lst)\n",
    "df_interp = df_interp.round({'MD':1})\n",
    "df_interp"
   ]
  },
  {
   "cell_type": "code",
   "execution_count": 22,
   "metadata": {},
   "outputs": [],
   "source": [
    "df_interp.to_csv('C:\\jupyter\\SPP\\inputoutput\\gr_cube_md_interp.csv')"
   ]
  },
  {
   "cell_type": "code",
   "execution_count": null,
   "metadata": {},
   "outputs": [],
   "source": [
    "for wellnames in df_gr_cube.well.unique()[:10]:\n",
    "    fig, ax = plt.subplots(figsize=(3, 10))\n",
    "    orig = df_gr_cube[(df_gr_cube.well == wellnames) & (df_gr_cube.MD > 2500)]\n",
    "    interp = df_interp[(df_interp.well == wellnames) & (df_interp.MD > 2500)]\n",
    "    ax.plot(orig['GR_cube'], orig['MD'], label='Original')\n",
    "    ax.plot(interp['GR_cube'], interp['MD'], label='Interpolated')\n",
    "    ax.invert_yaxis()\n",
    "    ax.legend(title=wellnames)\n",
    "    plt.show()"
   ]
  },
  {
   "cell_type": "code",
   "execution_count": null,
   "metadata": {},
   "outputs": [],
   "source": [
    "\n"
   ]
  }
 ],
 "metadata": {
  "kernelspec": {
   "display_name": "Python 3",
   "language": "python",
   "name": "python3"
  },
  "language_info": {
   "codemirror_mode": {
    "name": "ipython",
    "version": 3
   },
   "file_extension": ".py",
   "mimetype": "text/x-python",
   "name": "python",
   "nbconvert_exporter": "python",
   "pygments_lexer": "ipython3",
   "version": "3.11.4"
  }
 },
 "nbformat": 4,
 "nbformat_minor": 2
}
