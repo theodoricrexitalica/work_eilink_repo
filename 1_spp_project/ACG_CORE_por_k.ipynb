{
 "cells": [
  {
   "cell_type": "code",
   "execution_count": 4,
   "metadata": {},
   "outputs": [],
   "source": [
    "#Import libs \n",
    "import pandas as pd\n",
    "import numpy as np\n",
    "import warnings\n",
    "warnings.filterwarnings('ignore')\n",
    "import matplotlib.pyplot as plt\n",
    "import plotly.graph_objects as go\n",
    "from plotly.subplots import make_subplots\n",
    "import plotly.express as px\n",
    "from tqdm import tqdm\n",
    "import textwrap\n",
    "from statistics import mean\n",
    "from sklearn.ensemble import RandomForestRegressor\n",
    "from sklearn.model_selection import GridSearchCV\n",
    "from sklearn.preprocessing import StandardScaler\n",
    "from sklearn.model_selection import train_test_split\n",
    "from sklearn.metrics import r2_score as r2, mean_absolute_error as mae, mean_squared_error as mse, accuracy_score\n",
    "from sklearn.metrics.pairwise import euclidean_distances\n",
    "import random\n",
    "import mlflow\n",
    "import mlflow.sklearn\n",
    "pd.set_option(\"display.precision\", 3)\n",
    "pd.set_option('display.float_format', lambda x: '%.3f' % x)\n",
    "pd.set_option('display.max_columns', 18)"
   ]
  },
  {
   "cell_type": "code",
   "execution_count": 135,
   "metadata": {},
   "outputs": [],
   "source": [
    "core_data_init = pd.read_csv('ACG_CORE_por_k.csv')\n",
    "core_data = core_data_init[1:].copy()\n",
    "core_data_bal = core_data[core_data.CFORMATION.str.contains('Balakhany')]\n",
    "core_data_bal['wellName'] = core_data_bal['wellName'].astype('string')\n",
    "core_data_bal['DEPTH'] = core_data_bal['DEPTH'].astype('float')\n",
    "core_data_bal['DEPTH'] = core_data_bal.DEPTH.round(2)\n",
    "core_data_bal['H_CKHEL'] = core_data_bal['H_CKHEL'].astype('float')\n",
    "core_data_bal['H_CKHEL_AMB'] = core_data_bal['H_CKHEL_AMB'].astype('float')\n",
    "core_data_bal['H_CPOR'] = core_data_bal['H_CPOR'].astype('float')\n",
    "core_data_bal['H_CPOR_AMB'] = core_data_bal['H_CPOR_AMB'].astype('float')\n",
    "core_data_bal['CFORMATION'] = core_data_bal['CFORMATION'].astype('string')\n",
    "core_data_bal = core_data_bal.fillna(0)\n",
    "core_data_bal = core_data_bal.replace(-9999, 0)\n",
    "core_data_bal = core_data_bal.replace('-9999', '0')\n",
    "core_data_bal_sel = core_data_bal[core_data_bal.H_CPOR > 0]\n",
    "# core_data_bal_sel.head()"
   ]
  },
  {
   "cell_type": "code",
   "execution_count": 6,
   "metadata": {},
   "outputs": [],
   "source": [
    "df_prq = pd.read_parquet('ACG_wells_JOINT_BEST_v6.parquet.gzip')"
   ]
  },
  {
   "cell_type": "code",
   "execution_count": 102,
   "metadata": {},
   "outputs": [],
   "source": [
    "log_core = df_prq.set_index(['wellName','DEPTH']).join(core_data_bal_sel.set_index(['wellName','DEPTH'])).reset_index()"
   ]
  },
  {
   "cell_type": "code",
   "execution_count": null,
   "metadata": {},
   "outputs": [],
   "source": [
    "log_core_sel = log_core[['wellName', 'DEPTH', 'FORMATION', 'CFORMATION', \n",
    "                        'LPERM', 'PHIT', 'H_CKHEL', 'H_CKHEL_AMB', 'H_CPOR', 'H_CPOR_AMB',\n",
    "                        'V_CKHEL', 'V_CKHEL_AMB', 'V_CPOR', 'V_CPOR_AMB']]\n",
    "log_core_sel = log_core_sel[(log_core_sel.H_CPOR>13) & (log_core_sel.PHIT>0.13) &\n",
    "                            (log_core_sel.H_CKHEL > 10) & (log_core_sel.LPERM > 10)]\n",
    "# log_core_sel        \n",
    "sca = px.scatter(log_core_sel, x='H_CPOR', y='PHIT',color='wellName')\n",
    "ln = px.line(x=[10,30], y=[0.1,0.3])\n",
    "ln.update_traces(line=dict(color = 'red'))\n",
    "fig = go.Figure(data = ln.data + sca.data)\n",
    "fig.update_layout(title = 'Comparison PHIT-log vs CPOR',width=600,height=600, xaxis_title=\"H_CPOR\", yaxis_title=\"PHIT\",\n",
    "                    margin=dict(l=10,r=10,b=10,t=40))\n",
    "fig.update_layout(xaxis_range=[10,35], yaxis_range=[0.1,0.35])\n",
    "fig.show()"
   ]
  },
  {
   "cell_type": "code",
   "execution_count": 138,
   "metadata": {},
   "outputs": [],
   "source": [
    "def well_phit_bal8_10(wellname):\n",
    "    data = log_core[(log_core.wellName==wellname)]\n",
    "    y8 = data[data.FORMATION=='Balakhany VIII sand']['DEPTH']\n",
    "    x1_8 = data[data.FORMATION=='Balakhany VIII sand']['PHIT']\n",
    "    x2_8 = data[data.FORMATION=='Balakhany VIII sand']['H_CPOR']\n",
    "    y10 = data[data.FORMATION=='Balakhany X sand']['DEPTH']\n",
    "    x1_10 = data[data.FORMATION=='Balakhany X sand']['PHIT']\n",
    "    x2_10 = data[data.FORMATION=='Balakhany X sand']['H_CPOR']  \n",
    "    fig, ax = plt.subplots(1,2, figsize=(6,7), sharey=False)\n",
    "    ax[0].plot(x1_8, y8, color='green', label='PHIT'), ax[0].invert_yaxis(), ax[0].set_xlim(0, 0.3)\n",
    "    ax[1].plot(x1_10, y10, color='green', label='PHIT'), ax[1].invert_yaxis(), ax[1].set_xlim(0, 0.3)\n",
    "    twin1 = ax[0].twiny() \n",
    "    twin1.scatter(x2_8, y8, color='blue', label='H_CKHEL', alpha=.5)\n",
    "    twin1.set_xlim(0, 30)\n",
    "    twin2 = ax[1].twiny() \n",
    "    twin2.scatter(x2_10, y10, color='blue', label='H_CKHEL', alpha=.5)\n",
    "    twin2.set_xlim(0, 30)\n",
    "    ax[0].title.set_text('Bal VIII sand')\n",
    "    ax[1].title.set_text('Bal X sand')\n",
    "    ax[0].grid()\n",
    "    ax[1].grid()\n",
    "    fig.suptitle(wellname, fontsize=14)\n",
    "    fig.legend(fontsize=8)\n",
    "    fig.tight_layout()"
   ]
  },
  {
   "cell_type": "code",
   "execution_count": null,
   "metadata": {},
   "outputs": [],
   "source": [
    "for well in core_data_bal_sel.wellName.unique():\n",
    "    well_phit_bal8_10(well)"
   ]
  },
  {
   "cell_type": "code",
   "execution_count": null,
   "metadata": {},
   "outputs": [],
   "source": [
    "ln = px.line(x=[1,2000], y=[1,2000])\n",
    "sca = px.scatter(log_core_sel, x='H_CKHEL', y='LPERM', color='wellName')\n",
    "ln.update_traces(line=dict(color = 'red', width=4))\n",
    "fig = go.Figure(data = ln.data + sca.data)\n",
    "fig.update_layout(title = 'Comparison PERM-log vs CKHEL',width=600,height=600, xaxis_title=\"H_CKHEL\", yaxis_title=\"LPERM\",\n",
    "                    margin=dict(l=10,r=10,b=10,t=40))\n",
    "fig.update_xaxes(type=\"log\")\n",
    "fig.update_yaxes(type=\"log\")\n",
    "fig.show()"
   ]
  },
  {
   "cell_type": "code",
   "execution_count": 171,
   "metadata": {},
   "outputs": [],
   "source": [
    "def well_perm_bal8_10(wellname):\n",
    "    data = log_core[(log_core.wellName==wellname)]\n",
    "    y8 = data[data.FORMATION=='Balakhany VIII sand']['DEPTH']\n",
    "    x1_8 = data[data.FORMATION=='Balakhany VIII sand']['LPERM']\n",
    "    x2_8 = data[data.FORMATION=='Balakhany VIII sand']['H_CKHEL']\n",
    "    y10 = data[data.FORMATION=='Balakhany X sand']['DEPTH']\n",
    "    x1_10 = data[data.FORMATION=='Balakhany X sand']['LPERM']\n",
    "    x2_10 = data[data.FORMATION=='Balakhany X sand']['H_CKHEL']  \n",
    "    fig, ax = plt.subplots(1,2, figsize=(6,7), sharey=False)\n",
    "    ax[0].plot(x1_8, y8, color='#8c12b8', label='PHIT'), ax[0].invert_yaxis(), ax[0].set_xlim(0.1, 1000)\n",
    "    ax[1].plot(x1_10, y10, color='#8c12b8', label='PHIT'), ax[1].invert_yaxis(), ax[1].set_xlim(0.1, 1000)\n",
    "    ax[0].set_xscale('log'), ax[1].set_xscale('log')\n",
    "    twin1 = ax[0].twiny() \n",
    "    twin1.scatter(x2_8, y8, color='red', label='H_CKHEL', alpha=.5)\n",
    "    twin1.set_xlim(0.1, 1000), twin1.set_xscale('log')\n",
    "    twin2 = ax[1].twiny() \n",
    "    twin2.scatter(x2_10, y10, color='red', label='H_CKHEL', alpha=.5)\n",
    "    twin2.set_xlim(0.1, 1000), twin2.set_xscale('log')\n",
    "    ax[0].title.set_text('Bal VIII sand')\n",
    "    ax[1].title.set_text('Bal X sand')\n",
    "    ax[0].grid(which = 'both', color='#6e6e6e', linewidth=0.1)\n",
    "    ax[1].grid(which = 'both', color='#6e6e6e', linewidth=0.1)\n",
    "    fig.suptitle(wellname, fontsize=14)\n",
    "    fig.legend(fontsize=8)\n",
    "    fig.tight_layout()"
   ]
  },
  {
   "cell_type": "code",
   "execution_count": null,
   "metadata": {},
   "outputs": [],
   "source": [
    "for well in core_data_bal_sel.wellName.unique()[:]:\n",
    "    well_perm_bal8_10(well)"
   ]
  }
 ],
 "metadata": {
  "kernelspec": {
   "display_name": "Python 3",
   "language": "python",
   "name": "python3"
  },
  "language_info": {
   "codemirror_mode": {
    "name": "ipython",
    "version": 3
   },
   "file_extension": ".py",
   "mimetype": "text/x-python",
   "name": "python",
   "nbconvert_exporter": "python",
   "pygments_lexer": "ipython3",
   "version": "3.11.4"
  },
  "orig_nbformat": 4
 },
 "nbformat": 4,
 "nbformat_minor": 2
}
