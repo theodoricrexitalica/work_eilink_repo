{
 "cells": [
  {
   "cell_type": "markdown",
   "metadata": {},
   "source": [
    "# Libs"
   ]
  },
  {
   "cell_type": "code",
   "execution_count": 1,
   "metadata": {},
   "outputs": [],
   "source": [
    "import warnings\n",
    "warnings.filterwarnings('ignore')\n",
    "\n",
    "import numpy as np\n",
    "import pandas as pd\n",
    "import matplotlib.pyplot as plt\n",
    "import seaborn as sns\n",
    "import plotly.graph_objects as go\n",
    "from tqdm import tqdm\n",
    "import segyio\n",
    "from scipy import ndimage as ndi\n",
    "from shutil import copyfile\n",
    "from scipy.ndimage import gaussian_filter\n",
    "\n",
    "pd.options.display.precision = 3\n",
    "pd.options.display.float_format = lambda x: '%.5f' % x\n",
    "pd.options.display.max_columns = 15\n",
    "pd.options.display.max_rows = 6"
   ]
  },
  {
   "cell_type": "markdown",
   "metadata": {},
   "source": [
    "# Data"
   ]
  },
  {
   "cell_type": "code",
   "execution_count": null,
   "metadata": {},
   "outputs": [],
   "source": [
    "df8 = pd.read_csv(r'C:\\jupyter\\SPP\\inputoutput\\general_logs\\logs8_ntd_v5.csv')\n",
    "df8_ntd = pd.read_csv(r'C:\\jupyter\\SPP\\inputoutput\\layers\\ntd_top_phi_bot8_bp_v4.csv').drop(columns=['Unnamed: 0'])\n",
    "df10 = pd.read_csv(r'C:\\jupyter\\SPP\\inputoutput\\general_logs\\logs10_ntd_v4.csv')\n",
    "df10_ntd = pd.read_csv(r'C:\\jupyter\\SPP\\inputoutput\\layers\\ntd_top_phi_bot10_bp_v4.csv').drop(columns=['Unnamed: 0'])\n",
    "df10.columns"
   ]
  },
  {
   "cell_type": "markdown",
   "metadata": {},
   "source": [
    "# Processing bal8"
   ]
  },
  {
   "cell_type": "code",
   "execution_count": 18,
   "metadata": {},
   "outputs": [],
   "source": [
    "# 1. make up a set of channel wells to present of them +\n",
    "# 2. check their properties +\n",
    "# 3. apply 3-types correlations to vsh-logs +"
   ]
  },
  {
   "cell_type": "code",
   "execution_count": null,
   "metadata": {},
   "outputs": [],
   "source": [
    "quantiles = df8_ntd[df8_ntd['htst'] >= 2]['htst'].quantile([0.25, 0.5, 0.75])\n",
    "quantiles_v2 = pd.DataFrame(quantiles).T\n",
    "display(quantiles_v2)\n",
    "\n",
    "channel_cutoff8 = 10\n",
    "def chanel_data_preproc(df, df_ntd, channel_cutoff, add_wells):\n",
    "    # df8_ntd_big = df8_ntd[(df8_ntd['htst'] >=channel_cutoff) & ((df8_ntd['top_htst'] <= 0.5) | (df8_ntd['bot_htst'] <= 0.5))]\n",
    "    df_ntd_big = df_ntd[(df_ntd['htst'] >=channel_cutoff)]\n",
    "    qnt_layers = df_ntd_big.groupby('well')['well'].count()\n",
    "    df_ntd_big_v2 = df_ntd_big.set_index('well').join(qnt_layers).rename(columns={'well': 'qnt_layers'}).reset_index()\n",
    "\n",
    "    well_big = df_ntd_big_v2.well.unique()\n",
    "    well_big = np.append(well_big, add_wells)\n",
    "\n",
    "    df_big = df[df['well'].isin(well_big)]\n",
    "    df_big['vsh_clip'] = 1\n",
    "    df_big.loc[df_big.net == 1, 'vsh_clip'] = df_big.vsh\n",
    "    df_big['net_chanel'] = 0\n",
    "    df_big.loc[df_big.htst_ntd >=channel_cutoff, 'net_chanel'] = 1\n",
    "    return df_big, df_ntd_big_v2\n",
    "df8_big, df8_ntd_big_v2 = chanel_data_preproc(df8, df8_ntd, channel_cutoff8, [])\n",
    "\n",
    "def field_qnt(df):\n",
    "    fields_qnt = df.groupby('well')['field'].first().reset_index()\n",
    "    field_df = pd.DataFrame(fields_qnt.value_counts('field')).T\n",
    "    display(field_df)\n",
    "field_qnt(df8_big)"
   ]
  },
  {
   "cell_type": "markdown",
   "metadata": {},
   "source": [
    "# Analyse bal8"
   ]
  },
  {
   "cell_type": "code",
   "execution_count": null,
   "metadata": {},
   "outputs": [],
   "source": [
    "def box_plot_channels(df, df_big, channel_cutoff, comment):\n",
    "    df = df[df.phit_flag == 1]\n",
    "    df['khtst'] = df['khtst'].round(0).astype(int)\n",
    "    df_khtst = df.groupby('well')['khtst'].first().reset_index()\n",
    "    df_khtst['channel_group'] = 'non-channel'\n",
    "    custom_palette = {'channel': 'orange', 'non-channel': 'green'}\n",
    "    df_khtst.loc[df_khtst['well'].isin(df_big['well'].unique()), 'channel_group'] = 'channel'\n",
    "    df_khtst.sort_values('channel_group', inplace=True)\n",
    "    fig, ax = plt.subplots(1,2, figsize=(15, 6))\n",
    "    sns.boxplot(data=df_khtst, x='channel_group', y='khtst', hue='channel_group', palette=custom_palette, ax=ax[0])\n",
    "    ax[0].set_title(comment + 'khtst distribution channel:' + str(channel_cutoff) + 'm')\n",
    "    ax[0].grid()\n",
    "\n",
    "    sum_wells = df[df.net == 1].groupby('well')[['net','phit']].sum().reset_index()\n",
    "    sum_wells = sum_wells.rename(columns={'net': 'net_sum', 'phit': 'phit_sum'})\n",
    "    sum_wells['net_sum'] = sum_wells['net_sum']*0.1\n",
    "    sum_wells = sum_wells[sum_wells['net_sum'] >= 10]\n",
    "    sum_wells['channel_group'] = 'non-channel'\n",
    "    sum_wells.loc[sum_wells['well'].isin(df_big['well'].unique()), 'channel_group'] = 'channel'\n",
    "    custom_palette = {'channel': 'orange', 'non-channel': 'green'}\n",
    "    sns.scatterplot(data=sum_wells, x='net_sum', y='phit_sum', hue='channel_group', palette=custom_palette, ax=ax[1])\n",
    "    ax[1].set_title(comment + 'net_sum vs phit_sum wells basis')\n",
    "    ax[1].grid()\n",
    "    return df_khtst\n",
    "df8_khtst = box_plot_channels(df8, df8_big, channel_cutoff8, 'bal8 ')\n",
    "df8_khtst[(df8_khtst.channel_group == 'non-channel') & (df8_khtst.khtst > 15000)].T"
   ]
  },
  {
   "cell_type": "code",
   "execution_count": null,
   "metadata": {},
   "outputs": [],
   "source": [
    "def chanel_data_preproc(df, df_ntd, channel_cutoff, add_wells):\n",
    "    # df8_ntd_big = df8_ntd[(df8_ntd['htst'] >=channel_cutoff) & ((df8_ntd['top_htst'] <= 0.5) | (df8_ntd['bot_htst'] <= 0.5))]\n",
    "    df_ntd_big = df_ntd[(df_ntd['htst'] >=channel_cutoff)]\n",
    "    qnt_layers = df_ntd_big.groupby('well')['well'].count()\n",
    "    df_ntd_big_v2 = df_ntd_big.set_index('well').join(qnt_layers).rename(columns={'well': 'qnt_layers'}).reset_index()\n",
    "\n",
    "    well_big = df_ntd_big_v2.well.unique()\n",
    "    well_big = np.append(well_big, add_wells)\n",
    "\n",
    "    df_big = df[df['well'].isin(well_big)]\n",
    "    df_big['vsh_clip'] = 1\n",
    "    df_big.loc[df_big.net == 1, 'vsh_clip'] = df_big.vsh\n",
    "    df_big['net_chanel'] = 0\n",
    "    df_big.loc[df_big.htst_ntd >=channel_cutoff, 'net_chanel'] = 1\n",
    "    return df_big, df_ntd_big_v2\n",
    "# df8_big, df8_ntd_big_v2 = chanel_data_preproc(df8, df8_ntd, channel_cutoff, ['B01Y', 'B26',\t'C16'])\n",
    "df8_big, df8_ntd_big_v2 = chanel_data_preproc(df8, df8_ntd, channel_cutoff8, ['B01Y', 'B23Z', 'B19'])\n",
    "\n",
    "def field_qnt(df, df_big, channel_cutoff):\n",
    "    fields_qnt = df_big.groupby('well')['field'].first().reset_index()\n",
    "    field_df = pd.DataFrame(fields_qnt.value_counts('field')).T\n",
    "    display(field_df)\n",
    "    print(f\"wells with chanells up to {channel_cutoff} m: \\\n",
    "{pd.DataFrame(fields_qnt.value_counts('field'))['count'].sum()} out of {len(df['well'].unique())} wells\")\n",
    "\n",
    "field_qnt(df8, df8_big, channel_cutoff8)"
   ]
  },
  {
   "cell_type": "code",
   "execution_count": 6,
   "metadata": {},
   "outputs": [],
   "source": [
    "df8['channel_presence'] = 'no'\n",
    "df8.loc[df8.well.isin(df8_big.well.unique()), 'channel_presence'] = 'yes'\n",
    "df8_full = df8.set_index(['well','tst']).join(\n",
    "    df8_big[['well','tst','vsh_clip','net_chanel']].set_index(['well','tst'])).reset_index()\n",
    "df8_full.to_csv(r'C:\\jupyter\\SPP\\output\\channels\\logs8_full.csv')"
   ]
  },
  {
   "cell_type": "markdown",
   "metadata": {},
   "source": [
    "# Histo & csv bal8"
   ]
  },
  {
   "cell_type": "code",
   "execution_count": 27,
   "metadata": {},
   "outputs": [],
   "source": [
    "def channels8_fu_creation(df8_big):\n",
    "    channels8_fu = df8_big.groupby(['well','net_chanel','formation'])[['tst']].count().reset_index()\n",
    "    channels8_fu = channels8_fu[channels8_fu.net_chanel == 1]\n",
    "    channels8_fu.loc[channels8_fu.well.str.startswith('B'), 'field'] = '2_central'\n",
    "    channels8_fu.loc[channels8_fu.well.str.startswith('C'), 'field'] = '1_west'\n",
    "    channels8_fu.loc[channels8_fu.well.str.startswith('D'), 'field'] = '3_east'\n",
    "    channels8_fu['tst'] = channels8_fu['tst']*0.1\n",
    "    channels8_fu = channels8_fu.rename(columns={'tst': 'htst_channel'})\n",
    "    xy8 = df8_big.groupby(['well','formation'])[['xmean','ymean']].first()\n",
    "    channels8_fu = channels8_fu.set_index(['well','formation']).join(xy8).reset_index()\n",
    "\n",
    "    channels8_fu = channels8_fu[channels8_fu.htst_channel > 2]\n",
    "    channels8_fu = channels8_fu.rename(columns={'formation': 'channel_fm'})\n",
    "    if 'channel_fm' not in df8_big.columns:\n",
    "        pass\n",
    "    else:\n",
    "        df8_big = df8_big.set_index('well').join(channels8_fu[['well','channel_fm']].set_index('well')).reset_index()\n",
    "    return channels8_fu\n",
    "channels8_fu = channels8_fu_creation(df8_big)\n",
    "channels8_fu.to_csv(r'C:\\jupyter\\SPP\\output\\channels\\logs8_big_channels.csv', index=False)"
   ]
  },
  {
   "cell_type": "code",
   "execution_count": null,
   "metadata": {},
   "outputs": [],
   "source": [
    "def bar_chart_channels(channels_fu, field_name):\n",
    "    data = channels_fu[channels_fu.field == field_name].sort_values('channel_fm')\n",
    "    plt.figure(figsize=(15, 6))\n",
    "    sns.barplot(data = data, x='well', y='tst', hue='channel_fm', width=1)\n",
    "    plt.xticks(rotation=45);\n",
    "    plt.title('Channels in ' + field_name)\n",
    "\n",
    "bar_chart_channels(channels8_fu, '1_west')\n",
    "bar_chart_channels(channels8_fu, '2_central')\n",
    "bar_chart_channels(channels8_fu, '3_east')"
   ]
  },
  {
   "cell_type": "markdown",
   "metadata": {},
   "source": [
    "# Final plot bal8"
   ]
  },
  {
   "cell_type": "code",
   "execution_count": null,
   "metadata": {},
   "outputs": [],
   "source": [
    "def logs_display(df_big, field_sel, gaus_f, channel_cutoff, row=2, col=6, ):\n",
    "    field = df_big[df_big.field == field_sel]\n",
    "    fig, ax = plt.subplots(row,col, figsize=(col*2, row*3))\n",
    "    k = 0\n",
    "    if row > 1:\n",
    "        for i in range(row):\n",
    "            for j in range(col):\n",
    "                wellname = field.well.unique()[k]\n",
    "                data = field[field.well == wellname]\n",
    "                vsh_clip_smoothed = gaussian_filter(data.vsh_clip, sigma=gaus_f)\n",
    "                ax[i,j].plot(data.vsh_clip, data.tst, c='green', alpha=0.5, lw=2)\n",
    "                ax[i,j].plot(data.vsh_cube, data.tst, c='black', alpha=1, lw=1, zorder=3)\n",
    "                ax[i,j].plot(vsh_clip_smoothed, data.tst, c='red', alpha=1, lw=1)\n",
    "                ax[i,j].plot(data.net_chanel, data.tst, c='orange', alpha=0.5)\n",
    "                ax[i,j].fill_betweenx(data.tst, 0, data.net_chanel, color='orange', alpha=0.5)\n",
    "                ax[i,j].set_title(wellname + ' ch:' + str(channel_cutoff) + 'm')\n",
    "                ax[i,j].invert_yaxis()\n",
    "                ax[i,j].grid()\n",
    "                if k == len(field.well.unique())-1:\n",
    "                    break\n",
    "                else:\n",
    "                    k += 1\n",
    "        plt.tight_layout()\n",
    "    else:\n",
    "        for j in range(col):\n",
    "            wellname = field.well.unique()[k]\n",
    "            data = field[field.well == wellname]\n",
    "            vsh_clip_smoothed = gaussian_filter(data.vsh_clip, sigma=gaus_f)\n",
    "            ax[j].plot(data.vsh_clip, data.tst, c='green', alpha=0.5, lw=2)\n",
    "            ax[j].plot(vsh_clip_smoothed, data.tst, c='red', alpha=1, lw=1)\n",
    "            ax[j].plot(data.net_chanel, data.tst, c='orange', alpha=0.5)\n",
    "            ax[j].fill_betweenx(data.tst, 0, data.net_chanel, color='orange', alpha=0.5)\n",
    "            ax[j].set_title(wellname  + ' ch:' +  str(channel_cutoff) + 'm')\n",
    "            ax[j].invert_yaxis()\n",
    "            ax[j].grid()\n",
    "            if k == len(field.well.unique())-1:\n",
    "                break\n",
    "            else:\n",
    "                k += 1\n",
    "        plt.tight_layout()\n",
    "\n",
    "logs_display(df8_big, '2_CENTRAL AZERI',10, channel_cutoff8, 4, 6)\n",
    "logs_display(df8_big, '3_EAST AZERI', 10, channel_cutoff8, 3, 6)\n",
    "logs_display(df8_big, '1_WEST AZERI',10, channel_cutoff8, 2, 6)"
   ]
  },
  {
   "cell_type": "code",
   "execution_count": 1,
   "metadata": {},
   "outputs": [],
   "source": [
    "# ОЦЕНИТЬ ВКЛАД КАНАЛОВ В ОБЩИЙ KHtst"
   ]
  },
  {
   "cell_type": "code",
   "execution_count": null,
   "metadata": {},
   "outputs": [],
   "source": []
  },
  {
   "cell_type": "code",
   "execution_count": null,
   "metadata": {},
   "outputs": [],
   "source": []
  },
  {
   "cell_type": "markdown",
   "metadata": {},
   "source": [
    "# Processing bal10"
   ]
  },
  {
   "cell_type": "code",
   "execution_count": null,
   "metadata": {},
   "outputs": [],
   "source": [
    "quantiles = df10_ntd[df10_ntd['htst'] >= 2]['htst'].quantile([0.25, 0.5, 0.75])\n",
    "quantiles_v2 = pd.DataFrame(quantiles).T\n",
    "display(quantiles_v2)\n",
    "\n",
    "channel_cutoff10 = 8\n",
    "def chanel_data_preproc(df, df_ntd, channel_cutoff, add_wells):\n",
    "    # df8_ntd_big = df8_ntd[(df8_ntd['htst'] >=channel_cutoff) & ((df8_ntd['top_htst'] <= 0.5) | (df8_ntd['bot_htst'] <= 0.5))]\n",
    "    df_ntd_big = df_ntd[(df_ntd['htst'] >=channel_cutoff)]\n",
    "    qnt_layers = df_ntd_big.groupby('well')['well'].count()\n",
    "    df_ntd_big_v2 = df_ntd_big.set_index('well').join(qnt_layers).rename(columns={'well': 'qnt_layers'}).reset_index()\n",
    "\n",
    "    well_big = df_ntd_big_v2.well.unique()\n",
    "    well_big = np.append(well_big, add_wells)\n",
    "\n",
    "    df_big = df[df['well'].isin(well_big)]\n",
    "    df_big['vsh_clip'] = 1\n",
    "    df_big.loc[df_big.net == 1, 'vsh_clip'] = df_big.vsh\n",
    "    df_big['net_chanel'] = 0\n",
    "    df_big.loc[df_big.htst_ntd >=channel_cutoff, 'net_chanel'] = 1\n",
    "    return df_big, df_ntd_big_v2\n",
    "df10_big, df10_ntd_big_v2 = chanel_data_preproc(df10, df10_ntd, channel_cutoff10, [])\n",
    "\n",
    "def field_qnt(df):\n",
    "    fields_qnt = df.groupby('well')['field'].first().reset_index()\n",
    "    field_df = pd.DataFrame(fields_qnt.value_counts('field')).T\n",
    "    display(field_df)\n",
    "field_qnt(df10_big)"
   ]
  },
  {
   "cell_type": "markdown",
   "metadata": {},
   "source": [
    "# Analyse bal10"
   ]
  },
  {
   "cell_type": "code",
   "execution_count": null,
   "metadata": {},
   "outputs": [],
   "source": [
    "def box_plot_channels(df, df_big, channel_cutoff, comment):\n",
    "    df = df[df.phit_flag == 1]\n",
    "    df['khtst'] = df['khtst'].round(0).astype(int)\n",
    "    df_khtst = df.groupby('well')['khtst'].first().reset_index()\n",
    "    df_khtst['channel_group'] = 'non-channel'\n",
    "    custom_palette = {'channel': 'orange', 'non-channel': 'green'}\n",
    "    df_khtst.loc[df_khtst['well'].isin(df_big['well'].unique()), 'channel_group'] = 'channel'\n",
    "    df_khtst.sort_values('channel_group', inplace=True)\n",
    "    fig, ax = plt.subplots(1,2, figsize=(15, 6))\n",
    "    sns.boxplot(data=df_khtst, x='channel_group', y='khtst', hue='channel_group', palette=custom_palette, ax=ax[0])\n",
    "    ax[0].set_title(comment + 'khtst distribution channel:' + str(channel_cutoff) + 'm')\n",
    "    ax[0].grid()\n",
    "    sum_wells = df[df.net == 1].groupby('well')[['net','phit']].sum().reset_index()\n",
    "    sum_wells = sum_wells.rename(columns={'net': 'htst_sum', 'phit': 'phit_sum'})\n",
    "    sum_wells['htst_sum'] = sum_wells['htst_sum']*0.1\n",
    "    sum_wells = sum_wells[sum_wells['htst_sum'] >= 10]\n",
    "    sum_wells['channel_group'] = 'non-channel'\n",
    "    sum_wells.loc[sum_wells['well'].isin(df_big['well'].unique()), 'channel_group'] = 'channel'\n",
    "    custom_palette = {'channel': 'orange', 'non-channel': 'green'}\n",
    "    sum_wells = sum_wells[(sum_wells['phit_sum'] < 100)]\n",
    "    sns.scatterplot(data=sum_wells, x='htst_sum', y='phit_sum', hue='channel_group', palette=custom_palette, ax=ax[1])\n",
    "    return df_khtst\n",
    "df10_khtst = box_plot_channels(df10, df10_big, channel_cutoff10, 'bal10 ')\n",
    "df10_khtst[(df10_khtst.channel_group == 'non-channel') & (df10_khtst.khtst > 6000)].T"
   ]
  },
  {
   "cell_type": "code",
   "execution_count": null,
   "metadata": {},
   "outputs": [],
   "source": [
    "def chanel_data_preproc(df, df_ntd, channel_cutoff, add_wells):\n",
    "    # df8_ntd_big = df8_ntd[(df8_ntd['htst'] >=channel_cutoff) & ((df8_ntd['top_htst'] <= 0.5) | (df8_ntd['bot_htst'] <= 0.5))]\n",
    "    df_ntd_big = df_ntd[(df_ntd['htst'] >=channel_cutoff)]\n",
    "    qnt_layers = df_ntd_big.groupby('well')['well'].count()\n",
    "    df_ntd_big_v2 = df_ntd_big.set_index('well').join(qnt_layers).rename(columns={'well': 'qnt_layers'}).reset_index()\n",
    "\n",
    "    well_big = df_ntd_big_v2.well.unique()\n",
    "    well_big = np.append(well_big, add_wells)\n",
    "\n",
    "    df_big = df[df['well'].isin(well_big)]\n",
    "    df_big['vsh_clip'] = 1\n",
    "    df_big.loc[df_big.net == 1, 'vsh_clip'] = df_big.vsh\n",
    "    df_big['net_chanel'] = 0\n",
    "    df_big.loc[df_big.htst_ntd >=channel_cutoff, 'net_chanel'] = 1\n",
    "    return df_big, df_ntd_big_v2\n",
    "# df8_big, df8_ntd_big_v2 = chanel_data_preproc(df8, df8_ntd, channel_cutoff, ['B01Y', 'B26',\t'C16'])\n",
    "df10_big, df10_ntd_big_v2 = chanel_data_preproc(df10, df10_ntd, channel_cutoff10, ['E31', 'C16'])\n",
    "\n",
    "def field_qnt(df, df_big, channel_cutoff):\n",
    "    fields_qnt = df_big.groupby('well')['field'].first().reset_index()\n",
    "    field_df = pd.DataFrame(fields_qnt.value_counts('field')).T\n",
    "    display(field_df)\n",
    "    print(f\"wells with chanells up to {channel_cutoff} m: \\\n",
    "{pd.DataFrame(fields_qnt.value_counts('field'))['count'].sum()} out of {len(df['well'].unique())} wells\")\n",
    "\n",
    "field_qnt(df10, df10_big, channel_cutoff10)"
   ]
  },
  {
   "cell_type": "code",
   "execution_count": 33,
   "metadata": {},
   "outputs": [],
   "source": [
    "df10['channel_presence'] = 'no'\n",
    "df10.loc[df10.well.isin(df10_big.well.unique()), 'channel_presence'] = 'yes'\n",
    "df10_full = df10.set_index(['well','tst']).join(\n",
    "    df10_big[['well','tst','vsh_clip','net_chanel']].set_index(['well','tst'])).reset_index()\n",
    "df10_full.to_csv(r'C:\\jupyter\\SPP\\output\\channels\\logs10_full.csv')"
   ]
  },
  {
   "cell_type": "markdown",
   "metadata": {},
   "source": [
    "# Histo & csv bal10"
   ]
  },
  {
   "cell_type": "code",
   "execution_count": 35,
   "metadata": {},
   "outputs": [],
   "source": [
    "def channels10_fu_creation(df10_big):\n",
    "    channels10_fu = df10_big.groupby(['well','net_chanel','formation'])['tst'].count().reset_index()\n",
    "    channels10_fu = channels10_fu[channels10_fu.net_chanel == 1]\n",
    "    channels10_fu['field'] = 'field_name'\n",
    "    channels10_fu.loc[channels10_fu.well.str.startswith('A'), 'field'] = 'chirag'\n",
    "    channels10_fu.loc[channels10_fu.well.str.startswith('B'), 'field'] = 'central_az'\n",
    "    channels10_fu.loc[channels10_fu.well.str.startswith('C'), 'field'] = 'west_az'\n",
    "    channels10_fu.loc[channels10_fu.well.str.startswith('D'), 'field'] = 'east_az'\n",
    "    channels10_fu.loc[channels10_fu.well.str.startswith('E'), 'field'] = 'dwg'\n",
    "    channels10_fu.loc[channels10_fu.well.str.startswith('F'), 'field'] = 'ddgg'\n",
    "    channels10_fu.loc[channels10_fu.well.str.startswith('J'), 'field'] = 'west_ch'\n",
    "    channels10_fu['tst'] = channels10_fu['tst']*0.1\n",
    "    channels10_fu = channels10_fu.rename(columns={'tst': 'htst_channel'})\n",
    "    xy10 = df10_big.groupby(['well','formation'])[['xmean','ymean']].first()\n",
    "    channels10_fu = channels10_fu.set_index(['well','formation']).join(xy10).reset_index()\n",
    "\n",
    "    channels10_fu = channels10_fu[channels10_fu.htst_channel > 2]\n",
    "    channels10_fu = channels10_fu.rename(columns={'formation': 'channel_fm'})\n",
    "    if 'channel_fm' not in df10_big.columns:\n",
    "        pass\n",
    "    else:\n",
    "        df10_big = df10_big.set_index('well').join(channels10_fu[['well','channel_fm']].set_index('well')).reset_index()\n",
    "    return channels10_fu\n",
    "channels10_fu = channels10_fu_creation(df10_big)\n",
    "channels10_fu.to_csv(r'C:\\jupyter\\SPP\\output\\channels\\logs10_big_channels.csv', index=False)"
   ]
  },
  {
   "cell_type": "code",
   "execution_count": null,
   "metadata": {},
   "outputs": [],
   "source": [
    "def bar_chart_channels(channels_fu, field_name):\n",
    "    data = channels_fu[channels_fu.field == field_name].sort_values('channel_fm')\n",
    "    plt.figure(figsize=(15, 6))\n",
    "    sns.barplot(data = data, x='well', y='tst', hue='channel_fm', width=1)\n",
    "    plt.xticks(rotation=45);\n",
    "    plt.title('Channels in ' + field_name)\n",
    "\n",
    "bar_chart_channels(channels10_fu, 'west_ch')\n",
    "bar_chart_channels(channels10_fu, 'chirag')\n",
    "# bar_chart_channels(channels_fu, '3_east')"
   ]
  },
  {
   "cell_type": "markdown",
   "metadata": {},
   "source": [
    "# Final plot bal10"
   ]
  },
  {
   "cell_type": "code",
   "execution_count": null,
   "metadata": {},
   "outputs": [],
   "source": [
    "def field_qnt(df):\n",
    "    fields_qnt = df.groupby('well')['field'].first().reset_index()\n",
    "    field_df = pd.DataFrame(fields_qnt.value_counts('field')).T\n",
    "    display(field_df)\n",
    "field_qnt(df10_big)"
   ]
  },
  {
   "cell_type": "code",
   "execution_count": null,
   "metadata": {},
   "outputs": [],
   "source": [
    "def logs_display(df_big, field_sel, gaus_f, channel_cutoff, row=2, col=6, ):\n",
    "    field = df_big[df_big.field == field_sel]\n",
    "    fig, ax = plt.subplots(row,col, figsize=(col*2, row*3))\n",
    "    k = 0\n",
    "    if row > 1:\n",
    "        for i in range(row):\n",
    "            for j in range(col):\n",
    "                wellname = field.well.unique()[k]\n",
    "                data = field[field.well == wellname]\n",
    "                vsh_clip_smoothed = gaussian_filter(data.vsh_clip, sigma=gaus_f)\n",
    "                ax[i,j].plot(data.vsh_clip, data.tst, c='green', alpha=0.5, lw=2)\n",
    "                ax[i,j].plot(data.vsh_cube, data.tst, c='black', alpha=1, lw=1, zorder=3)\n",
    "                ax[i,j].plot(vsh_clip_smoothed, data.tst, c='red', alpha=1, lw=1)\n",
    "                ax[i,j].plot(data.net_chanel, data.tst, c='orange', alpha=0.5)\n",
    "                ax[i,j].fill_betweenx(data.tst, 0, data.net_chanel, color='orange', alpha=0.5)\n",
    "                ax[i,j].set_title(wellname + ' ch:' + str(channel_cutoff) + 'm')\n",
    "                ax[i,j].invert_yaxis()\n",
    "                ax[i,j].grid()\n",
    "                if k == len(field.well.unique())-1:\n",
    "                    break\n",
    "                else:\n",
    "                    k += 1\n",
    "        plt.tight_layout()\n",
    "    else:\n",
    "        for j in range(col):\n",
    "            wellname = field.well.unique()[k]\n",
    "            data = field[field.well == wellname]\n",
    "            vsh_clip_smoothed = gaussian_filter(data.vsh_clip, sigma=gaus_f)\n",
    "            ax[j].plot(data.vsh_clip, data.tst, c='green', alpha=0.5, lw=2)\n",
    "            ax[j].plot(vsh_clip_smoothed, data.tst, c='red', alpha=1, lw=1)\n",
    "            ax[j].plot(data.net_chanel, data.tst, c='orange', alpha=0.5)\n",
    "            ax[j].fill_betweenx(data.tst, 0, data.net_chanel, color='orange', alpha=0.5)\n",
    "            ax[j].set_title(wellname  + ' ch:' +  str(channel_cutoff) + 'm')\n",
    "            ax[j].invert_yaxis()\n",
    "            ax[j].grid()\n",
    "            if k == len(field.well.unique())-1:\n",
    "                break\n",
    "            else:\n",
    "                k += 1\n",
    "        plt.tight_layout()\n",
    "\n",
    "logs_display(df10_big, 'DWG', 10, channel_cutoff10, 3, 6)\n",
    "logs_display(df10_big, 'DDGG', 10, channel_cutoff10, 2, 6)\n",
    "logs_display(df10_big, 'WEST CHIRAG', 10, channel_cutoff10, 2, 6)\n",
    "logs_display(df10_big, 'CHIRAG',10, channel_cutoff10, 2, 6)\n",
    "logs_display(df10_big, 'EAST AZERI',10, channel_cutoff10, 3, 6)\n",
    "logs_display(df10_big, 'CENTRAL AZERI',10, channel_cutoff10, 1, 6)\n",
    "logs_display(df10_big, 'WEST AZERI',10, channel_cutoff10, 2, 6)"
   ]
  },
  {
   "cell_type": "code",
   "execution_count": null,
   "metadata": {},
   "outputs": [],
   "source": []
  },
  {
   "cell_type": "code",
   "execution_count": null,
   "metadata": {},
   "outputs": [],
   "source": []
  },
  {
   "cell_type": "code",
   "execution_count": null,
   "metadata": {},
   "outputs": [],
   "source": []
  }
 ],
 "metadata": {
  "kernelspec": {
   "display_name": "Python 3",
   "language": "python",
   "name": "python3"
  },
  "language_info": {
   "codemirror_mode": {
    "name": "ipython",
    "version": 3
   },
   "file_extension": ".py",
   "mimetype": "text/x-python",
   "name": "python",
   "nbconvert_exporter": "python",
   "pygments_lexer": "ipython3",
   "version": "3.11.4"
  }
 },
 "nbformat": 4,
 "nbformat_minor": 2
}
