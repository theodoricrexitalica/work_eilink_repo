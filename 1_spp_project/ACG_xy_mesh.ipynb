{
 "cells": [
  {
   "cell_type": "code",
   "execution_count": 3,
   "metadata": {},
   "outputs": [],
   "source": [
    "import warnings\n",
    "warnings.filterwarnings('ignore')\n",
    "\n",
    "import pandas as pd\n",
    "import matplotlib.pyplot as plt\n",
    "import plotly.graph_objects as go\n",
    "import numpy as np\n",
    "from shapely.geometry import Point, Polygon\n",
    "import geopandas as gpd\n",
    "\n",
    "pd.set_option(\"display.precision\", 3)\n",
    "pd.set_option('display.float_format', lambda x: '%.5f' % x)\n",
    "pd.set_option('display.max_columns', 15)"
   ]
  },
  {
   "cell_type": "code",
   "execution_count": 4,
   "metadata": {},
   "outputs": [],
   "source": [
    "df_bal8_azr_vshclp2 = pd.read_csv('C:\\jupyter\\SPP\\inputoutput\\df_bal8_azr_vshclp2.csv').drop('Unnamed: 0', axis=1)\n",
    "\n",
    "df_bal8_azr_vshclp2 = df_bal8_azr_vshclp2[~df_bal8_azr_vshclp2.well.isin(['E20Y', 'E10Z', 'J13X'])]\n",
    "well_phit_flag8 = df_bal8_azr_vshclp2[df_bal8_azr_vshclp2.phit_flag==1].groupby('well')['phit_flag'].apply(lambda x: x.iloc[0]).reset_index().well.unique()"
   ]
  },
  {
   "cell_type": "code",
   "execution_count": null,
   "metadata": {},
   "outputs": [],
   "source": [
    "x_max = df_bal8_azr_vshclp2.X_traj.max()\n",
    "x_min = df_bal8_azr_vshclp2.X_traj.min()\n",
    "y_max = df_bal8_azr_vshclp2.Y_traj.max()\n",
    "y_min = df_bal8_azr_vshclp2.Y_traj.min()\n",
    "print(x_min, x_max, y_min, y_max)\n",
    "print(int(x_max-x_min), int(y_max-y_min))\n",
    "x_mesh = np.arange(x_min-300, x_max+300, 356)\n",
    "y_mesh = np.arange(y_min-300, y_max+300, 200)\n",
    "X, Y = np.meshgrid(x_mesh, y_mesh)\n",
    "wells = df_bal8_azr_vshclp2.groupby('well')[['Xmean', 'Ymean']].apply(lambda x: x.iloc[0]).reset_index()\n",
    "plt.subplots(figsize=(7, 5))\n",
    "plt.scatter(X, Y, s=1, c='r', marker='o')\n",
    "plt.scatter(wells.Xmean, wells.Ymean, s=10, c='b', marker='o')\n",
    "print(x_mesh.shape, y_mesh.shape)"
   ]
  },
  {
   "cell_type": "code",
   "execution_count": 6,
   "metadata": {},
   "outputs": [],
   "source": [
    "X_flat = X.ravel()\n",
    "Y_flat = Y.ravel()\n",
    "df = pd.DataFrame({'X': X_flat, 'Y': Y_flat})\n",
    "df = df.reset_index()\n",
    "df['well'] = 'well_' + df['index'].astype(str)\n",
    "df = df.drop('index', axis=1)"
   ]
  },
  {
   "cell_type": "code",
   "execution_count": 70,
   "metadata": {},
   "outputs": [],
   "source": [
    "geometry_fld = [Point(xy) for xy in zip(df_bal8_azr_vshclp2['Xmean'], df_bal8_azr_vshclp2['Ymean'])]\n",
    "geometry_fld = gpd.GeoDataFrame(geometry_fld, geometry=geometry_fld)\n",
    "buffers_fld = geometry_fld.buffer(250)\n",
    "field_polygon = gpd.GeoDataFrame(geometry=[buffers_fld.unary_union.convex_hull])"
   ]
  },
  {
   "cell_type": "code",
   "execution_count": 64,
   "metadata": {},
   "outputs": [],
   "source": [
    "geometry_wells = [Point(xy) for xy in zip(df['X'], df['Y'])]\n",
    "geometry_wells = gpd.GeoDataFrame(geometry_wells, geometry=geometry_wells)"
   ]
  },
  {
   "cell_type": "code",
   "execution_count": 72,
   "metadata": {},
   "outputs": [],
   "source": [
    "intersection_points = gpd.sjoin(geometry_wells, field_polygon, op='within')"
   ]
  },
  {
   "cell_type": "code",
   "execution_count": null,
   "metadata": {},
   "outputs": [],
   "source": [
    "fig, ax = plt.subplots(figsize=(15, 7))\n",
    "field_polygon.plot(ax=ax, color='green', alpha=0.5)\n",
    "x.scatter(intersection_points.geometry.x, intersection_points.geometry.y, s=1, c='r', marker='o')\n",
    "ax.scatter(wells.Xmean, wells.Ymean, s=10, c='b', marker='+')"
   ]
  }
 ],
 "metadata": {
  "kernelspec": {
   "display_name": "Python 3",
   "language": "python",
   "name": "python3"
  },
  "language_info": {
   "codemirror_mode": {
    "name": "ipython",
    "version": 3
   },
   "file_extension": ".py",
   "mimetype": "text/x-python",
   "name": "python",
   "nbconvert_exporter": "python",
   "pygments_lexer": "ipython3",
   "version": "3.11.4"
  }
 },
 "nbformat": 4,
 "nbformat_minor": 2
}
