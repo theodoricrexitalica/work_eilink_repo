{
 "cells": [
  {
   "cell_type": "code",
   "execution_count": 79,
   "metadata": {},
   "outputs": [],
   "source": [
    "import warnings\n",
    "warnings.filterwarnings('ignore')\n",
    "\n",
    "import numpy as np\n",
    "import pandas as pd\n",
    "import matplotlib.pyplot as plt\n",
    "import seaborn as sns\n",
    "import plotly.graph_objects as go\n",
    "from tqdm import tqdm\n",
    "from scipy.ndimage import gaussian_filter\n",
    "\n",
    "pd.options.display.precision = 3\n",
    "pd.options.display.float_format = lambda x: '%.5f' % x\n",
    "pd.options.display.max_columns = 15\n",
    "pd.options.display.max_rows = 6"
   ]
  },
  {
   "cell_type": "code",
   "execution_count": null,
   "metadata": {},
   "outputs": [],
   "source": [
    "df = pd.read_csv(r'C:\\jupyter\\SPP\\support\\B40_rectangle_VSH.csv').drop(columns=['Unnamed: 0'])\n",
    "df.columns"
   ]
  },
  {
   "cell_type": "code",
   "execution_count": null,
   "metadata": {},
   "outputs": [],
   "source": [
    "def correl_panel_display():\n",
    "    fig, ax = plt.subplots(1, 5, figsize=(15, 10))\n",
    "    vsh_smo_trac = gaussian_filter(df['VSH_trac'], sigma=15)\n",
    "\n",
    "    ax[0].plot(vsh_smo_trac, df['DEPTH'], color='r', lw=2)\n",
    "    vsh_smo_1 = gaussian_filter(df['VSH1'], sigma=15)\n",
    "    ax[0].plot(vsh_smo_1, df['DEPTH1'], color='b')\n",
    "    ax[0].set_title(df['wellName'].iloc[0] + ' VSH1 +0')\n",
    "\n",
    "    ax[1].plot(vsh_smo_trac, df['DEPTH'], color='r', lw=2)\n",
    "    vsh_smo_2 = gaussian_filter(df['VSH2'], sigma=20)\n",
    "    ax[1].plot(vsh_smo_2, df['DEPTH2']-115, color='g');\n",
    "    ax[1].set_title('VSH2 -115')\n",
    "\n",
    "    ax[2].plot(vsh_smo_trac, df['DEPTH'], color='r', lw=2)\n",
    "    vsh_smo_3 = gaussian_filter(df['VSH3'], sigma=15)\n",
    "    ax[2].plot(vsh_smo_3, df['DEPTH3']-13, color='y')\n",
    "    ax[2].set_title('VSH3 -13')\n",
    "\n",
    "    ax[3].plot(vsh_smo_trac, df['DEPTH'], color='r', lw=2)\n",
    "    vsh_smo_4 = gaussian_filter(df['VSH4'], sigma=15)\n",
    "    ax[3].plot(vsh_smo_4, df['DEPTH4']-25, color='c')\n",
    "    ax[3].set_title('VSH4 -25')\n",
    "\n",
    "    ax[4].plot(vsh_smo_trac, df['DEPTH'], color='r', lw=2)\n",
    "    vsh_smo_5 = gaussian_filter(df['VSH5'], sigma=15)\n",
    "    ax[4].plot(vsh_smo_5, df['DEPTH5']+55, color='m')\n",
    "    # ax[4].plot(vsh_smo_3, df['DEPTH3']-35, color='y')\n",
    "    ax[4].set_title('VSH5 +55')\n",
    "    fig.suptitle('VSH correls with vert offset', y=0.93, fontsize=16);\n",
    "correl_panel_display()"
   ]
  }
 ],
 "metadata": {
  "kernelspec": {
   "display_name": "Python 3",
   "language": "python",
   "name": "python3"
  },
  "language_info": {
   "codemirror_mode": {
    "name": "ipython",
    "version": 3
   },
   "file_extension": ".py",
   "mimetype": "text/x-python",
   "name": "python",
   "nbconvert_exporter": "python",
   "pygments_lexer": "ipython3",
   "version": "3.11.4"
  }
 },
 "nbformat": 4,
 "nbformat_minor": 2
}
